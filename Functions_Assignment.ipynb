{
  "nbformat": 4,
  "nbformat_minor": 0,
  "metadata": {
    "colab": {
      "provenance": []
    },
    "kernelspec": {
      "name": "python3",
      "display_name": "Python 3"
    },
    "language_info": {
      "name": "python"
    }
  },
  "cells": [
    {
      "cell_type": "markdown",
      "source": [
        "#A. Theory Questions:\n"
      ],
      "metadata": {
        "id": "hmO9torTbaCQ"
      }
    },
    {
      "cell_type": "markdown",
      "source": [
        "####Q1. What is the difference between a function and a method in Python?\n",
        "- Function: A block of reusable code that is called independently and defined using the def keyword. It is not bound to any object.\n",
        "- Method: A function that is bound to an object and called on that object. It is defined within a class."
      ],
      "metadata": {
        "id": "rQ4v1PK4bfH3"
      }
    },
    {
      "cell_type": "code",
      "source": [
        "# Function\n",
        "def greet(name):\n",
        "    return f\"Hello, {name}\"\n",
        "\n",
        "print(greet(\"Nitin\"))  # Calling a function\n",
        "\n",
        "# Method\n",
        "class Greeter:\n",
        "    def greet(self, name):\n",
        "        return f\"Hello, {name}\"\n",
        "\n",
        "greeter = Greeter()\n",
        "print(greeter.greet(\"Nitin\"))  # Calling a method on an object\n"
      ],
      "metadata": {
        "id": "dNXS0MB9b9W2"
      },
      "execution_count": null,
      "outputs": []
    },
    {
      "cell_type": "markdown",
      "source": [
        "####Q2. Explain the concept of function arguments and parameters in Python.\n",
        "- Parameters: Variables defined in a function signature (used when defining the function).\n",
        "- Arguments: Values passed to the function when calling it.\n"
      ],
      "metadata": {
        "id": "dYKNwLBJcrQn"
      }
    },
    {
      "cell_type": "code",
      "source": [
        "def greet(name):  # `name` is the parameter\n",
        "    return f\"Hello, {name}\"\n",
        "\n",
        "print(greet(\"Nitin\"))  # `\"Nitin\"` is the argument\n"
      ],
      "metadata": {
        "id": "BN8Ywnc_dW1m"
      },
      "execution_count": null,
      "outputs": []
    },
    {
      "cell_type": "markdown",
      "source": [
        "####Q3. What are the different ways to define and call a function in Python?\n"
      ],
      "metadata": {
        "id": "C9VPhgx3e34-"
      }
    },
    {
      "cell_type": "code",
      "source": [
        "#Define a function using def:\n",
        "def add(a, b):\n",
        "    return a + b\n",
        "print(add(5, 3))  # Call function\n",
        "\n",
        "#Lambda function:\n",
        "\n",
        "add = lambda a, b: a + b\n",
        "print(add(5, 3))  # Call lambda function"
      ],
      "metadata": {
        "id": "wy-p_7L6eWeG"
      },
      "execution_count": null,
      "outputs": []
    },
    {
      "cell_type": "markdown",
      "source": [
        "####Q4. What is the purpose of the `return` statement in a Python function?\n",
        "- The return statement is used to send the result of a function back to the caller. Without it, the function returns None."
      ],
      "metadata": {
        "id": "v6HmuP2LduGd"
      }
    },
    {
      "cell_type": "code",
      "source": [
        "def square(num):\n",
        "    return num * num\n",
        "\n",
        "print(square(4))\n",
        "# Output: 16\n"
      ],
      "metadata": {
        "id": "Wl_5NNIefrtE"
      },
      "execution_count": null,
      "outputs": []
    },
    {
      "cell_type": "markdown",
      "source": [
        "####Q5. What are iterators in Python and how do they differ from iterables?"
      ],
      "metadata": {
        "id": "Sr4Jo-4VgOU8"
      }
    },
    {
      "cell_type": "markdown",
      "source": [
        "- Iterable: An object that can return an iterator using iter() (e.g., lists, tuples).\n",
        "\n",
        "- Iterator: An object that produces values one at a time using next(). It is created from an iterable."
      ],
      "metadata": {
        "id": "ecGNiZRxwMTO"
      }
    },
    {
      "cell_type": "code",
      "source": [
        "\n",
        "my_list = [1, 2, 3]  # Iterable\n",
        "it = iter(my_list)  # Iterator\n",
        "print(next(it))  # Output: 1\n",
        "print(next(it))  # Output: 2"
      ],
      "metadata": {
        "id": "jEkDir_6wFnG"
      },
      "execution_count": null,
      "outputs": []
    },
    {
      "cell_type": "markdown",
      "source": [
        "###Q6. Explain the concept of generators in Python and how they are defined."
      ],
      "metadata": {
        "id": "5nNNUNToxFQy"
      }
    },
    {
      "cell_type": "markdown",
      "source": [
        "- A generator is a function that produces values one at a time using the yield keyword. It remembers its state between calls."
      ],
      "metadata": {
        "id": "NSejk_cIxkKT"
      }
    },
    {
      "cell_type": "code",
      "source": [
        "def my_generator():\n",
        "    yield 1\n",
        "    yield 2\n",
        "    yield 3\n",
        "gen = my_generator()\n",
        "print(next(gen))  # Output: 1\n",
        "print(next(gen))  # Output: 2\n",
        "print(next(gen))  # Output: 3\n",
        "\n"
      ],
      "metadata": {
        "colab": {
          "base_uri": "https://localhost:8080/"
        },
        "id": "BEvEm-8zxOay",
        "outputId": "22bb2cea-3f04-430e-f38e-8ee7cc8cb460"
      },
      "execution_count": null,
      "outputs": [
        {
          "output_type": "stream",
          "name": "stdout",
          "text": [
            "1\n",
            "2\n",
            "3\n"
          ]
        }
      ]
    },
    {
      "cell_type": "markdown",
      "source": [
        "####Q7. What are the advantages of using generators over regular functions?"
      ],
      "metadata": {
        "id": "4PID2wVkzU9M"
      }
    },
    {
      "cell_type": "markdown",
      "source": [
        "- Memory efficient: Generators don’t store all values in memory; they generate values on the fly.\n",
        "\n",
        "- Faster iteration: No need to create and store a full list in memory."
      ],
      "metadata": {
        "id": "UMB1Fe0Bzlr1"
      }
    },
    {
      "cell_type": "code",
      "source": [
        "# Generator for numbers\n",
        "def numbers():\n",
        "    for i in range(5):\n",
        "        yield i\n",
        "for num in numbers():\n",
        "    print(num)  # Outputs: 0, 1, 2, 3, 4\n"
      ],
      "metadata": {
        "id": "jz7-NxSAzUQm"
      },
      "execution_count": null,
      "outputs": []
    },
    {
      "cell_type": "markdown",
      "source": [
        "####Q8. What is a lambda function in Python and when is it typically used?"
      ],
      "metadata": {
        "id": "z72S5uFy0Plg"
      }
    },
    {
      "cell_type": "markdown",
      "source": [
        "- A lambda function is a small, anonymous function defined using the lambda keyword. It is used for short, simple operations."
      ],
      "metadata": {
        "id": "VyMYMLtd0UWC"
      }
    },
    {
      "cell_type": "code",
      "source": [
        "square = lambda x: x * x\n",
        "print(square(4))  # Output: 16\n"
      ],
      "metadata": {
        "id": "Z_ICgwtI0YIP"
      },
      "execution_count": null,
      "outputs": []
    },
    {
      "cell_type": "markdown",
      "source": [
        "####Q9. Explain the purpose and usage of the `map()` function in Python."
      ],
      "metadata": {
        "id": "UYSxpR3u0tND"
      }
    },
    {
      "cell_type": "markdown",
      "source": [
        "- The map() function applies a given function to each item in an iterable."
      ],
      "metadata": {
        "id": "B64VvRUj0wGo"
      }
    },
    {
      "cell_type": "code",
      "source": [
        "nums = [1, 2, 3]\n",
        "squared = map(lambda x: x * x, nums)\n",
        "print(list(squared))  # Output: [1, 4, 9]\n"
      ],
      "metadata": {
        "id": "SEEREu-J048I"
      },
      "execution_count": null,
      "outputs": []
    },
    {
      "cell_type": "markdown",
      "source": [
        "####Q10. What is the difference between map(), reduce(), and filter() functions in Python?"
      ],
      "metadata": {
        "id": "P0ph66_M-jNl"
      }
    },
    {
      "cell_type": "markdown",
      "source": [
        "- map(): Applies a function to each element of an iterable."
      ],
      "metadata": {
        "id": "wtQ4N3y--srs"
      }
    },
    {
      "cell_type": "code",
      "source": [
        "nums = [1, 2, 3]\n",
        "print(list(map(lambda x: x * 2, nums)))  # Output: [2, 4, 6]"
      ],
      "metadata": {
        "id": "PARJUBz6-pXL"
      },
      "execution_count": null,
      "outputs": []
    },
    {
      "cell_type": "markdown",
      "source": [
        "- reduce(): Reduces an iterable to a single value using a function."
      ],
      "metadata": {
        "id": "OBguK8E0-49E"
      }
    },
    {
      "cell_type": "code",
      "source": [
        "from functools import reduce\n",
        "nums = [1, 2, 3]\n",
        "print(reduce(lambda x, y: x + y, nums))  # Output: 6"
      ],
      "metadata": {
        "id": "q1ZX8DI7--lr"
      },
      "execution_count": null,
      "outputs": []
    },
    {
      "cell_type": "markdown",
      "source": [
        "- filter(): Filters elements from an iterable based on a condition."
      ],
      "metadata": {
        "id": "KQniywY1_X71"
      }
    },
    {
      "cell_type": "code",
      "source": [
        "nums = [1, 2, 3, 4]\n",
        "print(list(filter(lambda x: x % 2 == 0, nums)))  # Output: [2, 4]"
      ],
      "metadata": {
        "id": "vqo4PrE4_be_"
      },
      "execution_count": null,
      "outputs": []
    },
    {
      "cell_type": "markdown",
      "source": [
        "####Q11. Using pen & Paper write the internal mechanism for sum operation using  reduce function on this given list:[47,11,42,13];"
      ],
      "metadata": {
        "id": "YZOxbRwFADLN"
      }
    },
    {
      "cell_type": "markdown",
      "source": [
        "![functions.jpeg](data:image/jpeg;base64,/9j/4AAQSkZJRgABAQAAAQABAAD/2wCEAAYGBgYHBgcICAcKCwoLCg8ODAwODxYQERAREBYiFRkVFRkVIh4kHhweJB42KiYmKjY+NDI0PkxERExfWl98fKcBBgYGBgcGBwgIBwoLCgsKDw4MDA4PFhAREBEQFiIVGRUVGRUiHiQeHB4kHjYqJiYqNj40MjQ+TERETF9aX3x8p//CABEIBQADGQMBIgACEQEDEQH/xAAwAAEAAgMBAQAAAAAAAAAAAAAABAUBAgMGBwEBAQEBAAAAAAAAAAAAAAAAAAECA//aAAwDAQACEAMQAAAC8oAAAAAAAzk1dupEWXcpnoO55h62QeKe87nz3P0bofOOn0jdPm/X6IPAdfdDxPb2A8jv6seY6+iFB0uxT72orN7AsLaWI2ZA456jlvsNc5GMgAAAAAAABrr0HLSQIXGzFNyvieci+tHio/vR854fTcHy/X6jxPmePpPE+ePe8jw72nI8l7Hhck7bA+VhTb0J5zP0OSfN+/0bePn0r248jJ9KKGTaiD2kK03AAAAAAAAAAAAAAAAAAAAAAAAAAAAAAAAAAAAAAABjOEME+WZx6tqV6AAAAAAAAAAAAAAAAAAAAAAAAAAAAAAAAAAAAAAAAAAAAAAAGM4TGMk8J72qtWgAAAAAAAAAAAAAAAAAAAAAAAAAAAAAAAAAAAAAAAAAAAAAAATAOPfh3UAAAAAAAAAAAAAAAAAAAAAAAAAAAAAAAAAAAAAAAAAAAAAAAExnAjSoktQAAAABFJTTcAAAAAAAAAAAAAAAAAAAAAAAAAAAAAAAAAAAAAAAAAwEiy4cxQAAABwIkqJZ1WWcCfAAjkiNymHGRU2wAAAAAAAAAAAAAAAAAAAAAAAAAAAAAAAAAAAACa4YI02HMUAAADTl06FRbKSpdjU20gK12FVa1NslNc01yAoAAAAAAAAAAAAAAAAAAAAAAAAAAAAAAAAAAAJprknCXFlTYWAAAc+mK4nwEyyNrY1JbUd4lA49gjyAAAAAAAAAAAAAAAAAAAAAAAAAAAAAAAAAAAAAYzhNWMJylR5E2FgAAAGtdZiH0kAxyOyBqljzh7G3PvzrjZVm5Yo8iUAAAAAAAAAAAAAAAAAAAAAAAAAAAAAAAAAAE5511sxIjyM7CwAAAACq3sNkgdJZdMw+SduEuTVfL6oBQAAAAAAAAAAAAAAAAAAAAABEJaFNQFAAAAAAAAAAA4ZZude/DvnYWAAAAAAAAAAAAAAAAAAAAAAAAAAAAAAAACrJ9dvNsh2VTbASgAAAAAAAAAAnLGVmkiPIzoKAAAMZAAAAAAAAMRefGy1EoBBnAAAADmobPRFJLdq6xBUFuA5dQAcjqanCT5X1NkeR5X0h3PPx6Dz0uu0kSOF6a7qzKzCsPLJ6pHkKAAAAAAAABzDPKTHkNAAAIE+gM30bFkoSgCpLYAwZAAa1Cc7qJOoaS7nMo7qgutTv0jbZdyqLUKNDSjlwdz0pWYtm5dSLUd4256PTfni0t9XWNkDtB1q483Y4LWDykRUWtd30r/T0k+JgzVNcUllhxsosRe04VljB510pr3FTOUWREgSgAAAAAAAaa51Z0kxZTQAAGKi089V5SWXKyy60PaLfz8uFXo+fRmuHfUrdbPewJQNISss9BvWbRYUM6NpdVm/eKj0FbZGnKQl40U3Opaqi3yUt1QVY1dtzqwps2EVsiywUcqziVEtokvNqetiTh2yUADXYI/fIAR5AAAAAAAAAAAAAAA54zhnnJiypoKAAgU1nPs7VtlxiNPFgRLrjZwm4Rlz6KAABQTZ+tnUSgAcc9QBrW2hKe4AFAAAAAAAYzRJb9vNegrqJQADTJsAAAAAxkAAAcq/Sy4EoAAHLXfCc5MaTNBYAAAMGWuwAAAAAAAAAAAYoLPQCUAACFNiyggzgh8CzQJxljIBH4cbWytmb8YktcLujyDXbzd7Zrzkwixc+UslF7kTWJw1PRMZzQKHvY1OpdbV/OLPWpkFiU0azqyZqWeYsXNtGIJPU/Kr1W2UcsspykRZU0FAAKyzwV/aWCnlE4AAAAABDgpdKbNXDlyl7dPOXyROW02taifX1f5oJcTOtdxLrlDhF8gSorLjzNpVRaVk/aZ5/1tFlKrrviQ7untY3EtVa1dnZmivayLKBvHp3xJKaT2qtLLlcVWSLfZKiRP4FOvq2p3Kpszhaa7ZKi2hE6NJL5y67xbJNBbdzzdxYRLI0a1krSLOMN0U6WnLrlzzjKR5cWU0AAAA5ddCGr7izuo7mN1fPGtZxq5r4VwQrWptgJfNegqrqyhvoM4p95Ygpfam9fIivlWQef9Aiq53KqibKEBPRWZslVse6DTdKAxkAVtjBkWdxLDmABjn1AAAHPy9g1LXuZAoAAAAAAAAHLbj3SPKiS1AAAAV1jDKyVpvqbbWOkQcWQg9JSIsoWJLADGQAAAAAAAAAAAAAAAjRLTib78+gAAAAAB5rrIsdTuM0AAAAAAAAADTOcMxZkGc0AAAA03FNLnEBQAAABxOzj2AAAAHNRJ6FR251Cq+wrSyAMGQAAAAAAAAAAAAAAAAAAAAAAAANdtWYc6vsGgAAAAOdDZYssXDvKAAAIRNqLensT4CrPevxGm2ulXKh7RcKvoWGuyVR3lTZbCUACj72qwJQAAAAAAAAAAAAAAAAAAAAAAAGu2rMCxr7CaCgAADWqM9YF/qZImbLQNkm4515aPPSKtfP+iqS28n6yorNxDmxUbdO50zWdjePbjjXW8QltN5VNYwbLYSufQRpIAAAAAAAAAAAAAAAAAAAAAAAAAANdtWYFjV2k0FAAAVnXvEsgXNPvpYbSs4UthKVXT9kRJOwiJYgzNhW2QAoAAAEaRkAAAAAAAAAAAAAAAAAEKaAAAAAAAAAAANdubNbbVFu0AAAABWy+XKyZ1iypQAAAAAAAAAAABgyAAAAAAAAAAABAk1llxmusZQHn7fhZCl2VVVqM0ABhTF0AAAAAABz6c2au4pbpoAAAADHmfT4sZJQAAAAAAAAAABXnFZdLKm2rrE49vPehAlAHA70k2o1LuV5/wBBASgMZGm9fYJxgza2tp1LOrvOM0Cnt6i4sVFpTllJ584kOMcxtV2WkKJK71nvOZBKAAAAA035s1N1SXagoADXlW1adaKSWjEaJQANNqqVUwRz6VVoZAArpFHZdS8ZlA896HGUBXDuK2fFh2Sp+nnol2vn7fRt1q4myqCcZj1Xq9MV9t5zKxsoso12o7mXXjT+hsprOstSO37lLxv4NQb+s5kW96VBc1VrRZsO1i32pWw77Eax5fKPPeihWFea9JT3REjzYpYCUAAAAABz31Snu6O8UAACtmdaotqix3TantKKvQxNKosLSBJK7tWSNLbtR3mGNOmq1287awJecKxip26V8ipAlIM4Aab8jjIrt7IVxW3BV2lXaChvsRXcbhULnYivr76nq6a7ZsWHbLK3awGMkoHDWSAHDuAKW6pbqwRJZajvENawtUOYoAAAAAAADTfRmmvKO8aAAAVtlWpy77wtO+ltXRYxJaWBvMJT853WodqRX9ZYBQIvnvVrKC3kAJQAAAAKq1AAxkAcew59AHA7ufQAOPYK+wAByOoPOej836SyqjrmttjNp7LhRWa+s5dQJQAAAAAAHPpykqLyjvLQAAAAAAAAAAAAAAAAClsrJAl0r7OAT1dHsuXDvKB5X1VFe2Vk/wA/elbvY9SnuKW6Hnb6kO07zvp67DN856OjvLKK9o7wxT3PGK/rx30sOldY5vLqwK5pZmXpDHTfhU6VGk5AoAAAAAADh34yVlzS3VoAAAiErNHmy7YzKAA12qkmSai3oJQDXMZFECcmUWUuKS6rEqr6k9BtymeU9XkgT0sCcyAARYVusr1hTlwJaS749gCot6+wsCWnuAgzchw7gAAAAAAAAAAAAAABw78Erbmot1AAAU1zhK+PtOqSJQIVdIzqWtTa1cdLGssiuk1c+pyJvm+Wsdp+5E5XsaIe2bE81KvckaL0mRQzO0qoXGx6RuJYsoAAAAAAAAAAAAAAAAAABgyAAAAAAABHkRkh2tVaqAAAiyaE4+h3ptS6VNtkC+ZvsxbJkGRLKjtYigsZw5dSUAAAAAAAAAAAAAArLMAAAAAAAAAAFOW21Jd2c/NW1Vp6hU2uGaa58mery4L3RtzsAAABFlRkiWlXaKAABrDnAAAAAAAAAAAAAADn5uwtrI0ujvFCOPbzXorN8Z1lrLXy3qdQM2ot/O255/1XnPSagZoACJL80XcqivbAlKi2TMCf5E9cq+FXZWy2VHeeXsspvKceJspMvpJe28fla+pv423Wp9TRk2LZ18S5fDvASgAI0mLJFtK2ytAAAAAAAAAAAAIW5KAIJOAAB5T09LKsWlHrV9AgzYpPSed9Rpir5bZR/Q+W9TTjzpo4XcS6qptqTrFs85YHath+lrsj9s3aptohT2ObHUrLOHGiq9TT9qs/PT6sd97aolfd9sqmD6TjXaq7SI89eTK+ukwzavrJ62ZxlLG77AAAABElwk42dZZqAANSJWT7GyluYE+WPJqbZDj2Vx7eZs9MJSsswADysy4qdS8GagTw59Ko7T8ZAPN3MezsVMyIY62I896HjWm0K0kVWXXDvKiykUd5V2lnPTula7DWvshHkAiSwAAAAAAAAAAAAAAAAAjSYcnGyrbK0AACqndYFWOIseOcqrm6mJEG7HmLrzlewecv8ujnUl003lAgZgWFnGTKAS8+nLqAAAAAAAAAAAAAAAAAAAAAAAAAAAAAAAAa1tjXpmyrbJQAEeQIOszpUSWRW2QVnSesiUnoqonSyUAAAAAAAAAQyR08/wCgsCUAAAAAV53j1HTU9I0p827Rex0AcvL2er2q7SXnFhb2XAl5daSyskx+NWeiYqpbZCpq9MiS4FeWCt3sn1dhDiX05RiLv25bdY1pUR2j31aWOcZyce0ciWdZZqAAAAIZMVdoAAAAAAAAGlYWwAHCqjWelrOmSPbUl2Na+KXhBlnPPSbLhUyTrIpbQ7cM0BfwJUpaTvw6WXHlrKGXdLd983j2q5pXyZ1bZZYq7WWglxe2pcQZzN8vccbbUxS3cfNrllX2W+m/m4lXVVvVlz6c5c7Us+yZEkbRx24TClk2KsVtmitkSlBK4d+KQ7KusZQoAACikV2+pZWPDvkCkeQCmLlC5FkrLMYr4Vl8UktpxoL3Unebtasl3JmgeblYutRD5bxX38WKR5WFWdBPlRHgXpdKH0JKCdYZK2PdCtr/AEQ8zPt9DWLPS1MqZqbAh8Z+9VVqRCxOIC8O4AK6xDj2GMgAAYyAAAAAOXWOkWyrLNQAHPpzIvGXIs87L671OrNbSNoUTBi7pLeuldYs3zN/XXFlVY71Q4ze9KS76R5mzsO9V8e4QEoHOPMGMgAAAQedlkJQAAAAAAAAABgyAA8p6sAAAr7DzXpbKGxovTadBikGcAAAOfTVK6zrLNQAAGMirtBAUAAAAAAAAV5YPO+hrIgrrEHA26+Z9NYEp5T1RV5rPQancZoADWki2encO8ogE9BnDSp72WTTEvRBmmaC/wDI6nrvPeg8oem7eevY6HnTh6nylvVo8xMLsZsSFP62eYtNLqvNz7Doa8q3Qjem87b1LGKAA031Svsq6xUAAAAAAcjqAABjhSnoc1FuAAPPeh8xXpamwpU9Fzr4Rx9N5T1lNIlbHL0vmPT1wqbLeXy91i3so7yLFl2socFOu1P6it3Lpm0k6dHsppkiZWKPt0Ok2BmKP0UWVVXYT62Kn1ESGS6m1ratfK3ulXOY0nFVlnhKa5hzaoZtiAlRZWhX2eMoCgAAAAMZwldZV1jNBYApbmsrNlUWpW2tNKSZtTdS1896GmLjPn55Y1VqlK2yMQZ+CPJprmkSWiPIB5/0EOt41lEiKtVlWtBQ7Xgpbrl1UIqbaptgADWHOEaSCqtQAAAAAAAAAAAKktgECeEGJZcuXWUAAAABhDk52NdYtBYAgy9iFtwmVTXkGxTz3oY3El0NvHNc95wgzkoEPlYkpe1ooJQAAAAAAHOq1suzEuXmfTABT3AMGQGMgAoqvRDXbxx7EqS1z5f1FgSnGClorLFdgKO8pLLsxLQX9RcWUXW0qi06koAAAACtstJINjXWLQWAIU0Vtk1RnJQGuwGpsr7AAGDOMwiq9FQ31ggyzgAAAGOJziWWE8327Sto14YseRjIB5+7rbeqaDPuLKKXztjydpjrVjtrvi1VR6yk1OkuYhQ31Mtzw76RVXFbtZYCVrtxOcWRMsCVS3VVZa4iy5aS7BGkwiLb1FvYEoAAADXbSSHPr7BoLAAKmtspmpKce2aAKstKqbR2c7jhb0GbWUdn21JCVxip9B5j09VXLlKLXGYGbX3PlLTcsZVZwy53/l7nSN2xJiqsZ8WPN+ujdToJa2yACptsZIca1VpuRV2HQAPNelACnuAhTRW9JywJQAAAAAAAAAAAAGu3KSJYVtlaAABU9teNltCn1Bi4pZVTfN3tMXVTJtYgWFNcgS1O1prZAxZDlDsUROFkqvldi8exAGMgAAAAAAAAAAAAAAAAAAAAAAAAAAAAAA031kr7KtsrQAGuwptrdZA1scETaUjhrJLpuAAAAAAAAAABzwdSMSQAAAAAAAAAAAAAAAAAAAAAAAAAAANN9ZK+yrLNoLAABHJCjmWWAlAAAAFCXzGTnBRtS7GaMGSIS0eQARqT0nnj0NDfUll3V2mstNdVVnZuJQAAAAAAAAAAAAAAAAAAAAAAAAHPpqldZ1dpNBYAA8j6vzFnqai4qS2IUs1z6B5z0aHDupHkDynq/K6nqhm01dmb0lr3OdQ5gqJenPU7TdN80BTXMIm0l3VVatcxRypdPqegGaKstAAAAAAAAAAAAAAAAAAAAAAAANN9JK21qrVoLAAKmn9HR6mfR5gxPpJ0OrGRD4xV+hjQ6j+ijxoq7mZoVk2UKnpZDlxlpQAAAAADEMkQtcakqXVotFVoXAlAAAAAAAAAAAAAAAAAAAAAAAAcuvOSvtKyzaCwABRXupsAAAAAAAAAAAAADFZaCrm71llvzrOg0tNip7WACUAAAAAAAAAAAAAAAAAAAAAAABz6apW2lZZzQWAAAAAAAAAACsLNpuAAAAAAYyBX2AAAc+gAAa0VX4gBjEM5WfmfR2bsQ5ZoAFRb0Vl5mFvEpjKjmdAHPcyAAAAAAABrtzkgWdbZKFAAACoO/esu6yINI5LQ5Rs03AFHeV9kW6JQCHMB589A49Sts6SxslKyMXefKXZHuKm2U8t6lAl5a9qUt81lZZ6lQSC38n6zzNXNf15CdCnlZZ196U9xVWstRHv6dO8vnEIHpKCzqJEj29dq7vIibWa8C+8x6aki1j9vNk6dBv6DNAAAAAAAab6yQLGBPtAAAAUV7wPO3mlhZT9eUyofbrKjzku241w2sIUTRLiqsKyyXwta0saeTxOGeN/ULl26RLgJUVNlFs689ZzhTzZaK7NgWnnY4WWQlVVrqZob8Qt5Qrqr03nbLvtlLz22FfYBjIK6xAAGMgA03ECNcLIcwivk9wCgAAAAAANdsSQp0KbaAAAA12HDuEWUAAAACtsohLYyDkdXnPRgAAAAAAAAAADh3AhE01NlXYHQ5nRVxLL8SgAAAAAAAAAAAAAAMZwkSZElyhQAABWTjqxodGm4Y0OhqbEEnAIGLLBjMsepvquztOJY8ipmp24Q7OovXtTl0JXPp5U9U0hFgBW2VAX/AD3oy9rbCIS9qe4AFLdUdl5HkJYnGPcJkKrbLQ2zXWIAAAAAAAAAAAAAAAxnCR5MaTKFAAAUsX0dZqbunONoMvapfnrSISIlhYEassOMSJVdYxxiT9q03JVZYwSwBWbWKyrtI0mFPcVpZcO9asuttqyy2qLKjX0MOZFjnp2llHvc1WpawZ1LlNm1irDhy7Syau0AHKilybJuSUQiNbV1jYEoAAAAAAAAAAAAAAwkWXFlShQAAAAAAAAAAAEaBcErrEUAABElhDmDXG4Q5gAcuoAAGpsAAAA49gAczoAAAAAAAAAAAAAAEiyosqUKAAGDLzduk0KAAA03pkkWNbZUVNtAKAKotVbZIK5bEFFeeZ9HqdEKbmmuDn3896EKuOl4Rl87Js51mRLy8h6OTZ13gYlsFfYBGhlqpLlKqxhKs1TLJXlZvCvSq+tj0Tn0lw4eQT18imuVV9hSl0pLazrpvVy2gKqJ0j6npHHjlws/O3tcpVP2J3SptoBQSPIjSZQoABrsK2JM0s69tKs7XMHcqfRUU2uUiFyL+slRI1m1k2vPeqpPQitstMoPbltpOgzmbRzoV1ZEru2lWlVYQIpPXxudQLnXlETqhV6LPDjl5q+jytLKF2xm4kxpIBHqJ1VqeiqZ9OV3tKfuVlb6aXEeJcQyth+ogVP8ZfTCHFudIr86dq43tN2LPzfpOEResysJWemYpZFbe7ScbV+E7aBPIlbI20scbsqi3gzqi0fpKmrbYzQBhI0qNJlCgAAIcwGMiNIyKqy3HLfYRZGxNWxeGskAAMZEeQAAAAAEGXuQFArLOF3s7CWDOAAAAAAAAAABjIRJY836CHYWBKAAABA7SSAoDTfgmsmLKlCgAAAAAAAAAAAABXlgefPQIuiTTkvVDmBXEsUHjVpz6fPD6HpojlLprOuwlAAAAAAAAAAAAAAAAAAAAAAARpPCTEiNJUKAAAAAAAAAAAAAUF/VFrW2RKLta4qHGsKc6XNJ0rtx7TDz1n3mRW8MWFcbOgv4Ud5Rl4JQAAAAAAAAAAAAAAAAAAAAAAEWVDk3kxZShQAAAAAAAAAAAAAAAAAAAAGMgoL8gKAAAAAAAAAAAAAAAAAAAAAAAhTYkm0mPIUKAAAab05cKbtZZocyUAAAYNd/K+pszR3VBL6DIAAAAACtSyRJYec9HQSmMgAAAAAAAAAAAAAAAAAAAAAAACFNiSbyI8hQoAAYM+SuYtllMr+RHvaTFXnOHLy17wpoccHDlYb15Ky52WmOFhEylUF/XFrtRTieUUXrhqSVHNqe0jSzKS7oLJdlSCp9V5e90tBi0d5VWlmRKAAAAAAAAAAAAAAAAAAAAAAAjSeEjvw7qFAANdg4d8FVbef9Aitsq868rAUl3yhVrWejhVw72Okeb9PUzak1NtTRcwZlTL22n5sjeevZNc4E+RFBH5+qrjQ20g7+WuJxH4ye8Ud7U2wEvGL01snCUAAAAAAAAAAAAAAAAAAAAAABx7cZM9efS0AAAACluoU1AUAAABjIYyKyzEBQANdgAAAAArrEQFAAAAAAAAAAAAAAAAAAAAAAAHFM9efRQAAAAAAAAAAAAAAAAAAAAAAAAAAAAAAAAAAAAAAAAAAAAAAAANdgAAAAAAAAAAAGDJgyAgSU7BQAAAAAAAAAAAAAAAAAAAAAAAAAAAAAAAANdsZAAAAAABxOyF0SSFAAgw7mpst6O8qC35dcS+YmzavU9E12zQAAAAAAAAAAAAAAAAAAAAAAAAAAAAAAAAMZAAAAAABW2Q59KyRZKzw7ygAKq1jpIqbbBkLz5wutnC3xmAUAAAAAAAAAAAAAAAAAAAAAAAAAAAAAAAAAAAAAAAAAAAAAAAAAAAAAAAAAAAAAAAAAAAAAAAAAAAAAAAAAEBQAAAAAAAAAAAAAAAAAAAAAAAAAAAAAAAAAAAAAAAAAAAAAAAAAAAAAAAAAAAAAAAAAAAAAAAAAAAAAAAAAAAAAAAAAAAAAAAAAAAAAAAAAAAAAAAAAAAAAAAAAAAAAAAAAAAAAAAAAAAAAAAAAAAGMkrbLwPvpQoAAAAAAAAAAAAAAAAAAAAAAAAAAAAAAAAAAAAAAAAAAAAAAAax8s9T5bJ9UeC9QWrXYACgAAAAAAAAAAAAAAAAAAAAAAAAAAAAAAAAAAAAAAAGMjDOAZMZDGNsR/8QAAv/aAAwDAQACAAMAAAAhAAAAAAEEEEMIc8JxxhxhBhAAwQgggAAAAAAAAAwQhRB1tRJBMlAEkKiCygAAAAAAAAAAAAAAAAAAAAAAAAAAAAAAAAAAAAAAAABNcgAAAAAAAAAAAAAAAAAAAAAAAAAAAAAAAAAAAAAAAAAAAAAAFtoAAAAAAAAAAAAAAAAAAAAAAAAAAAAAAAAAAAAAAAAAAAAAAABsAAAAAAAAAAAAAAAAAAAAAAAAAAAAAAAAAAAAAAAAAAAAAAAABgAAAAAAAAAAAAAAAAAAAAAAAAAAAAAAAAAAAAAAAAAAAAAAAAAEAAAAAAQCAECCAAAAAAAAAAAAAAAAAAAAAAAAAAAAAAAAAAAABegAAAAAoLAQrDAAAAAAAAAAAAAAAAAAAAAAAAAAAAAAAAAAAABvqAAAAidRSAgAAAAAAAAAAAAAAAAAAAAAAAAAAAAAAAAAAAAAVFqAAAAASiMLXbPAAAAAAAAAAAAAAAAAAAAAAAAAAAAAAAAAAABEqAAAAAAryfZjAAAAAAAAAAAAAAAAAAAAAAAADAAAAAAAAAAAAxqAAAAAAAAAAAAAAAAAAAAAAAAAAAAAAAAAEVhAAAAAAAAAAABZjAAAAIAAAAAAAAFAAAAAAARGKCAAAEADHDWcDALAAAAAAAAAAPgAAAWJAAGAEAALDEE6vDAAYAIMQhBQV4KAXDz10ZAAAAAAAAAPoAAAsdjxQEBAADrRJDg7LTkb1RKjQAAggAQAAAAAAAAAAAAAADLAAA5TgVtAAAAFAAAAAjDAAAAAAAAHPAAAAAAAAAIAAAWAAAA2KAAAAAAAAAAAAAAAAABAAAACIKOAApDIIN5AAeIA2lTDnrDKLjDAAAWiGAAAAAAHNEv1SpDJPLkhcrAlHLLgzZBRwjTALnPg+wjjIAAAAE7PDvvhA5BaF9DDBxThhAAQABAgAwAAA7hAAAAAAAAAAwAAAAAW3hhzAgAgAAAAAAAAAAAAAAA2AAAAAAARAAAAAAAAAAAVIAAAAQTAAAAAAAAAAAPPAUAEAAAAAAAAAAAAAAAAAAAAAAAAARIAAAAAHIAAAARW5KLFARAAARAAAAAAAAAAAAAAAAAAAAAAAAAVrAAAAOhEHf3vNbXvBRIVAAgAAAAAAAAAAAAAAAAAAAAAAAAAAFrAAAAHMDxThDTDAAAAAwAAAAAAAAAAAAAAAAAIAAAAAAAAAAABgAAAAAFAAAAAAAAAAAAAEAAAAAAAAAAAABqAZBAAAOAAAAAAAVoAAAAARAAAAAAAAAAAAExpJAAEdrAAQLFtCAxFnDgSBAAAAAAVpAAAEkAAA0AuAAPqArAAzL1vTAnBqRftRBNSKlTbj5AAAAAAAcAAAA6T73lQrkJAnJAIAExZBHBBxIhBAASAQAhALDIAAAAAAAAFAAAAX1FAj7DzAAzDAAAAAAiAAAAgAIAAIAEArQAHrAAAAAAAAWoAAAAAAAAAAAAAAAAANAGJAAr/AOSVVQKa88ooPw4AwAAAAAAABiAAAALyAAE4QACgCyO3S0MgAEdwIgCQIkkAAAAAAAAAAAAAAAAIAAAA5wAI0TbTtVWi+yfwAAAAAAAAAAAAAAAAAAABAAAAAAAABCAAAGuSwFwYUYAAAAAAAAAAAAAACgAAAAAAAAAAqaC1wDgAAAAIAAAEAAAAAAAAAAAAAAO6AK0KQBiwAAEgQB0zwk8zV6JOiQAAB4AAAAAAAAAAAADAAAAAAwV9RwQaRx4zFkR/07W8T0QHUMAAAAFKAAAGyiwFQAgABwAEggASQb3yAIYEMoEAAAAAAAAAAAAAAAAAAoAAADHraTDSSAHwQKAAAAAAAAAAAAAAAAAAAAAAAAAAAAAAAAEAAAEEIAMX4gAAAAAAAABCQAAAAABCwhAB4pwCSSjCBjR9xLgiwKAAAABCgAAAAAAABgAFWSxxAzbQcD3+qsQkwudsw7xDQc844QBYwAAAFwwCBDikQlUYgMW7xw4AYwQ9wkgEIswAAAgAAACAAAAABAQAEIXo6zQOzbc6YQAIoAAABQAAAAAAAAAABAACgAAKfACgAAAQAAAEAwAAAAAAAABiAAhCwADwAAEyAAhRAhzZwaxQJcvFDAAAFSQAAAAAAAAADqgAEDwy1YcCapzyIUXX98z4+Cl4cwBKwAAAAAESgADMDa0RwiFIAIFFsUc6AIgAAgkgAAAAAAAAAAAgCjSAAAAAH6gABDN69w0AA0QAAAAAAAERCACBAAABAEBowBzgFxG24AAAAAAqgAAp0AABAgAFAwAAAABMxQIAKCceYhcVlJQACQFUIhqQAAAABygAAIQABgcgGQaT1uX3aQ7wIAKoIAgEgEkkQAAAAAAAAAAAAAAyQAAM0YeV6QNYU4UIAAAAAAAAAAAAAAAAAAAAAAAAAAAAAAAAEyQAAAYY4gAAAAAAAAAAABAAAAAAAAAAAAAAAAAAAAAAAAAAAAEwgAAACwAAAAAiIQAACANlVEQAAAAAAAAAAAAAAAAAAAAAAAAAEQgAAGQRACyCFQGAAHYgFlAEQBgAAAAAAAAAAAAAAAAAAAAAAAB6gAAH/wAFM2P+EGIAAAAAAzks0AAAAAAAAAAAAAAAAAAAAAAAAAOIAAAIAAAAAAAAAAAAAAKN1kMAAAAAAAAAAAAAAAAAAAAAAAABUoAAAAAAAAAAAYAAAAAACAgAAgAAgABYMIABG8AAAAAAAAAAAAcsAAAADwAQIgAWAAAIwk0cgkCIMtUU+mhPOMx3N1bIAAAAAAAAeAAAABRlXcHUBuW/1MvuHNLcAJJINCCCAAACAADEMMAAAAAAABOAAAABCCAAAABYAQgAAAAAAAAAAAAAQoAUAAAAAAAAAAAAAAAAGsAAAAAwgQQAAkjUCPGcAQgAYoqoBUD8AaIAAAAAAAAAAAAAABUEAAAC3/k2nesEBoAGsdT1wBqUcuIIBuAQEAAAAAAAAAAAAAAAGsAAAAAAAAAAAABMIAABBDBAAAAAAAAAAgAQAAAAAAAAAAAAAAGsAAAQcAAAAeEsAAQMYCEgQosQUDE4oAu0kIUg+BIFIBYe+EsAEMAABC+P8HNGkMdUD/EPqtsMsooBlm5MVzRaaAVF8jOMxEliAAGsAAACBCBIAGBIAAAAAAAAAMACUCAAAAAAAAAABACsAAAAAMABGsAAAAAAAAAAAAAAQA8QA80F2sAAAAAAAAAAAAAAAAAAAAAAAAMMAAAAAAAAAAAAAAJG9OR3PmlEAAAAAAAAAAAAAAAAAAAAAAABasAAAAAAAAAAAAAAAAAAAAACAMAAAAAAAAAAAAAAAAAAAAAAABasAAABYUAAAAAV6AAAAAAUsEAgAAAAAAAAAAAAAAAAAAAAAAABMsAAAQs2hMsEGal0McsUwV9QCEAAAAAAAAAAAAAAAAAAAAAAAAKoAABBSscMcbE1Fgkjn4QS0EBkAAAAAAAAAAAAAAAAAAAAAAABcAAAAACsAAAABAAMAACAAAAACMAAAAAAAAAAAAAAAAAAAAAAAAUgAAAAAAAAAAAAAAAAAAAAAAAAAAAAAAAAAAAAAAAAAAAAAAAACAAAAAAAAAAAAQQAMAAAAAAAAAAAAAAAAAAAAAAAAAAAAAAAAAAgAAAAAAQsAABkFD8AAAAAAAAAAAAAAAAAAAAAAAAAAAAAAAAACAAAAAABAWgABdcDesAAAAAAAAAAAAAAAAAAAAAAAAAAAAAAAAAAAAAAAAAAAAAAAAAAAAAAAAAAAAAAAAAAAAAAAAAAAAAAAAAAEAAAAAAAAAAAAAAAAAAAAAAAAAAAAAAAAAAAAAAAAAAAAAAAAAAAAAAAAAAAAAAAAAAAAAAAAAAAAAAAAAAAAAAAAAAAAAAAAAAAAAAAAAAAAAAAAAAAAAAAAAAAAAAAAAAAAAAAAAAAAAAAAAAAABGIAAAAAAAAAAAAAAAAAAAAAAAAAAAAAAAAAAAAAAAAAAAAAAAAaoIoIAAAAAAAAAAAAAAAAAAAAAAAAAAAAAAAAAAAAAAAABDRiDf/xAAC/9oADAMBAAIAAwAAABDzzzzzzjzjjjihiE2223003wwwyzyzzzzzzzzzzyz130mk3XE3TzxB68+9wzzzzzzzzzzzzzzzzzzzzzzzzzzzzzzzzzzzzzzzyq2Rzzzzzzzzzzzzzzzzzzzzzzzzzzzzzzzzzzzzzzzzzzzzzzz5hfzzzzzzzzzzzzzzzzzzzzzzzzzzzzzzzzzzzzzzzzzzzzzzz1HTzzzzzzzzzzzzzzzzzzzzzzzzzzzzzzzzzzzzzzzzzzzzzzz0vzzzzzzbbzzzzzzzzzzzzzzzzzzzzzzzzzzzzzzzzzzzzzzzzptzzzzz9TbzzRbzzzzzzzzzzzzzzzzzzzzzzzzzzzzzzzzzzzzvB3zzzw+D/wA43f8APPPPPPPPPPPPPPPPPPPPPPPPPPPPPPPPPPPL7dfPPPNjcbPPHPPPPPPPPPPPPPPPPPPPPPPPPPPPPPPPPPPPPPy9fPPPPHHNqw/edvPPPPPPPPPPPPPPPPPPPPPPPPPPPPPPPPPORffPPPPPBzE1HfPPPPPPPPPPPPPPPPPPPPPPOvXPPPPPPPPPPLndPPPPPPPPHPPPPPPPPPPPPPPPPPPPPPPPPOr5fPPPPPPPPPPK3VvPPPPPPPPPPPPA/PPvPPPA7HNPNPPOGOuVH8dJ9vPPPPPPPLInPPPNu/PLPOPPK5euH2/fOP8Ar7/Z9j9IW2yir7KEHzzzzzzzzxVzzzxKcXy7pfzyBPRH2rRe3+JcT497zyx7yzzzzzzzzzzzzzzwb/zzyM35j97zzzzzzz7x13zzzzzzzz9zzzzjzzzzzDzzzHzzzwzzzzzzjzzzzzzzzzzzynzzzxz7LTzyknr7dHbIXzx2KTv97WRfN/zzzxhLzzzzzzbTJMWHYUvFPRx1TwW9GLmpZRCVee7rYEXnN95zzzzyoT/FDJXzvTEypR951812zyzwWy7w7zzyhfzzzzzzzzzhpTzzzyqyl3247xzzzzzzzzzzzzzzzyrbzzzzzxzzzzzzzzzzzxvzzzzzw/zzzzzj7zzzzP8A8+8w8888888888888888888888888d088888D+888+9BL2018b080fc888888888888888888888888Be88886FeXqaoEcCwVtex88e88888888888888888888888888of8888MGvd9vdN988888u88888888888888888w88888888888t088888V+888888888888w888888888888pe8xI888u8888888sc88888pc88888888888q/3d888458881DGU8t975P0f888888p9888gyy88I8Y88z08d8s1PKMfr7doZa9KGe81qtiGr8888888o8888Gx01K4/wDhfOffPvPL/wB8843vw3/zxzzzx/z/AJ+88888888t8888/Yh+POdt88MN8888880808u88882+8w0+9Uu+88888888bU88888888888888888b88x289bX/1n8f8Af7+HpHj9/PPPPPPPIlPPPPtfPPKXfPPuMfn2OvrPPDbfPvHfHLLnPPPPPPPPPPPPPPKXPPPKfnOAO08NLEaeFN1fPvPPPPPPPPPPPPPPPPPPPPPPPPPPL9PPPOuM/Fz333vPPPPPPPPPPPPPMPPPPPPPPPPONe+/9uPPPPOVPPPLvHPPPPPPPPPPPPKtPHbF/ElPPPMlfPf9dOJASefN1fPPGnPPPPPPPPPPPPPvOvPPGzalPX73lcUsun/7IJBXHUnt7HvPPPGXPPOFSt8s/PPPNPLrNPN0bW3PLFTjLPvvPPPPPPPPPPPPPPPPJ1PPPAPo2m+8fPK5ePvPPPPPPPPPPPPPPPPPPPPPPPPPPPPPPPCVPPPBPnrcnDPPPPPPPPOl/PPPPPPGPOvNUt/CbfOPsN+/8U2fZVPPPPPtvLPPPPPPPvPC994fs/Re4HLAvG/PvN/h/wDto+f+2/8A88e888oF/wDNusvq/KSXvMaW1+XDSf3XzLvHHL/HvLPrvPNPPPPPMdPPOgYUCXPrvXNZXfPLPPPPNfPPPPPPPPPPOPPGPPPF9PNPPPJPvPPLPfPPPPPPPPONPNPHfNhfPPIfvtO9sLMFucNPMRR62vHPOPfPPPPPOPPPNHPPOK5+oVcJ2GdMmW4W2YzwHXPXXfLl/PPPPPLf/PPIE1f37NvvLnrOh/z/ADzbzw7zzzzzzzzzzzzzzjT/AO8888cr/wDPLmLbQffvH9/PPPPPPPL+NvMNPPPONPvFfO9PLSFDnvPPPPL/APzwxlzyxjTzzjvbzzzz6OK5byQc3YRd+y5Pz5Pz+5bjfzzzzyrbzzzl7zSffwsl/ayzOBHe3x7zzzy7yxz7y3zzzzzzzzzzzzzypTzzyulhRjnxsc/0x7xzzzzzzzzzzzzzzzzzzzzzzzzzzzzzzy7zzyw0f8z7zzzzzzzzzzbbzzzzzzzzzzzzzzzzzzzzzzzzzzzzpTzzzznzzzzzrQHzj77xrvo/zzzzzzzzzzzzzzzzzzzzzzzzzyj3zzw8X7Lfza7y974Nzy6izHzjzzzzzzzzzzzzzzzzzzzzzzzzp3zyxz2GFoff08zzzzzzzKNXPTzzzzzzzzzzzzzzzzzzzzzzzz53zzzjzzzzzzzzzzzzzw6N8c3zzzzzzzzzzzzzzzzzzzzzzzzzzTzzzzzzzzzzzj7zzzzzzzbzzTzzDzzjPTzz9/zjTLzzzzzzzyr/AM8884Y82888pW488+31RU98QJTNb0m0rpYLu8jbz88888888u98888uPkQcv8/XvS5jNvPuF888c7+ee88c8c88dNv88888888ud8888s++8888684288888888888+4824388888888888888889V8888w4408+018Je3xV8q684y6c8psf888888888888888888t3888895GSMWXN+q0tX/+vs6eZrR2s4Ye6V8888888888888889V8888888888888vs888+uOu8s888888848488888888888888tV8884/8APPPPdffPONfOGPvFN7G7D1tPNw9U9Nj0unZPLYXnv/LVfPPLJ3bUrFxgOTLjOlj/AJ58iTbxyBOBt/W/5vG+Oz1e0/0rzz13zzzzyx5y596zzzx7zzzzz3zx3x7zzzzzzzzzzz6Tzzzzy/zyjXzzzzzzzzzzzzzzz7/7r/2WPjzzzzzzzzzzzzzzzzzzzzzzzzrTzzzzzzzzzzzzzz6PBIPgpLc/zzzzzzzzzzzzzzzzzzzzzzzz93zzzzzzzzzzzzzzzzzzzzzzwnzzzzzzzzzzzzzzzzzzzzzzzytzzzzyj/bzzzzuhzzzzzz/AN988888888888888888888888888+c8888h1L1VzhUvewz116pCmsT8888888888888888888888887f8888I3rfahacuytmSvQVWX8J888888888888888888888888qU88888/wDPPPPHLHfPPPPPPPPPfPPPPPPPPPPPPPPPPPPPPPPPGfPPPPPPPPPPPPPPPPPPPPPPPPPPPPPPPPPPPPPPPPPPPPPPPPPNPPPPPPPPPPPOPPN/PPPPPPPPPPPPPPPPPPPPPPPPPPPPPPPPPNPPPPPPON/PPLffFPPPPPPPPPPPPPPPPPPPPPPPPPPPPPPPPPPHPPPPLPPp/vPP/fPH/PPPPPPPPPPPPPPPPPPPPPPPPPPPPPPPPHPPPPPPPPPPPPPPPPPPPPPPPPPPPPPPPPPPPPPPPPPPPPPPPPPfPPPPPPPPPPPPPPPPPPPPPPPPPPPPPPPPPPPPPPPPPPPPPPPPPPPPPPPPPPPPPPPPPPPPPPPPPPPPPPPPPPPPPPPPPPPPPPPPPPPPPPPPPPPPPPPPPPPPPPPPPPPPPPPPPPPPPPPPPPPPPPPPPPPPPP8AzzzzzzzzzzzzzzzzzzzzzzzzzzzzzzzzzzzzzzzzzzzzzzzzLt337zzzzzzzzzzzzzzzzzzzzzzzzzzzzzzzzzzzzzzzzzy13yr/xAA7EQACAQMCBAUCBQMDAgcBAAABAhEAAxIhMRAgQVETIjJhcQQwI0BQgZEzQnJiobEUUiQ0Q2BwgsHR/9oACAECAQE/AP1AHWmmeTWtaioH6UKaP1Eb0wmP1Jp/URR5wpOwogj9JG9E8wE0xI0FMSVWeJENFOAHMbfoo3FMBzbCvXA604IIXtxf1U+yn2/RV3FOBpSelfgcoEjevSNKUyCDStE6fpA3FXAZFJ6F+BzBoosTUGsDUL1NAf6aYAxqBREH9DG4q4DpSelfgc+QAELWRrHuayUbCi7Hr+YAJMCmUruPuDerrbUvpX4/QgCTQ0tkjcmKeQqg7/cG4q5GlAQB95UGDMe2nEggA9Dy27Wa3Gn0iaVcjFOuLRM0qM/pE8IPJetC3gJmRVyyEQHLWYilUtVm2PE9Y2NFlS0uHc6mgrOTGvBELnSmEMR2+08acqCW+Kc5jKI4qJnlVCxq62yDYUATwuD/AMPaDGoHhz1mKVGeY6CeNlClq8T2pVLEAbmiCpIO4NWUK2WfvtUa1eJLkdBtQT8D3yn9qt4JkCdSsfFAW1OpmnxuY3GO42+Kvk3AH2jSOFj+oPg0rCIbai56aCvI2pNJcRAQBqetHDuT9q5PloclpSQ8dhSeEJUidK8Jdw8TtVtCMiw6acBE60XA9I420YwZgTRQzVrFciSJjSlKqZ3q45dUPyKkxFIVtq3Uka06xEbHarUQxnXpS3FAZCSchBNLFvzTLdKNwEyV1rxsgFbQDarjKW07VmaJJMzyST1/I3J8vxS+kfHIrYoYO5pTBmiSYpbmkGdNqJlpo8mYwA68k6RwViDNM5aPsombRMACSae2oUMrSJj7yWgVktqdhy3G9PxS+lfj8kltnDkf2ieVo0ioIAJG9C25UtGlMpXccdrX+Tf8VJxxHeiIMUQQYNNaK2luEjzHQUquUYx5RUGipFJZUkqFJIEk8UdWAQwKwWSA1eGAsk6xNImR3gDc0VE28TICyTQQkM3QUqliABQskySQBTriYq5HlobD45FIG4mixNYPjlzrbZqNpxvAqDMdaZMQNaOAEQZqwD4Vxh3j/ajaMrBmawQq5BMqKS0XUnbWBTKwJFXrYV0VJJxE/NMFFi2CcmUEgVbuNLuT/bS3fIxbUz5Zq6csX7jXgf6S/wCRq3Gaz3oJ5izbAyad7TMWgkkzFKRcWXiF9IFC5kHB0BGgpbrKhUd96zkANQvtKKNBkKe2qMc21nYU5UnyiBVtgrZdqBgzTXQ6gHSke0syCZp/qA64YwKF1UQqFmTMmhcQgTpAjSh4JWMoq4wLabDanjy8w3pgVkHc0yFVBPWijAAxvS2vIXYwAaxRFDzM7U8EKwETwZvwkE9TTtKWxOwrNCUYzIif2prlsuDBpvDLEydTRvNgUUQKS4yHSvFbUaQaN1yuJOleI0RNeK8RNC6QsR0gHl/9H/78CSeEmInksALgf7mP8KKYyxPc/bcTHMhUHUUz+U/9woPpqJo3X26UXYiCak1JiPySsApUjSjHTnLqBIOuOI9vuNJjnLzzkEGCIPKiKZLNApkgSDI78FgnX84TEc9rAepZmmEMRyAE1Z/qp81cR3NtmGsQaZIvYba1ggaGtkDvNNYZWK5AmjZuATjws6uF6NpyeJAAVQPzRjSgZA5URnMKKf8ADVR/dQBY0UOeIpUJMHSmsQxXIT0HerZYI8b6VYLK8wPmvqGLXn9jApmHjIZ2xoqMiWeRWfnyjbalc+IGJ660YkxVuQS/RdvniTJ/NkbUuw5VbygB8T1oqjooZtYMGso20prjGmdm3NSSZnWs2yynWizHc0zFjJ5pMROn5KD1B+4RoOcelT2am3P5pFWCzzAMaVcXFyOCQoLkbaD5oXXuK6uZ0kcirKuZ2+wZgc6PiCCJB+6BkQO5ivEKmEgAVdMlWgAlZNXECi2QfUgPJatNLMyaATB0Bq+gR9IgiQByOAGIB0pADZuHrIihbHgoXMKWJI6mnfNi3BtLVv3JNWyAT76RTasYEe1BGImNO9OllYTdtJaptJauYpMxqaN0lSuKj4HOTAHKiAyS0CmtpjKPMbigCQT244Dws5/ujgQMVIPGzbyZSxgTTnJ2MRJ4M0hdNuAMEGiofzLv1WsXcnSnW2EtZNrjsPmlW0SScggGvcmmtoQHVoQtBncUwewgNpji28gVbDul0CSTFXSC8DYAAftRWEDdyRTJgU0klQYq4qhVJXFidvamKeKxjyzS3cbTlFC+Ye9N57dss+0z3osr2yFUDHUd4pQhnIkU7WlS2AhPl6mlulWBVQPiplpPer9xXuCPSAKvMhClT0pSvhOCdZ+xpA5R5ljrQJVtRVpWIcDYirdsEnzDQTFN5oAAkdqFpfBkkwDJinVRBUmDwLpsqfzwVoZT2Ip0YO4AOhPAiI134CJooJlXWOmtORiAWBbqRVz02v8AD/8AaVgAQRINC6QIxWOxrxXyBnakYEXVQESvBbrqIEV492PWaJJ4ZHEr0JngCRwubW/8BQBJgAk9hT27luA4g9qVHacVmKII3H2TEDlQAmCYohiCHiO9K3SaBIMis2+KS4UskA7tTMWOtZeWI42rqJ6rSt81cvu7MZIB6c7NlHsAOQEgyDRM8CIMcCCKKkAHvwEnYcLseHZP+msntqPD0BGrDeiZq2huJoYCnzGr17xMVHpXb7JH5PwmFkXOhaI4DGGka9KWzdbZDREEjhdI8Ox/if8AmmQr9OpIEl68RFAxtiY1J1q969h6V/4pEYmdIG8mKurZViciSdQBwubW/dBTf0bfy1IYOiBvkTRH1K7kWx8gUwAPqngoZdc1H7zUWmcwYAHxJqXkedFUdJ0p8czjt9k8oBJgUbIBxNwZduRFyYCriouJUkgjjPAqwAJBiiCIkRImkCalumw71eK/9NZCj1QYq/aFplAJPl1NAkUzOd2J4rcZRAj9xNBiyXATrIPB2yafYD+BwukM8gyIH+w4MxYL7CKyOIXoDQJBkH8hMcqNiwNE2wCwkk7TxRbYIVkmdz2q1Hir8xV3ykJ/2iDToqoRByEa0VYCSK8QL4dsgY4jOg9nMTbgA6RTvaGikv117031MkMUBMQamwNQGPsaN303BjIER2oumBHmJPfYcCSTJ/QbaZMAdutMyXTAXE9KZCsTE9uBfNQC0QIigyp6ZJ714pPqUE96a/caJI02oknc/fKOFVipAOx+2i5MBV1AhENIIkGvpQ2LFVnI4/tFNauIAXQiatxkJE1uYArFonE8unKCQCB1+/bbw7ZeASxgT2G9XFAII2YSOD2gtm08+qZHbh9VbVL0KIBUH+RwwJCQJLTX1JjC3r5VE/MciqDJJgCnVAFZCYPfuOBRgoYjQ7UiK0liYAnSjZbO4o2WSTQUkMe1WFZmcKJOBirrAOoEEIAPYxX/AFRb6cufKZKqF0FDUgMTFIbSeIQhMCBJ3mrF9w5xgaGABFW3+qz3aOs7VdKm4xXaeQ/exaJgx34BSZjoJ5CC1u0oEnU14c2tXWVbv0NLbthcneZ2Aq+bfgWQk9d/akS15c5820dK+qDK6qxkhAP4pEUqWZtAdQN6e5FhAgxBLA96ZWcoQN1En40prDaYHMd1oDwrBnVnkViwEkGO9IWBhdZ6U9y2MU8NTj1k7nesVdZVQpB1E/8A9p8XRFV103nTWrCKLikuCdYUa1du43Cv9pGoHvQuqoxVZXrO5pb4EgIFUiDG9L4C6mX7DYU14XEhzEGQAP8AaiZNZr4WMak68CzHdiftB1t6eGrHqWq4wYyFA01Aq4AGMbVBiYMVatC5nrELPAgAAzvxV0aDLCF1XpHBSQZFIFJ8zQKYofSCPk8GYBbQB2XX9zSj8O78D/mg4xAKAxsaJa6gEywJ/g0HFtfMqlxovWKd8lSdwCDwYr4aAHUEk1k0RJjtwV3XZiKLMxkkmgSDIP5InlBVhDGD0asGyx0FOtuUyYmQNhV5gCygk6/sK+ltuRcMRKRNPaCqCHnWNopLZaTIAG5NHhFtVAL76mN6ZrcELb/cngYnT9BJEDlm3viT7GmYsSTRMhR2oXX01HzFJcfG6xYyQBTMzasxP2gJIFXrYRgFMgjfnAJMAEmrdgFDmIYgkSdooKSYFMpVipGo4WbD3SYICjdjsKuKisQj5DvEUqJ6SGLRJI2HAovhoRJLTQttMER5SaVZVzPpilQMJLga0ylSQaVWYwBXhN1ZB/8AYUohwD3ogFyPekX6XLBlae80o+n/ABJtt5f9VWrrFwoRMeoimjIxtNacwBJAFOjI0N9kIxV2GyxP78QiAAuxE7AUF8O+ATOL1eBUIh3Ek/uaS0GAloJBIHxQ3FH6e6DAAJnYGmtOrBSN9qdUCSCSco9j8VatF5Y6KAT8xSm4qSJCnrFW5FtX6Krgn3NWUCa3YAYaA7mmLeIxbedaPeRSsCmBYgTM0ylY2g7EV6kZl0dhqPYUjYsDiD7GmvXPCSGjVttKRoYk9QQf3oFfCuKo7a0iFzH81cS4xLeGQB3oTtTWwu7rQgMPmmMOSO8ijd6hFDd6V2Ukg015yCNADuAI4jYcoQm5ZxWAVBJp2BgAyAI4EERIIpQSQKFtyxUDUb06Mhg0lsMBLwTMD4pFzaJA0mTRtBLLFhqT5TVofg3SfTpMUzKYhY4MzK5YIDIGJigkHO5tvHU05S62eQVjuDMVNsoFFwZY4kmYj2oCyp1Jf2GgoXWDu3VgR/NJddIxNNdRmyKEnsTpXjPlkYOkRGkGvGYyG1U9Nv4o3hhCrjDSIosS0trTOGcsw/jgGtgaJJ9zTOWOv7CvEfGJ04SYjgGhWHegSNjUn7Q4iJ12r8BdlLfJp7jG7bEwojQbViiNDjI+xpbS5qS64TX1GRadMRoNRQJBkU7zZt9zM+8UCGQKWgg6Gle0q4mWOsMOk0jWVYHFj809+TAVSg2BFeK2vYgiOId12Yj9+UWnNsuBoPvlYAM78l1QBbI6oDVyE+mRDEkhuBRgASpAO3KeV2yM/aVS7Ko3Jq5bw2YMvccCjBVYjQ7cL9rwrpUGRAI4ERFMPDtqT6jbgD99SeRbamA1zEnYUQVJB3BpQWIAp0KGDHyK8MeCXJ1kQKgwTGgMVi2IaNCYmvpkVl+oY/22jX0n/mLZiYM1ftFHfVfUYEyaS2zhojyiTNXbaDAG6PSNgaNhZKi4C0bRw/CCqYJPUTFXLpRgERVgDXc012yzF2RiTvrAoWVZgyuuE9TBFfUq7QAQVUaGRyjUD7aqDJZoUbmnUKxAMjjaMPMbA1ZR2lMTDDeOtLYOpuNgK+oxCWgrSIkfG1IimMmIBMCvqQ4dc98BS+HjJBJnaaa7ilsooXQ67kV5XVcrkECDMmawtsALZgjfIxNPCWFQQSxkka7e9FT1BqUYjJCToNDV17Pit5J11M0gtI8s8qZGm8GnCFpa4I6BZJime01q3/pJASf9zQuIyFHGImRiKLWnRVDFAs6HXekNsJdRGOTLudAYO1WSbDAu4GvpGppvU2s670jFWBFXWDXGIo3jMhFDf93ARInarjZuzfYX0j4428ASzLkANquG2YZFx7imRmIKoSCorwgA0kyBrppVhsb1v5irlgrlDqY6A6xStiGEAyKIjrQNXAcidwTINKYIMCiSTNW2CsST/aYpXOaksdDQuCCCgOpIn3o3WbRxkKF5VUBbYkGQSZimfJFB3BPBvRbHzxV3X0sRTMzbsTSsVMj7iKXcKOvBlKmDS2LzgFUMUQQSCII5jS+kfHEEiCK0gOB1iKd2ZUM7UzeIAWuEHsaRkRlx1aRqadgr3AFgkkE0DHQcAyRBtz7zFM64lUWAe5n7KW1K6sQxUsojoOBEc9tM8/MBCzwUSaVS7BRV62ttlCuGlZJ4LauOJVZFMhXcr+xnh9P/AFk+aNX/AOq1KxZ5icV0FEkkk7nmNLsPjirstM7NvyujIYYQeIEkCroXFYUCGZfmKCs2wJ5YMExpQNqDKkn/AGoMFRXCLHhwPkkiKJnoKM8DHhJ/kaS81lFxVTkDMiae5iRjbRTAJ8vWmdndbZQMFGpNNjm0emdPirTWcyBa3U7tTXZUqEVQd4r6f+tb+aE9KYZjNegGQ7RwXGfMTHtX4A2V2PuY4WSBdUkxREGKdg7ZRSTlowB71dxOJBBaPNG3ONhyWnwVRE5E5UwhiOx4KjOYUTSKgcC4xBDDSvqXTxWAUEjSTwthgi4CJksx6CiZuyg/u0FfUiGCgaame5NIGS3bcmFEn5NKrOYUSae1azUMxDMBsNBRSwWhbhHyKvW2IVANiTlsIPvU2FTCWOsmOtG5aYANbxA2xq46NbRVBAUnTgSTueBaVUdppbjKIgHtImKJJMmjccriWMduCMUYMIkcEfBw0bUrMhlSQaN26QQXP3zQEDktAG2HJgI380gyfUTuYq4jsiuQAY1EQYqyu+Y0MYjuaLC2xOjXJ17CruJckNMmeAuAoEcEgGRFeIFEIse+5pblxRCsRXjXZJzNNduMILGKJJ/QSKBkcnjPoNMdselBrQMhWn5o3HLl51rJsspM96JJMn7cGJqDBMfnTS+kcgBJAG5prJUetSRuB05rds3HCDhbRDacka6we0CeKgsYUEmiCCQeC+h/aKt+m6O6z/FCJ1E07KyKcFUyYjt+cX0jkskhy0bAmatzll0G5pVLGBRBBINPbKBSTuKgxNQYBjevpJ8aQsgKZ4KFs/TyoyY6wek6bUTJJoEgyK8Quozvn3UCmw0wB/fgpAW4O4EfzVqMzJ3Vh/I4Lk4h18oGjREcFQsTEaAn8yTS+kclpySvn0C+imZHEDye3SraoAwLgkxAFMjFizsqz7zTFLigyYQAR1NE23VZOMdAKa5aYKChAUQIPSmusYAhQDIArxjM4LPeKzaScjJ35wrMYVSfilT6lBoSg92imQn13l/kmsLfS5kegCn82npHxyI2LA/fRykwFPyJqfqLgMMY+YFeEi6vdHwoms7Q9NqfdjNePdiA2I7KI/Nr6R9xVZ2CqJJoggkEQfsFSIkbiRzJbLJcYH0AGPniFdvSpPwKvWypmIBA0+RQViCQCQN+NgIbyBxK7kUyRcZBr5oHJBiYMd/sml2HM7KBio0jU8ArHZTRVl3HG2YzPUJTMWMniqljAoiCRT22hCEPoBOlC2xWZG0x1imslQxDA4+oDpT+i1/iR/vVy3hhrMrPALKsZ2iktIyFjciND8namsBQZuDMCStfTtAvAglSmsUi281bExB8hMzFMFhD4IBYkYmY+auuVhbZIQj+fmrn9h/0CrVxVKSDoehphZJZVBHYk1dBKqq4kAmDQVbZTQaEHKibfim4XBBaYG9Klol/OGYg4iKtyEuMBqAKtItx5utCnrtJq+wXO3M6iB0AH2TQ25RE6imfFiFAEGiVKrcZRM7U11iG85hunahenANJUCCO9Z5hgx6acLXh+aS3oNKUxZQIJ6k0qgK6swBaIosLaKQwLkRp0FSsztkuvsaKsutO7xbIY+mjeZgZCyY1+KZy3QCd460HjGQCBROSEuwnp34K0K47ig0AiNCRRdi5brNI7s3aFOgokkyTrUmZmmZmMkzwBgg8wvXAZypmZjLGaN24VxLEj8gTJokmOW2QHE7bcYI+4CRseLW3USVgcBbQmPEE/H5JPQvwOWDppvyqpYgASTw8K5vjwQwrxuIM0STuaZPQF3YCnQJdZTsDQW0waAwhZ34KJIFASCe3BFyYClUFHPaKTw9S8n2FOoDaTEA8Lfpu/wCH/wCjhqE/y68FOLKexpxizD3/ACKehPgctq6VR+4HlqQXDlwIIJqU8VrhYEGdOutWwgVw7DGAYG5ivFRdUEE79qQorhk9XQHQCnChvLSm0BqhJ+YFGl0S4fgcBcYLAA2iesVcbJyfikIAf3WKUSwHc1bjxQRsJNIDhc06D/mhuKJwuEr0bSlfJbihQq4zAq2AzgGihJJdlFQPDJ65QKVis+4jgjqseZiOq9KNAEmBVyMtDsAPyKehfgfeVwFIKg6zTOWjsNhyAkGRQJBkVJ70CVII4SR9iDE/kk9C/A5TbIUmR7jlRcnVe5q5h5SogEUVIVW0hpjkZCsTGvalVmMKJPB1A+ntHGGkzRBESNxI4MAuk69aCOVLRpwuESVCgAaTwtubYzA1yj9qZPxGVehNMrKYNQegmntOgBYRNCTZganxNB8imtXEEkVZR0VyRAIg/EUlpmAMgSYE9aIIMEUqFtqIg0q5ZewmjbIthjpJiKUKZkxppwCWipcbKNRQRjqFNXrRQ7QKdDkoA3AirihWIBninoX4HKjkK7FV2j5JpE8RlgddauBmIULqN6ugPgRGiwx6TXhg3UAXyACT3pEfxBpEGSTsKupld8o8nT4q81vBBbEKCRSmDsD802eJlkUdhQMGaNyERcVnU7d6CpL6gAmRSBTcJdgN/fWrt1LgVWdoX23om0xUkkACMahbl5HBAUkSJ2rBy5EGZ1ohiii2AfLBNAQwHY1c9b/J4WUkGdgZHue1Ik55sFnqaum062lVwAixrNKyIwKyYIk0HVs8ydTOlJdthHWCp/tYVbe3aJOWU+21B7YVklobdutL4PkfxZxAgRV2Lrtc8RRPfekYJLddhQxZ1hY11pj+ISvfSmCrZ85LNl320oBS2pgU4QMQjEjvS+GLbLOrCZ+KyaIk1dbJyR2FWbjqra6AafPInoX4HPJ70XJRV6CpMRNFmIgk1JiJrI449J5CSSSeYu5EFiRxuYsSwO+44Ek7n7gMEHsauOjCFnVpM82fkK+88iehfgfkACxgUEcrlGlQYJjQVBiekxSo7kBRNeFcyKhZIEmraB2gmohoPfWriJAe36ex3H5k0noX4H37XrUdDvSkqQR0NG6DckLCwRHsaGBUopiYMmmtoqY5rIMzO9ZKllkDyWYbdqa75bYWZG57kVKK/wCHqxMgnpNXgQwJEMRLD3q16ivRlI/NJ6F+B+YRsTMaxp+ZJik9C/A5VEmKNplgMVB7UQQYPLct4Y6zIpQDM7ASedVLMAN6ZSjFW3FPadFQmPMJH5s0npX45U/CYMR5ug7e9EF3YsY1MmjaV1HhmYXY1iRE7U+ORxmOk0FYgGDvFZlRjiJnWRV26+DbASmOnca1JNu4SdZUVbxEkgH2NPZKswBBjpOtIhadQAOpoqQxXrMU9pkcJMmgpJiNat7XI3wq6FLOWeIAHcyBX1HhBUXIkxl8SBwc5Kr9dm/Mml9I+Oa4IerZALEn+00GGMETrTFLkEnHSKtXgmXYKcfk9azVvWpJ7irzF0tkCFAiO1W9Q6dxp8igNYNeJ+Ln/qmkuWkLQCZ/2oOinIAltxNXHwcMACzQzGleyrMfMZBHxNW3S0wcHI9KytgyFJPvV0hiGncCeA/pN7sI/Mnncg498RP2GYtv9osSAD02/wDbZtuFDFTHf9L8NwNV5FANu57RVvXMf6DwVnYtDSoWINRH6SCRRVdCblGOh4owGQPVaRsST7EfzwK2RE3CfgU7ZMT/APHA/UgANP1Ez24TG9B1OxFT+nEgbmv/xAArEQACAQMCBQQDAQEBAQAAAAAAARECECEgMQMwQEFREjNQcTJhciKBYHD/2gAIAQMBAT8A52TJkyQ/JBHTQ/Ns6K5FstOLS/iqticL5GpShrb5F7HZD+QexPyVS21JfFvYqew002nrTm6F8K9irscf3uL/AG/kGVdjje9xf7fJm0k/CPYqnBx/e4v9vXF4ZC6lOebUtjje7xP6fwfcXMZU9itzXU/LfOlTHIbiCYJklalVMirlxBJU3GwsvI2lZuBcqtbaXsLkq63O43duWou2pVkT/oc4MsUqUU4cTarYaZBlDVTFPKq3Q1D0PYySTtqbRI2IVnnYQyHuPJBFo6arc4vuV/09HcdmtUZ1NCUcluEJ9mo51VTT017nG93if0+ibS5ffROY0N/u9UrKJZ6sjcITeZ3JiESeticlTOK54lb/AG+a6kj1KycmWVOGhVEjaRKE5yxTI0thrOBYxd7EkVGzwQNS0RDPSt2JtrCEOyphjTYqGnMnplyeljT3EoK99fcklDblJGWK3cS3IqIYpPQpkaTPSiEQiERp78h5Fy6+TCI6zM8yp51xzHIn11e+t6nsxHYl7ySSrPzojMz1Ve5XT6anT40yluTLtI2JyN5KmoKVg7HbYjBGLPruJucRp11Nd3pjOxlTgiSCFaCBL4SuJ1vq3Pa7IScrmV762udEi0tryUuVoQ5lE5xfuMWxKJbcmW9xLXWsi5zeBadjAplwOSWKHvZXVozk2exs97JOdx0p2pUISY5lcivfXV2GxMdTkT0PYT1K/pIR92aTPSvGtd7JyTyq9xaHohEZEiM3dM9xJdKt2YbzZuGU0xPJrFt0U5i8q63YnLZAhsVlZk03f0ZSMeGLk17rVOhsWmbrdlLnS1pXSV6WpQp0PYQm5tG5Ak+5BkgjPXVaW4UilCc3iSCF1iclYmmO0rTX0jy7p5asnKvSt3rnMDcITwrVOBHozFnLgqWBqiBTC0VdLOSX2QplySLYnIll2k3d15Jhi3eCp42EiB0/syRDtGZ11ad7KzcRpzycIiX1VS1ruJFQnOjMkPz8HVyIGsrmJzyG9DcWm05ZOmTsdhuqJQ28fsqWNxbFfSboRNpRNm7vT3h2hW7obgVk5stiBpMhWqK16amvD0yhapt3JzfF83ggggjVHPqZW/VW35ejMCWJMkuClQrJZtkaYkRyJUx0ae4pdbdpWiqdSUc9OVy5zF6nt9lWzKXKQ2kJs9XeLZEtxJpYZ6n3WSjQziU+muqnw+gcDfgUjZS01iyWb7u6Hbvf9seUIakRF0oWtycf3uJ/T0ZESVbMT5MEEdP6lrZxvdr/AKejvAldaI6ZObSrva1Ow8LXUcf3uJ/T0RyVyN3E6Ym23ezs9ObPaysp1VHG92v+noeh7FCcWk7CH4tLMiMkMS1xqhc+orc1N+Xoe/2MTzAyJQtrQR5IRC+Dq7Fa9NTXh6oXxdRxvdr+9M8hv4So43u1/eirbQnM3q2tM1Xj9fA1djj+9X96GjI+1lKMiTII5Mpn/CX46qo4/vcT+n0mEZ8WhdVV2ON7tf316c6Kphi25tRxXPEq++jkm03bfgn9D7GRT5F+7NGRGXJmIM4H2KnCxuUrvyaird6/0RsQRG1nNmb3ggi3fTHLhCSRCmY5NQ93102n9dCziKK6l++ZK0SLKM8hWfbpWcT3K/t6Xlo7NEP0jnBDe49hbaYFrgZOhq66HifnV9vnR8JxPcr+3pnSxT30pjcWT/09Eqys1OhNM7iqTG5agdSTizcXnMXlkopcieHInKszifnV9vS1sNwIXcmENqBPBTOZGL/tvTl5Y28YHthCTXY/0S4JO+dDY34yUyplENrJ9DpczuNNkPcbr29IsQoGpNkdhOXjFlMZQ5mSEJQitbebtnE9yv7fKhcyFdTz0mtUZm7OJ+df2+hlTF20j1KJkbiyb2e/U1Ff51/b57GRCMzLE3O2Dd7Hp3Gm9ynYfU1djie5X/T6h9TUtiv86vt6pnUnM8htJSxOVImm31dTK/zq+3pebKprdEi2JVklJ3RUKpQNxZNNTZ9hbFMy8Kyxjqau2Crd/epbDIyKUOmYEo2KcNoeIdmsQNVuNkQxKUf7xsNOpQ1BFUQ2K3fqXrXfkJRykkp6lz/4KU3E/FytHdD7WaXxcvxod5q8CUL/AO0uew/PyceBprdfGzZKp7KT/8QATxAAAgEDAgIFBwoEBQMCBAUFAQIDAAQRBRIhMRATIkFRFCAwMkJhcRUjNEBQUmJygZEkM2ChBkNTscFjc9E1ghYlkqJERVTh8WSQ0uLw/9oACAEBAAE/AvrWD4Vsf7poQyn2DQtLg+waFhcn/LoaXdn2KGjXh9ihoV2e6hoFzQ/w7N41/wDDr/er/wCHfx0P8Or9+v8A4fh+9Q0C38aGhWor5EtK+RrPwr5Js/u0NMtPuV8n2n+nXkFr/p15HbD/ACxXktv/AKQryeD/AExXUQ/6YrqYvuCuqi+4K2J90VtXwFYHhWB4Vj0+K2L90V1Uf3Fo28J/y1ryK2POIUdPtD/lU2k2R9im0Ozpv8P233jTf4cj7pKb/Drd0lN/h+6HeKbRL1fZo6bdj/LNG1uB/lmupl+4a2t4eeqliAK0rTYoQJG7T/7UPqGDWxvumhbzH2DQsbo/5RpdKvD/AJdLol4fZpdAuD30P8Ov3uKX/Dq970v+H7fvahodoK+SLIezQ060H+XQtLcf5QrqYh/lr+1bE+6KwPtnaPAUYYjzQUbK2POJaOm2f+mKbSLH/TptDsj418gWnvo/4et/vmj/AIdj/wBWjoGwbkl41ZIUgUHnQ8/BoQynkhpbC7blE1Lo98f8ul0C7PhS/wCHJO+Sl/w5H3yUugWo5k0uj2Q9il06zX/KFC1txyiWhGg5KKx/SGOPmqrMwAHGrXQJHwZmx7qj0myQfyhS2dsnKJaEaDko/ps+YAScCtI0oQqJZR2/6fbn5miaZ/nyj8o/qBunR7HymfLeovOgABgf1AenRIOrsU8W4/1JY/RIfyD+pLI/wkH5B/UJ6bH6HB+T+oT06cf4GD8vpCcU15EpxuqOVZPVP9Jt06Z9Bg/L6SaRpZepT/3GktoUHq5qWMW9xEycicEeaTjou5Wigd1HKrK46+3V/wCi26dM+gwfl9G0y8RmtP4tcOee/HRf8ovzjzb3cbaTbz28K0yVpLNS3OpFDRsviK0djskjPst/RbdOmfQIPh6KQ4U0lvHjiONO3kdzuI+bk/saV1YZFS/O3Uafd4nzZACjD3Vo5xC6+D9EHzWqyL98f0W3Lp03hYwfl9E/NR0SRo6FWGRUqTWRzGd0f3fCtOmR2kY+uT5prTuxPdp+Lou+xqNq/wCn9Fvy6dN+hxfD0UnBlPQ7haRGuH3N6g/vVzYB+3H2XFWd07MYZRiQdAlvI7whh2S/T1CCYyjmefRc2oleJs+qf6Lbl06d9Dh+HonTctNLcodvVk11cjLul5eFW8qyRbgKzU2Gv7cpz7/Q5/oluXTY/RIvh6SRAyEeNRi4t8rtyM18+/dioLZYsnmfHzcgUZVHfTXkY768pkb1Iyabyr3D3VGW2Ddz/og8umy+ixfl+obhTToO+jep3ca66d/UjP611N03NgtCzT23JoLBHyUU1yo76Ex9mNmPjWLw9wFWryHcHHEf0OeXTafRovy+mkvTuwgzSzXLAbY6W3uW9aTFCyi9rJpYo15IKLAVJeRr311txL6ifrS2bni8lLbQrx2/aZbGPq7cum0+jRfl9NsQclHmT3Oxtq8TXUXM3rHaKjtIU9nP2nNdxxnHfUN2rNjv+svy6bT6NF+X6ltXOccftSeTqoZH+6K02DMflEnGSTj8KvlCNA457sUvIfWH9XptPo0X5f6FlvMXywVq7Ysiv3iBUeEhQeArd5XdKB/LjOSff9Zfj02n0aH8v1xmwKgu45ZCg7vTngKimV846CwFKwPpluUZ9oPRLcxxttJpGDLnozWRV5/6rAR4Vq067YB/1BSx3FzjPZj/ALmo40jUKowPNLAUDn6tZ/RIfy+hJxQIP1K7kPCNebVZxKJ2K8lGP182a8SKdEJ5+in4QyflrSCyy4J9cZ6L/wArM21AdorT1uF3dZy7ugnAzS6gGuFUDgTjPT16b9uekcegTqZdmePRN/Jk/KasEHX2+zmclqY7VJ8BWxJYZbmQ9tj2RVqpS3jB+7TcFPwo3V40hAioeWuPUxV1bzeVW+9+01X9tHDHCQPbHGoj2F+FE4qTUED7Rx48aQ7hnoZgAT4CpZbudnnDbYl5CrMsYFJ7/q1l9Eg/L6G7n2DaOZpTPZyIztlH5+7z1dTwHomIArLy3Um34A+FRRiNAo83UEBvV8dn+1W77oYz4rU0nVxlzyFRuHQMO/z7j+RJ+U1Y+tZY57T5t8+20mxz21AqyS2ar7IyeiVtkTt4Cra3eWGK49svn9OjVXeOzYqa08k2kRPhTMAK07L6ncy54ZrcKublUUjmfCtNTqLiRXHaNXNyiowPeK0+HLgTck5LQ6NoHd0X/wBOs/1q/i6y2b3caivFWDc3dTdddAAZVDzNTWSeSmNF5casZ8oAeYrcKvZ1EEozxK1ZI8yxo3CNOY8aDKBwrr16wIOf1TFWH0OH8voDypCZ9RIPJKu4Ott3X3cK0+XrLZfFeB8zcOhVkg1HxWTzMjzZJAi1cXLyZWP9606MLbhu9uPT1gBx0Syqg41dS9ZdxMvHgRUEDKiZfkOVXw/hZfhVljyaP4dCXbnUOq7vMklCCpbwMCAM1o/blj/Ap6NUuWt4ht5mreTdCjeI6NTnwyqPAjFae3kzEN3+1SsCOFXKF7eVfFTWlsPJUXw6NSJnTydOZqK76qEIRxAxW2e6/AlPZPE+6D9qVL5uBwtRWiIdx7TeJrUhJ5bB1XrEcaEAgkDy9okc/fV4Yz85G4D1YTGWAMel3CKSeQq4brdQs9vHn0eQW+7dj9OmeyYP1kJ494oQXjeswWo7GJDlu2ffUlgpO5G215DN/rVBaxw8Rxbx+pno0/6HD+X0DcjWnAGe5f8AFUs6rnJq3vepmmG0lS2ahuY5Y9yms03Koprg3Z7XDrMY6HizJG33T0SzrHzNG9L8I1JrqLuQ8W2+bNEkqbWq6WOG2YKMVCNkMa+C9DNhTQ3Tvv3e1hBWavtrlMnsjmKkUie1crhd2AOiaLrIXTxFWQZLcK3McKmlEak1ExjufKGHZc8KVgwyOg8BUeb2ZyT80p/epjFBCcKK0bMUsquME8ei5HlU6xDkPWqKSW0+bdTgcjXlqnlnNSWkrxTSt6/d8KjaCaAIwxVk7pcmAnIxkHoa3mt3YxDKnupWu34BNvvNQ26x5PNjzNGNOe0eaY0LhtvEd9EAjiKNnbd8dIioMKMDzFtIUm6wc/rp6LH6JD8PQSnCGrS5EcUp72fhUdmWw8h4+FSII7+HhwYbalHkl52PVk7vfTxXcHzitu8Vo6khj9/hUZa3uVmkXsv/AGocemWGNx2lpYo09Uedd3fVYA5mp5J5dgK8zXlbjnE1eXfgNddLJ6sRqK3nt39TdQF2/cFFRWqodx7TVqoxFG/3XFA5APTta5nI/wAtf71b7Lhp1bkp2gVDI9tOIH5H1T0SAmNgPCrOVoIxFsO7NLAZHDyd3JavLZ9yzResOYryi4kwqxnPfVtB1S8fWPOiAeYoIg5KOieyV+KnbVvaJDk5y3j9oWP0SL4egv5hHA1R2TtbxSKM4biKHIVqA4Rt3q4q5tmlkgYDk3HovLFZF3KoDiuvSaIwzDa1ac7G2G7uOKJxSMGXI9BexsuowlvUqH527Leyg/v595F1ttIvuq0ybeIn7vSiKg4VLayQzvLFybmKEc1xIhZcBWznpwPqDMFHGluEPDP1wnApJ1c8PR2X0WL4eg1WAywcO4irVNlvGPd0S2/WMMtw8PMktYJOLJxpVCjAHCpI96Fagj6qMJ6CaBJU2tUUSxLtX7AkL3t00SHEaesfE1dWclovXI3I1aydZAj+I8+WRY1yxpJNw4ejLAUGB8/Vndupt0OOsPE+6oYvJZVjXkR6E9Fj9Ei+H2KCD6GG9SSZ4/A+ku5hDbSv4LWmQ9Vapn1m7R/WtXOLQr3ucCrWPqreNPAeazhedKciry2W5j2E4qzgeBdpOR5txfRxNt5nwq3uxK+PNl6+e4k+d2hTwFQSvFJ1bnPhQdfGs0WAGTSSK3LoJxUjrJqij7sdXfB7c++hy83IrPTirH6LF8PRZotQdT3/AFiQ4Q1ptzK1z2+T5x6EWsYuGl8f9+iS9iScRE8eie6SP41aXu9ZS/AqaS/iLY3VuAGaSRW5HzNZ+iov3pFFKMKPhTxIzIT7PKry5S2gMjVC2+JG8RUsqxRs7HgBVpP18QkHI9Gqyu05UPgIP3Jq1DLbxhueONSyrGpLGtPuWuetc8t3CridIImc8hS3KdUrk86iukkPA1M+2J28BVgsaRmaXjI/Ek01yp1Fdg4BcE++gcgeZLbxSHOOPiKvLbq2hIc8WxQs5Nv840TNbsu85BNSlrm7EJbCIMt76tlC3MiJ6o6JHmvLhoo22xp6x8TQgW1vkGc7lp36+8jReSDLVd3AtrdpMZ8K025a4i3tRYDmavLvqdiINztyFdbcxbmlXAxnhSC+nXrcgA+zVlOzHB5jzLD6LH8PQvdP1jIq5Irbet91aW2PtybqVVXkPT56M9ImTdjPRcXyxHFWuorLN1eCM8qu2228h91WyYeyH4STQcZxROKe7RO8VDOsq5BpjtUmre4SaPcDw6bTUevvGjHId/RqgC3iuPaxn3YprppTsh4nxqCzVO0/aeo0efUbqEHs78mrmyiFq20YKjINW8895HGicB7RqxzBezQE92R5mscIoP8AvLQ5dGvrmCBfGWohtiQeArVWUWM2e8VprrHZRKfCpb5RwXtN4Cnsp2PlLgbx7NLqUfV/i8Kjt3nIkn5dyVpvYluE8JDWsxs9n2fvcas7KSZUM3BABtWrqDqGSWMcOTULqJhjIrqlZ9sKlj/YVeWot7VW9rfkmoX+aX4VJdxR8zUV8Zpwig/Hpv3D3NrAOe7PRewtLENvMHNFLiOdnYbN9WwjjTAP60XUVb3It+sGDu3GpUupWE/tf2UVYrFFHhTknm3jWrdq1/WrDrYoFVYmJo+UeVR9YcDHq0ceXlm+72avmDWrYqKeNYs54VZ4knllUdnu8ywP8JF8PQ7EznaM9B4Cri/KvtRdxqxummDBlwR6We8jicKzYrr7mYkwjhQ1E7CrD5wd1Hy9F6zA+FW1ws0QcVeydVAWp7Zo0SQud5IqZ9kJPuqxhDx9a4yXNeTQh1cKARWqNts5Kt22KZT4bVFSeVQdXcMeGeIq8uiFhEfOQ4FfJ8IXMjEnvrSNqtcBfVDcK1O5WO3b38BUW+O1jij9c1YXXWR7W9Yc6kcBTxrRY/npJT3E/wB6vL5YuwOLHupoWe4WOT15Bx9wrT/mJ3tj8R0aVHm6vJvF+FX24Wsm0ZJGP3rTrXya3Ve/vq7HUX8c3cVwaglWVcg9Osj+EU+Ei0nqL8OjVoy0CH7rg0LuMR7s91BDeSKzj5te7xptNgJ5n4VFbxReqv61qEsiRAR82OM+FW0QS9iCncSDvPQ0EqXpK+q5BJogHgR0EA868jts56sUFVRgDFay6rZPVt5XdRLt7CY51Fp8EfE9o+JoRoOSgdDglTg4NQWhWdppDl8YHuHS8SOuGFeRY9WUivIl9qRjSW8KjhGKwMYxTWC5yjlaW0QHLHcei4tus2kHDCvIC38x/wBq8h7OOtOK+TCH++O4E1EroOOPgOjv6NP+hw/D0dydsTN4CrWNFgVsdpuJNWnGed/080sBXWKK65SOFPcyO2yJcmoLqaO4EMw9bkfM1mL+Ktm8eBqGNY41UVeIBqdu2OfPotD5Pe3EHce0taod1o2PdVuwlKySHgOQrUrhfJnUGrVl8nix90U8iqKullvFIQdkGrWy24aXn3DwqSJJIyjDgalsbpGj29oRtlaWK7m4P2FpLO6t9yR42k86n02WVUJfLA1bWohGc5Y8zU9gTL1sTbSedR2b/wCbJu91PYSK7tCwXdVvp4SUyydpu6r2BxIk6cwKgWSa9jm2kBVweiKGOIYQYHSyK4wwzSRpGMKMdOsj+Bb8y1B/KT4dBAIwa+T7YNnb+lAAdLxJIuGFRW8MXqJjz5ZVijZ2PACrsSXFq91LwBPza1bJsgjX8P1YdGnfQ4vh6ObtRsKt5ZGTyb2gcfpShYUAFXV424KnjjNRgrGqk8hU90Y54kHtGtwrU5P4dxnj3VaRPdIC7naKvImtJFMbHa3AiraERRKP1NaoNpgfwfzNSiL3FqPxUOAqe1Z7uCTuXn0XFmJmVwdrDvqKyRfXJavk2HPM48KNpB1ZTZQsrmPgkvZpbLP82Qt7qChRgD6tqy/wE1Wb5tYT+Eenv38ou4bMHh6z1qeM2dsve/8AYUBgD6q5IRseFQ5I6NN+hxfD0dxOxbYg41PEbYLMjdoet76h3Xg3ZwlXtr/Ddgeoc0L5DGDnjjlT2YuF3Nwb2a8lvO+YU1iNjc2fHM1ZRGK3VSOPfV1bGZo/AHj0Xtu00YA55oculkRipI5cvsC/iMlnMi8ytWVyiwRpnioxXXIfaHptPGdTu5G7jVpm81OW4/y4+yn1cDGejTj/AAUXw9HMI4Q0uPjVp/FFnf1e4VZ/M3UsPsntL0eTwA56tc/Zj2du5yUpLeGL1V9NPp0pd+pbAk51a20dtCsach9Z00/wcXw9HNEskbIe8VbrPaKYmTI7iKt4nLmVxjuA+sddH40CD5sl6sd+luQe0Ptc9GmH+Cj+szzLEuTVtcx3C5Q+iud3k8u31tvCrOxaaISySnJp1u7I7874++redJog6nzL+EddaTY4iQDzNw+0z0aX9Dj9JK21Caj1CZJlZvUY4xQ4j0eq9rqV7i9QReTX20HsuKu5+ogMnhVtP1secEVLIqLk017K38uMmodR7W2VdtZ81Y1TO3vOaIyKUGxvwv8AlS8vcfMZQ3MdJuLyeR1iThnGTSWV2eLz4+FDkPtI9GlH+Cj9JfsdoUe0cVd2sb22zljlVnnyePPh6A0dRgWYRs4yejVHHzJ/HU06+WwtnkKuphPDJGFY5FaTOZLfa3rJwrWOFqSO4irfUI+rHZIqeWO4Ur1bH9KtJLx02beK+NNc3NqyGZRsJxmmvXYkRIWxVtfh5OqcbX8PM1n+TEw5rIKX1R8POx9qHo0j6GnpLt/4i3H4qJe4bavqd5oDAA6AQelmC863ADNAg1cHbC5q1sBPb9b7ZNMjdVgc8cKngnMJeV23Lx21p9uhZpNvDAArAxyrTOFxd/GtY/lR+BcZqGKNI1AFSOqKTVllmllxgMeFar21WHHaYjFQQiKNV/etWTasdwvrRuKRgyK3iOm++euYIB97J8y4ZkhZlGT4VAs4JaRufs/ax6NJ+ij0RYCp7x1kCqpNKJJrqISY76VQowB0XNwsS5zVh2kMpPrVd3XUDNCZSoI7xVxuuconLvarOSeZRB93gTRMlhMu4kwv/Y0yh4yM8xWmSCLfbv6ytRdQOdXkklxHIkQ4Y4mtNcNZxnosIZI5LhnXm1X1t5RblBz5iozqChU6rlQtJZDmduH3RQAAwK6tC4fHaHf0akm+zmH4athiCIfhHRNcxxttY8dua05DI8l03ter8Pttu7o0n6L+vortm62OLON550mnwLx51NE1veRmEfpUV2kkeRw8fdRnZziIZP8Aahagg7zljUEV9CvVBMgHgaFsCp63tEil05V4daxX7tBFC4Aq2tRCZD3sanhSaJkccDVkk8SGOT2fVPuq5sopm3cm8RSaeB68jNSoqrgDAq1hntpXjA+bLZB9JdWaXKru4Ed9IixoFHIfbZ6NFObQeiubZZl48CORrqdQT2kcftVwLrr4S4UHPCntzDMru2VY9rupVVQMD7bJAr5Qtt+0SLn40rZH1dujQ/onpNS7IifwcVcqrwMPdVo++3jPu+1Z9Rgil6vPapHDICPNnabULp4EbbDH65HeabQ41XsNxrTpW2tG3NfQB1zj079Gh/RfSagmbZ/hQl/gVb8FWSlLaMfW96+P1m6m6i3lk+6ua02yTyUySjMkvEn41pbfNOv3WI8y8m6i2lk8F4fGtLg6mzT7zdpvieiLhqUoHLHntyNaPkiRifaPp35dGhn+F9I6bkINfOKj2pznf2fhSDaij3fWScCuunumIh4IPbp9LLD6Q+as2mguDbStuyu5T0JcxtPJED2k5+huby4e5aG3X1B2zVhc+UQ7u8cD57MFUk8gKhmSaNZFPA9Fy7R28rqOIWtIuWntssctnjWssfJAg5yOq08kdtb5Y8FWtOiZLfLjtOSx/XzNZ4xQRfflApRgAdHWbbm7mUZ24UfGrWYyrnl5k18EfYil2HPFW12JFdzwC8/dU2sRMriEFj3cK0p7vqSI4s8TxzUvlwXcWUe4casYp1jzO2XP9vSv3dGhfRvSmNCwbaMjv+qh1Jxnj5urOUszjvIH71CixxoqjgB0evqWR7EX+/Qgdddlx38/28/yiHj2xwpr+3HtZ+HGrCeUyXckcJbdJVobmO+nQRjtYfGaXOBkY86RdyMviK02EwQtETnDdF4P4Wf8hrRVCWSnxrVrlDPaKvaKvnAqK1lmcS3Pd6sdZA8y/wC3qNinhluiVtsbEc+6uoFrZxda/HrNz1EqHtr7VS3UUTKGPE01zCibmYCvK3f+VCx9/IVp0MsnXZk25c5xzNTWieTdQn/8038LG+6HB24GBWjAizX359O/Lo0L6MfQmRR30syNwDD0EsyRDLcqVlZQRyPT10YlEZPaPIefqVwYrc45ngKsQ62y7ifMninttSS4LfNs2D5t5b9fbSR955fGrG83r1UvZlXgwqQ4jY+6tPhkSMtL/Mc5PQ/Z1uP8UNNNGnNhUeoQPMI1OTVxewQcGbj4Vb6hBOdqt2vCnkVFLMcAU9xBeL1Mc+D7qTRQhyrL+opIY414Io+FaJ9GdvGRjVv29Ru5O5QE6HkRBljgUDmuviM3U7u3jOKupZ02JFHuZv8AipdTlttglhPHvqWT+EeRfuEitNkMllE55mr288nChULO3ICmm1CaCUG32AqedaXZyT2iF5iE48BVzBFBqFgqLjiaZ1QFmOAKnlu7rdMmVhi4j8VWs/WwI/j0T6vZxPs38c09/E+pxycdqpj9aGou3BIHP6V1moScogvxNX9sy2zPI++QkBB7z4VboUhQHntq8EIhkd4weFaVHvnfr+LryB7qlkWJCx7qtZZPK3Ugxh+0AedKABwrUOFpN+WtNIW3iXPNc+nblX61oX0X0FxL1aE0tpJcduRuH3am0g+tC36Vp107fNS+stMcAmrW6FwrY7j5usrm1PxFad9Ej6dTiYGK5TnGeI91I4ZAw7/NuJxCvv8ACr2OYxxzyffXC0vqL8PMkjWRCrcjQ5ebd2KXHaHYccmFJezWx6q7X4P3Gg6lNynNLfajcv8AMQ4XOONPDcPqcIlfB6o+rSWFuOLZc++lgijZpAoHZx+1afCtyJLmUZLt2fgK1SySEeVQnYy0IpbnTEG7tc+NXMXVywHq2SXd+lRXEUvqtR5Vp1z1GnH7+8gD31ZwdTCAfWPFviejX1zbwj/qikASNV7gK0zY2p3km7vNM6qMk1czm9+YgTcO9zyFCALbdUPuYrTomhsokYYIqSGN2QkcVORVx9HmP4DWjDGnw/r/AL1qkMu+3mjTdsPKorW5uX6y64L7Mf8A5rqk6spjhjFaaxiea3b2Tw+HQNHQX+8rmLGf1pIYxrJAUYWPh0tGhKkrkjl0XMAmhaPOPfVlYm3eR3bLtUsSSJtYU+kETI6Scm76FXMJmgdB3irS0eNg8jcQu1QOQ9O3Lo0H6MfQanu6nI7iKgffCjeI6L3fFcQzL44NH1a05Qtxcj39E9xtIUcWPIU/lsDBy4Ze9a7hWrN8xt8SKS4itreLd92oLiKdN0bZ6JEDoynvFEiKLJ5KKOo7uESF/hUUl7uBaHs9LwRtIrkcRWrL/BOfAg1C26GM/hHoZJFjQs3IVa3PlCbgjAe+nRJFKsoIqeOTTj1sLZiz2oz/AMVCI8b1Hr8acE6xH+GHocZRh4irC7FtB1EoIZDip4nvV2erHjn41DHqcKrEFVlHAGobQiQyytuf+wq+tdq9fCMSJx4d9RajHIE2cWPd4Vo0C5nLDtpIR039r5TDtBwQcilsruQ/PzDb4LT6VBzRmQ+6l0tP8yV391JGkagKMDzLwObWUIuWK4qxhMFrFG3MDj5klpC0qykdodMf/rc/5B9abl0aF9FPoGUMMGsTWLdkF4fDvWop4pl3I2adFfgakkWNcmo5s3rmEZ3CupunHGQL8ONIbiK+YH5wheFLFPKR1vZX7tSSqg4mr/dKnW8lUjb76tVW5mJbkgAAqVBaXsUkfqPwYdOUbs1HFHGMKuPNvV32sw/Aa0+ZTZQ5PdQvbffs3jPTIt4LxSmOqxxHmzQiaJkPfXkt/HwSZSKT5R9oLXydLPJuuJeH3BQAUADupf8A1l/+yOkov3R5qxxqSVQCoG8l1O4jb1Ze0tJIjMwDAkc/qUX/AK3P+QdNxe28HB27X3RzqDU555dq2xxnn0O6ohZjgDnXymH/AJUMjDxxUF9FKSM8RzHh9Sbl0aF9FPoZ7xkcKsZfPhXkLP8AOoepk93/ADVrdMX6mddsnj3GtSVtiNjK7huplSG7t9i4U8Oi6s+tKyI22ReRpV1Dk3V/GltMtulbef7VrfZsjj3VZWrNbB4n2sedQ2U5ZGnfO3kOjUGkCKq57fDPhVraCEcTubx827edFHVpuzU1xqCcJDwPu5VplistuDIzc+WaSzt4+UY9LbdrVLx+4KF9Dc2kNwB1g5cjUUSRLhR9Smk6rWh+IAdFzdTSTeTWvre2/ctQaMold5nZ/wDmkREGFUAdGsn5qFO5pBmsfMEJgdnhUFmstzthJ2qcyP7/AHUOH1FuXRoP0Y+hlt7iOQywcc81NC5bHGNgfCsT3M6fN7QpzurHcanhl62HC5AfgfDzdSgMtq6gZqyj6u2QYx3+iKgjBFKqoMKMD02AM8PM3pvC5GfD0NzcR20LSvyFQTLNEsi8iPMW7iad4Qe0nPou7wwXNvHgYkPmtPCvrOKR1dcqcjovw41e3K4446PnLG4lLLlHbO6op4pFyrdOoRpJbPuOMcc1BPPfBbfOyP2j3tUMMcMYRBgD6k3KuNaF9FP2RKWEblRkhTitJupbmBmlxuD48+/laHWEfuGz9j0avK0Vi5U4JIFQsTDHnntFTaowmaKG3ZypwTW3VZOZSMf3rS5JmuLxHlLbDjp/xCkjQRbRwDEmtFlzYLux2SRXl9tvEYfLE93TAnV6/N71z0aqMXWnsfv9D5CnaMnHKv8A5y7+rGi18n3Un8+6OPBeFfJdqF5cfE8ajjSJAiDAHQ9tE0qSsO0vLoIBGCKl08Kd1u5RvDuqzvJDO1vKO2PCri6jh97dy0trPdsHuuCezEP+avbPlNAMMvdVlcdfEG+pN6prJrQvop+xNWckJAp4nLH4CrBy9pCx+75giW3u5JcgLIvH4im1SyH+cp+FNq+c9TC71ayTPFulj2N4eZeInytBvXKOmP1HRrMhnDRx8ou25q0bNpAfwCvJ4xN1o4N39Gk/SNQ/7x6J50iC7u/lXX392jqtthG4ZbwrSrITiSOSRsI3qCobWCD+XGB0/wD58f8AtdGuDC2reEtDkOie4hgXdI4ApdW63PVwO3gBW7VJOSJGPfxoWl5za8/YUBgDocsFJVcnuFdfqHda/wB6aLUpuDSrEPw86tLCC1B2cWPNjzNdTdR3Dy9RvZj62e6uuv8A/wDTf3qSPVZ+G5YV7+81Z2qWsIjXj4nx+pNyNZFaH9FPotw9C8ioMsagvIJyQj5I9MSACTT65bB9qBm+FSXPW3rO0bDbAf71p422UI/DSX9s0/Uhu103mmRXjKZHbh3CodLsoeUeT76VVUYAwPNvLRLqPaTgjip8KWz1I9l7obfHvp7RI7KeNOZQ8fE1o77tPh93Dp0r6XqP/d6CAeY6NHxuvP8AvHzHjlXWFl6slGTGejUrRruFUBxhs0g2qo8B0S2lvK4d49xHjSqqjAAH148jWK0L6KfQ3dwIYyTVvHNddqRmVfdU0MtniSOZsd6njSnKg+I8/Uu2YofvtXUrBe2u3vBHnFh40CDyPQTwqTUreN8Ek/ClZSoYcqS8jedoV5gceiRFeNkPtDFWFgtqzKYw33Xq8Dvqbxp7aKKfZFbkbsALjNabKouE8o7OB2Djn5iujMyhuK8x6GwSe1lkg6pihfKt3Y6YrWCEsUXnzPj5lhZvbdbufJds/ZB5dGi/RfQ6up2ofZ3ca8stLeFO1wxwoz+WOsaA7c5J827uxAvie4VBq7mULNFtB5HoveF5afmqTtX8A8AT0XWopbnbtLHwFWd2LmHfjHHpIkk1WZBIwBbjThtNuEwSYZOfxpby/A63qt0We7nV5qMMsKiN8bmAPjTvBs6qFQzEY4UzvtS2h9bHabwqCQWN5cJhie4eNXBvIil5xwD2k/DUV3byoHWQVNfEt1duu9/7VbRyQ6sOtbLPHnNXCPc3Yi49WnE++pHsXt9s21Rywe6tImYiaHfuVD2G8R029qIJZ33Z6w5+2DyNYrQ/ovoXVWXDDIqaG0jwEhBc8hVtB1S8fWPM+YeVW2ye5mkYjsnAq/2S7Yl9bIxSjCge6tWB6gSDnGc1p+ZN1wfa5U/qGrOSMJNO/PcasY+qh48NzZp72BTjdk+A41FM8n+UyjxNWFvuvriY9znFajaPcxoq9zg1HGERV8BVzp1rcesnHxFQaY8PATdn4cajiSMYUVsTdu2jPj0HSrLdu6vHwNRxRxjCKAKvrSSVoZoSBLGeHvFQddtzLjPgO6pLK1lbc8Sk1HFHGMIoUe77K3DOM/UTyNbjWifRfQ3U4hjLGoLi4jYzvAWB7/AVDPHNGHjbI82K3238yGUoW4j35qG3jh5c+8nnUk0cYyxoK94QWGIh/wDdXkdzauTakFD/AJZoTXrrtNrj9aTS7qNg6Oh45wa8lmkx10n6LUcEMXqJj7WSSNicMD0SuI43c9wzVoJBcQzu+TNnzNQv5ILmGFRzIzSnsg+m0T6J6A1M/ld4IR6qnj8aVAFxjhU8UljMZ4RmI+ulCeS7PzOQPvUucDPTcWcNyO2OI5EcxS2NwnAXjbfeM0tjGDuclz7/AKrn09zqkVvN1ZRjy3HwzQOQCPq2ovJLNDZo+3fxc+6rWBbW+6lPVKZ6NWkC2MvHnwp7m2TyAdYOzz91HWLZRkB2/SkbcgPj0apmXVoU5YxS8FAqa6gh9eQCnu7ZMb5VH61Hcwyeq4PouFaL9F9Ayllq0sxDlm4ue/pAA+tSyCONnPIDNCC/kDXkbES5yB3EeFWN4t3Bv5EcGXwPmSXMMckcbN2n9XpkO2N28BWj3j3MT9YcsD/v5javGmoeSlOGcbvf0SN10t9H7Uk6oPgtKNoA8B6C4vrW2x1smD4d9W1/a3OeqfOPPudStLdtrydrwFKwYAjzYu3rU5+6gFL29VcjkkeDV4LnqCIPXq6s5o4i0qvktzJzVvBbyXcKJENsaZb41JbQvt3Ly7u6pJY41y7BR76Ou2W/au4/pSyzXGqNLHATgcAeFeT6hL/MnEY8Eqe0zfJDBzAyztxpNMtEHFN7d7NxJq805UHWwDaw8KsZWkhBb0Wi/RPsbVphshgzxkcftSgKoA7hX0TVx3JcD+/matk3nDmkG4fvUMm+GNvFQehxlWHurQMieRfwf7eZqFuqarZzffYZ/Srm7it17Ryx5KOZrRUEk9zOy4beeHhn0BOATVjp8V8r3Vxli7HHHuqe0hs5rWWBduZQp/XzL7U2gkMccW4hdzHuApG3IreI6IbOJ5btJF/iN2V3GtIyLPtNyY1Dem51PZG/zSL+9HgK0u5kuI5JHb2zj4dHlYt7++OMuThF8a0+2aGImT+Y53N0a46rbIM8S/AVptr1EOW4u/FjSsGHA1e2y3EWDzHKrNYOqBEagjnwrSBu6+U+056Gxa6g7vwVxzoXUGM7xU9803zNou5jzb2RVtB1MSpnPifQ8a0X6J9ja3u8vh2Alur4fvULl4Y3ZcErkitZj/hhKBxiYNUTB40cd4z0PqdojFdxZvwjNX93FJdb0z9HZfDxqzG21gX8AqaaOGNndsKOZqDWrOaXYNw8CasF2azdr7if36ZLm3iyXlUfrWo3pne2MSMAJOy5Hf7qtbFIj1j9uU82NWPzeo30XiQ/mX1z5PDkDtMdq/E1Yx4v22Ss4VfnGP3vMXT7m2Ym1nGzOerblVxPeSXcERgBMZ3kKa8tu/8A9A/7im1GePjJZuqZ4nPRc7vLryHHan2KvwpRtUDwHRrjwpsdWxMOWPCrFZb+FY/5duowcc3NBEs9WHAKjx4FXFyZMw2/FzwLdy1DDeaazLHEZozx99dfqMy4jt+r/E/dVtCLTUT153O44OayoGSeFT6mM9Xar1rn9hV5p8otjcTvvlyP0FeVRRWiyMeGP3rT0lW3HWDDHJx4Z6Lsi28oI9pM/rWmJss4/hnokijdcOoNeQ2o/wAoUqKowqgD3eizWjfRB9aur+3tf5jfpVpf292D1TcR3cvMF+vl/k2O7n7/AD7zB1m1GPY/5q7vpLciGG3Z32jFO2rXFvIrW0aAqe+tMfUHtE2NFtHDjzq98uMkNt14zLnO0YwBUGnmKMIs7Ae4AVf2sIvbWIMcv62Tx50BgYrUh5ReWlr7PrvWo2Fp5LLIsYVkXII91aPK8mpSO/No+i9t5ZocRTFGrT9Osy79ZvMq+sG/3rWQFhtschOvRcHybV4ZW4JKm3Pvqe7aZ2t7bn7b/d+HvrqrrTGEqZeE+uO8e+l1exblJx8MGtUe4m6l3j6uEPz7+NWsUEMKiLG2pbu2h/mSge6opVkQOuce8Y6Ly7jtYt7d/BR4mtPgkQPNN/Nl4n3e7o1K3eezljT1u6oby7fankbgjmTyqbS3lPXddifuPh7qV9VTg0CP+IHFEanNwJSEe7iavLS2tpoWkV5F9o8yT760cN1l1IEKxM3YBq4toLhcSLmoLWC3XEaY6bi0huE2uPga+Tk27ZJGce+oLaGAYjTFSRJIjIw4GoNMhhYHcz49Xd7PTc2sVyoV6VQoAHIen0f6IPQT3extiLubwqeTVOasPgozWmahLNIYZx2h7sU52rmrO68ojLYxg+bHcwvI8at2l5j0KLatezeWEht3DPKpYobW6t5oMAMdrAeZdwr5VaTgcd+0/A9Ek8MXryKvxpdUtC+AWPvA4eZcyf8Az2P4KP3q8hJ6uVPXiOfiPCu6tF4QSjwmar9Zo7q3uI4i4QEMBzpLu4nTsW7ofxd1X1mLdYLgnLiYF26L5LmK8iuooy427WUU8lzfuLdl2Dm6+A99TJ5Pq1o44K6bf26bi13Ok8fCVf7jwNapLHNaRlT/AJ6g+49FxbQ3KbJVyKt7WG2XbEuB0CKJTkIo/SpYo5YyjrkGl0mNOCTyqv3c8Kjs4IzkJlvE8T0y2gluUkc5VPVX3+P2Lo30QefJwU1p2x42l5uTx6PJP40Tg8hxpx2DWk9kToeYfoluoIvXcClZWAIORR5VbEpfM475cfv03VtMLqO4jJOOBXzpraCX+YgNJBC16scS4ji7Tfm8wgHol0iKW8M0h3L4UkccYwigDzPIH+U2uc9jA/fomuDbv2kPVEesO4++tIHZuXx2XmYr8Om6t1uLd4j7QqC9uYF6me2kLLwDKMg03lVwuAOpU9/tVb20Vum1B8T3mrm0iuUCvnIOQw5ikXaoGc4HPputJSWTcjlMsGYdxx9n9nxrR/og9BLDNayGaAZU+un/AIq2uobhcofiO8dNrhL+4HiM1d3ccMbHeM+FWyQPb9bKASeZNWA7D44Ju7NHkatRvu2X/rZ/as+gvbkpiKPjK/If81CkNnBh3HixPeabVIzwiieT4CrWa5k3dZDsHd0xTxSFgjZ28/6CmOE51xrRvoY9BvXOO+rqz/zoOxL/AL1Z3Bnj4jDjgwq5a/Mm2ALjvPhS2x8uCzSFty8+VXemweTOI4xuxwrT7aGWFXZ2bHs54ChgCrm8jiGObeAq2ml619mA7t+1XFokMZka5Jl7uNWzO0EbPz21LKsUbO3IUnyheEnrOriz3c6hTq4wu4nHefMSx1E3LyGRFyefM4qPT4t26UmRvE0AByHmQW8UC7UXAzn+grhC8ZArqpK0b6GPPut6xMV54q2uLURg9aN3fnnUt5nswpvarSAxIS3rtxbovF23Vs/4sdEmnESGW2mMbHmO6vJr1uEtwMfhFLbRQI21ePia0iBJuv3jPE/70lhaoc7Mn3nPQQCMEUABy+pw3EMu/q2ztOD9QvLpLWBpG/QeJrT79pzIkibHXu9ASBSSRv6rqf16JZool3SOFFQalbzShF3ceRIxnpmuoICgkbG48Onyy3Fx1G/5zHL0mrzzQW6tEfa41bvuiU0WCgk8hXy5bZKxpI/wFJrVufYf9q+VLbwf/wCk1LrUYbYkEjOeQ5V1WqzcXnWEfdUZqRL+0YOZzInfmom3LnpxWjfQx6Dya3Jz1S0FCjAGOkgHu8ybhEx91aHBthZ+Pa+rag+yyuD+D/fhVlH5FdWyA9maL/7h6YkAZNfKlhx/iF4eFX18Lie0WGJmAfdx4Bqdb/5RhYlImlUjh2uVRCRUw8m8+OMVdaldrdNBa2+8p6xqyuvKrdZMY7iKe4gjZVeRVLcgTz6Z544Imkc4UU9zdapuSNex4d3/ALq07TFs8sW3ORROBmrOPy9zdzDK5xEncPfV7tuHRImxJDMmenVceV2BPLeR+9NGkfb68oPDPClvkkkVIfnPvEchQhHy+5/BmjwBNaPI8kMjs2cyGtTleK0dkUk+6otNv0jWeO5O/mUPKrC78piyeDDgR0EgDJp9Sj5QxPN70HD966/U29W0VfzNWdUHNYP3NQs7IC4GfdWrjNm3xFW2OpXArVCRZSe/hVpawpGhRQPHhzq8tOrIni4Y9YVG2Yg3urTY0eaWZx2tx6L+Tdtt14ux5VEu1AOg1lPE1o30MfYourbdt69M/Ho1j6C35k/3q9Hz2nY/1elZI2OA4PnzXlrAQJZQD4UrBlBU5B6J7mKAxh/bbaKnhWeF4mJww7qt9Hgtm3Ic+O4ZrUvp+m/mP/FXHHVLEeCuejyiSGa/t1UmWSTsfrVpALe3ji8BWt6cZpoZVbiSEPuq2V44I0c5IGOjWona2QgZVJAXHuqwW0EW63xtbjw6GGVI8a0y5W2EtrOdpiJI94rT0MhmumH81sr+UdF414rxiHkeZxmtStroeTmW6LZlAGBjGaj0qzB3Mpc+LnNKioMKoA91TERa3Ex4B4sVd3/Wb7e07cp4EjktaAMWZH4zTAEEGuzFHxPACtIy5uZsdl5Oz0ModSp5GooY4V2oMCnkSMdo/AeNKWI4jHu6NSGbKWrQg28fwq6h66Fk8aiubu3Aia1ZiO8cq6u7uuEmI4+8DmaVQoAqSxnSQvbSYzzBrqNRkGGmVB7udW9nDBkrxY82PPpNbvwVo30QejvZ2giJXi3dVleSO5imHa/b6lK2yKR/BSa0i5mnhcyPuOefm3fXX07W0T7Y0/mt7/Cn/wAOwqh/iWz/AGrSi5sYtxrVU3WE/wAM/txq1fyq6tmHERQ8fzHovXZ5orRTjeMufw15JDaXlksAI3Ft3w6NSMwspjEcED+1WmoahPEvUQg7Rxd++vlcCFt0R65W29X76j1J1lEd3D1W71W7qv7k29qzrz5L8TTW8VvZlpcPKw9Y8yTVunVwRJ4KKnuIoIy8jYFQSTT6vE0y47GUXwFXV7Dagb88e4c6R1dQynIIrWeBspfuzVZnyi+nufYA6tDU+o7m6m0XrJPHuWpdNnhXyoSF51O5vf7qtblLmBJV7+6iAeYq+TUpJUW3cImOLVBDLGPnJ2c/oB0S6Ym8yW7mF/w8j+lLe3NvIkV2gwxwsq8s9Gqwrd3UFsqcfWd/AVaTT29wllPhuHzbjwHj060P4eJvuzKem6sba6x1qZxyqC0gtkIiQCtE/kS/91ui+vI57k2zzCOFfXPe3ur5S06FAqycAOAUVaapFcybVjcDuJHPomMoiYxpubuFW66nuLvAm/7zt/sBQgum/m3P6IMUkKJyH6niamTrInTxFafwgCnmvA+j+e8K0f6GPQnlVtdz/KLxs3Z3YxWo+tbj8dNtkvE2+xzPpdwzjI6bmdYIXkYcqsLtp0bdjI8PfTrmNx4itIuoILVxI/Hfy76bVJy46q0cp3luH7UDkDhjpt5LqOweaCPfJJMa6vU7oBJ9kUftbeZpFVFCqOA5VfzrFARjc79lV8c1o7eTtJaSjbJnPx6LmVbfWFkkPZMPD9KtEeWZruQYyMIPBejVNSj6iSKHtE9knuGa063NvaIh586SFW1yRh7KAmpreGePZKm4Ve6RKkHzE8jBTnqzxq0mtHIeW4LSDufhj9Ke9lfs20Jc/ePq1DYEuJrl+sk/+1fhV7bX3lyz2wQ/N7ePdUGn9g+UN1jn1jUM02ls8EsbvFn5thxrUGuruz39VtRTu99Rx2t1bRQxyMFC5O3/AGNQW8MC7YkAFX017BsMEHWr7Q760iGeJJjJHs3vkL4Vc39vAdhO5+5F4k0pyoOMe7om1C1hO1pMt90cTRu7uRfmLQ/mk7NQ6e7yLPdyb3HEL7K9E9tO0paKYJuHE4yf0q1sIbdi+S8h5u3PpvLfr7do+/h/bzdIQrBID/qt0NaWpbcYUJ8cUIol9VFH6UFA5D6lj8daR9F/X0J5UocaqxBwN3H9q1C5SeSNY+OG9buq3gWFcDmeZ8wXdv1vVb+106tqDWyKsfrn/atPvPKbcOfW76kvnLmO2i3sOZ7hVtezifye5VQx9Ujkei+mcNDAnAyHn7qeySzkt2jZtxk45PRfveNcpFbybTt3fGnvnnkhgufm9hzJ78VYqfnZiu3rDwHuFakJjanq2xx7Z/DWgxwhrjhkqeB93m2EyWjy2kx2HeShPeDXWRgZLipNRXOy3QzP7uQq3tHD9fO26X+y/CrqxguVG8YI5MOYpbXU4uC3isv4l402l9dxuJmZ+4jht+FJbalENoukdfxLxprF5fpM7MPur2RQtbdUVREuAcgY6MDpKRk52L8cedgGo4o4hhECjwHmdVGHL7e0e/pWGGMnZGozz4elCgZwPQswUZJwKDBhkHh6M1mOtIP8L+vnvNFH67gUdRsgP54Pw40b6aQfMWzt724CrS0e4uJWnxz4gVqESRpEFUAbxWQFz7qbVMSD5k9Vn16BBAIPCtQuOogJHPlVkitPHtAwgyze89N7pwuJY5N+CvuzmrgSWt26R8BMOFW0CwRBFrVojsSdPWiOaikEsauO8VqiunVXKc4jy91W91Fe3KyMwVU9VSeOakureL15Vq4vC13DLbqe9MsMLxqCwa/luZJpO0pxleVJ8sQ9jZFIPvZxXkk0rBrqQEf6a8qji6jWHwvZlTzZbaCYYljVvjS6VYKeEA/vSIiDCqAPd9nQ3jvezQnGF5dGrMZZFtlPJSz1pp/hI/h6TJ+7WjfQx58ttBJ66A1DZRQeoOHvpvVNaYfpJ/6hrU0doMqu7BBxVut1ckGYbIwPV8aeCN4urI4UsOpWhxEFlj7geBFXVvqF1FxVE79vOrW6eCMRmxkBHh31bySOmXi2e7p1eHcYHHc9DlRAIINDT7qAnya62p91hmhYl8G5l6wju5CpbS1k9aFD+lJZWqcRAn7VPbxzxGNhw/2q1tktogikn3n6lfXZt1RUTdK5wi1YXk0rvFcLtkXj+nnZ5fUiyqMscDzb++eLWUyewmB+/oI9/wAtybeXf0b5Li+uViGdx27u5VqGMRRqg7h0yalbRzCHJLZ7u70Pa8a0X6GPQt6prTD2rkf9T67yqC6huE3xNkecR1mse6KD+7VB85qdxIOSIE/X0CujHgwP6+eTio5Y5BlHDDOOHnW13JLrMi7+wAQB8OjXizPBEPBm/araTfbQt4oPM8nS51yfeMhMHHnXV/bWn8xuPgKTXrWT1Y5s+G2re4uXvbloLbiT7fDFNZXcwPlNxw/004CtKubS2idXkAbdy76k1ZF/lwu/j7qhnSaMOvKrybqLaR/dUEQaSBeb+u5+NDpGe/zdvvrRfoY9EAByH1XUpWWAIh7UjbRQW603bKCXgON6nmtI6ugZTkEc+m71FbaVI9m773uHTdfRpvyGtAk7cqZ5oD+3mJdXKa6wJOC+zHuokAZNNM82qSi0YdqMLu8KtrdIIgi/qfHz7sS6hcPbRybY4/XPi3hR0e4s/nrabcV7qtZ/KLeOTxHTe3bxFIoVDTPyH/NWk9z1ssM+0soB4e/o1OQGeG3b+XtMknwWtJiMdoCfbJb96llWKN5G5KMmoJxPEki5w3jWoX62UanbuZjwFI+9FbxGejRRuvt/4WJ/enkSNdzsAPE1qF9aSXsDo+5VRgce+rS41DyGNYLXJA9ZjVuZTCnWevjtdAudVuLh4VljiKnwqxtbma6u28rKkNhmUc6bTMKS97cf/VWnWC3IkleWXG7sdql66wuUTezwyHgSc46bm3V9r4yV/vUTRNGCmK0ztXF4/jJ0GztS24wJnxxWxAMbRijb3lnKWt16yM+xnlVx8o3cLJ5Ns+NWDS2o2vaPv9pudJdTOwxavjxPD0GBWjfRB9XZlUZJAFLIki5RgR4jz57tZtWghQfyzxPvplVlKnkRWnk2txLZMeHrR/DolniiGZHVR76n2SNqrZB4Jio/5aflHQzR+oxHHurR06nUbqL7o/56Li5htk3ytgZxS6/bs+1IJm+AqSW6+UxLHbsjOOCv30NPnnwby43f9NeC1LGltqlmUUKrIU6JtUgimWPieOC3cOjUZm3x2yS7GbtM33VFaRv8kyxJyxxnw6YpPk+e5E8bbJJC4kAyOPjXynp+P561pl/bxRyJ2m+cbaFUnhT6oyDd5FPsHNiMUjq6KyngRmpp47fWJHlPDyfs1ZJIzS3Ei7TJjC+CinkSNSzsAB31eyi5uoJ2jYW+dm771SXcUOEALNjgiitQjvZrSZ3PVqFz1Y5/qas54hY2xLqBtA/WtSljur61i9gNgn39F1e29up3yDOOA76/w9FiKSTv5VeWUV5D1b555yK1Cxjs2t0Vxk/vx8aiQJGijkFx06jFs2Xa8GiPH3rWh8YJpfvyk1MnWROmeYxVq2oWaiA2e9QfXBrq7i4dTIuyMcdvefMlMdtHK/IHJ/WtHj22gb75z6fIrSPoo+Pp2niSRELdpuXn3VwttA8pHIVbRzaj87c5Ceyo5VpQ2tdbfU39nzAQelIur/xC3v7X7imu7VDhp0B8M1qF5b9dazxPuZHwceBqXVVSJnFvNjxxgUlldXPzkyR5b73HHwFG16vUPJQ/Zk2E/wDt6NSuHt7YlPXYhV+JqTSo4rZ5dzNOBu3k99WMu7VjIf8AMXA9+B/+3RqFp5VatHnDc1PvFWYItoty4bbhviKvOGo2B/MOi+sluotucMDlW8DUdhds2bm43gcgKlsIHtnhxjPf31HJq0AETWwlA5ODV2jm/ie6Xq43G3n4UmxVAXGMcKNxbj1pox/7hUckTjKOrfDoupUggkkwOA/vWnQ9Tapn1m7TfE06K6MrciMGobTUrb5uOaMxA8N3MVNpKXHaklbrO5hwxSRaog29fEw+8V40NODOHuJDKfD2f2rVLS6nhWODZt9oGrK2FvbxpgbsdojxogEYNLo1ikm9UPwzwq50+3uIhGy4A9XHDFLpUq87+YioNNtIOIjy33m4mitzp1xI8cRkgkOSF5g0l5fTg9ValPe9SaMJIJdz7p247z41Zm56kCdAGHDgc9LruRh4itOtXtrVYnIyCeXnzwJPEY25GkRY0CjkOXp8LWkfRP18+41kRuUji345mrLUxcHay7TTcjWmzM8lyrNnDcOh5Y4/XcL8aSSNxlGB+HRq+Y5oJRSPuRT4jpto7mC8k3Esj8c9MkaSIUZcg86uQLaxlEQxheFWSJHawgfd6byG6lwkUgRT6x76tbSK1i2J0y4k1vbg/wAvaT+9RWVrCAFiXPiRxrVlHkEvDlj/AHq+jlm06PYuSNjEeNJe3U3ZjtHT3tT6UjRZ3/PZ3dZ76jvLmLs3Vu3/AHE4g1qVzBPAvVSjejhgMHjike+vhteLqo+/31qUQg8jnQY6p8fofM1Hhdacf+t508EU0eyRAwpdMtoxhTJjw3mlsLNePUrn38aAA5Dou7M3V9AGz1SJuI7ifs3SPog+PnOOya0/apljI7YYmtSHVFJ0TiDxxSNvjU45ioXWHUJtxCgrT6lZrn52raKC5Vp7jDZPDPcKtYoRcZtxhB63h0a0P4bd4MKt/lK4iTa4iQD9atbiVZzbTNuOMhvHpt4L1b2aR3+bPJc93TKiyRsjciKgnexbye4PY/y5P/NDj5yWxF5JOccQAOi9t5LiLqwQFJ7fjj3UAAAPOurdbmB4mOM0BhQPDpuSJtRs0Tj1ZLN7vsPVJXiks9rc5OnT77yrreGNrY6LnUIbYhSGZvurXyxj1rOcD4VDOk8SunI+kkyF4V1r+NaT9FHx8+5tWZhLCcSLVvedYerlXZJ4ePwq68pKhYHAbxNPbdXeQNI3WbuZNPGjIV2jFWVpaid4pY+0D2c+FBQowBgVLNFEuXYCtRaW4t2kxtiXl4tVrewx2ke7OccABVtFNLdG6kTYMYRehlv3nPbWOIfqT03M08TDbAzL3kV8pIPXhkX9KudStZEMawNOT7OK0qK4ihbreAJ7K/dH1KOaGTOyRWI8DQUDkPqrTRq6IWAZuQ6dy5xuGfD0etjLWYHPrKHIUeRrQV4XB/HROATWmRyTTTXUo9Y9kVfzSTSeSQesfXbwFQQrBEsY7h6SRdyEV1PurSvog86SRY1yaBBAIrUkj6kuTgryNWrs9vGzjtYrUlwiP91gaByAfGrmyinHa4MOTDnQsrscPLmx8KSwhU7nzI3i1ax9BkrTPoUX6+figAOQx9Svibi7hs9xCFdz47/dSW8dpqcAiGFeNsj4dDnajNzwK0a8vJ7qXrGJXiWH3fh5mo6r5HPDHszni3w91BgwBHI0SAMk4FBlYAg5HSWUesQPNh675Tu2U8m4jxXFA8M9Or711dME8lx0apeNCixxn5x+XjVhat8qMd27qh22957vMnnSBN75xnuptSc/ybSV/wDalm1Vv/wsa/FqjL7BvADeA8zWM9ZZY59bQ5UeR+FaJjyZj4uehYkjLbe85qNhDqkwf/MwVPp9K+iD4+c8auMGvJrlOEc/Z8CKTTsy9bcP1h7h3DomhEqFM86RdqgeA8yWCKZdsi7hUcSRIEQYA9CTgZpL68MiXDNiEybQPd4+mvb6GzQNJnjyAqPUzMm6G0lb+1LLetqzt1Ch+r9Vjyo/KMmoj+Tvjj9+O1W3XuuPbiAH7HoS1WO5mmB/mAcPh5muwCQ2Z/Ht/eoI+qhjjz6oxWs7pFgtVPGZ/wCwpNK1KIDqpsEcu0cVDcatI7xEQh055rqNSf17xVH4F/8ANNbNJf7Yg83VeuXbhuqW51O3XfLbxso57DyqGYSwpIvJhmpJEjRnY4UDiaOrwcMRytnlhajvnGqSyJbSEunqHga63VZhgWkaA/fOasbaS3Rt8m4sc+4fDo1eNPKrJ/a346OoXyjrdq+rzxxrSDhryNv5nXknzfmk71WnvrNPWnT96Gr27NiJJZPgtDl06t9IsP8AudDDKke6tJljiR4ZHCurngem7tIrlNr8+4jmKgnnt5Rb3PHPqP4+m0r6IPj6FXRiQHBI5+gkkWNGY8gKsNQ8qLdjb934ebuXOMjo1GTq7Kc/hx+9ThRpdqMc9mOlNUsmfYsmTnHLh6F2CKzHkBmrW6FzAsoUjPjU0MM67ZYww99QwRwrtQYFXTrDrEcjcB1PH9M1piNskuH9aZs/p0rJGSQGBI5jw8zVvXsP++Oi87OrWBPq4Yfr0Wr9fqNxKg+bCBN3iejRceSu3eZG3Vdz9cDbQHLPwJ7gKhjEUSRjkoxRUMCCMg0AAMAcKvPm9XsX8VK+Zq3rWI/6/QJE3smeI51d2JkcTwN1c47/AB+NWN8Zi0Mq7Jk9Yf8AjzJ7SCcgyLnApdNsU5W6fqM0AB5mqQTubZ4o95jfO2rYXRZnmIXPKMd3RsTdu2jPj0yDUh/LaBvjkUtjeyypJdTL2TwRB6XArSvoi+g1aRlt9qHBY4qCGaxeJ8cDzoefqk0fkkq9YufDNWtyqzxmOJ3+bxgCknvzKmbUKh792enVLp4IAI/Xc4FPol2EMvXDfjPv/etMneazjZ+damm6xm+Ga3if5OiXuwzfp0aizvJBaqcdYe18BV/b20FqixxgOWAXxochT7tjY544Vo96THMs0nqn2qS6tn4JMh+BqC/tZ5CiScR//wBwqaVIInkbkoyan6x4fK2dhnHVp7qXO1c88VrV2sVsYs9uTh+lW88FtaRKXBIUcBzyauLjU9vlG3ZErep3ke+hqdkY1frhx7u+tQmFzeWzbWEWdu/9aUAAAch0Mu5SPEVp+n+SGXjnJ7J78eZqnrWJ/wD6gdF9ZeUxLhtrodyN76EGoyjZcsmzv2HnUcaRIFRcAdEmj2jyM/bGTkgHhUUEcQwg8y6GpXF0jeT4SNyU8Tihy6dRQ+V6fwO3rDnon0+2mfewYN4g4o6TERjr58fnq0023tWLpuLY5k/X9KP8IvoL7jc2o/HV6ubaT8pq1Ym3i/L5suolXIigaQL6zdwpHFzb5GRuFXOmJb20r8GIXwwa0hD1ZlYc+A/TzNRKeXWZkICDPOpbprrMNrxB9aTuFQxLFGqLyFX0sUdtIX8MY8a0crbStHONjsOyT0apcJFd2sqkHZnK1awPPIt1OeP+WvcvRPqEEfZX5yT7q1a20lxqMqyqF4ksPCtSsIIrRpIosOCMEUmmW0ltF1idvbnd35NT6ZemF41vSykeq1WRQyBb2YhouCxtwFSXbv2bVd5+93Ck0qJkc3J6yR+bf+KgsLS3/lxDPjz6Bp1iH3+Tpn4Vd2iXMPV8vA+BqBJEiVZJN58eXnvEki7XGeOf2+0cP96tI+hr6C/7Mts57pK1B/mtg5ucCo12xqvgKvbl02xwjMr+r7vfUa3FtPD1k7SbzhuiT1DiobjZbtbKvzxfH/70nV2tsu9gAo41c+UX0TkdiEDh4tWlvmxj92fM1Kx6zEyrl17vdVpqFkUC5EZHNTwqTUU9WFDK3uqK0llkE13jI9VByFT2kFwMSJmvkpBwW4mA8N1JYWkYx1ec8yeNLpfVk9RcSRj7vMUdP3/zbmRx4cqitoIeEcYFLbQpM8qr2n5nzHghf141PxFAADAH2/o30JPQaps8mckgeHxrTlabFxK2SOAHh0SSrFqSFzhdvOrqYTywrA24g5zVlc5aSGRu2p7++p7gIMINznkKmgntSLssGkJ4rUEJvCtxPy9mPuoqNuKTTbhWKGUdQWzgc/NeGFuLRIfiKCqOQx/RmjfQl8+TeFO1cnuqPT5ppuuu2+CDup4bi1lMsA3IeaVHqlo3Bm2HwbhVxPaSjYEEzdw51aWwhXkAx54q4sLWfjInHxqG2gg/lpiruxiulAckY5EVbwLbxCNSSB4/0nitH+iD4+iaKJvWRT+lBEX1VA+H1ueZIInkfkoq1uY7iFZU5GmIVST3CrK8ju4t6cOPEfbejfRP1+tXM4ggkk+6ua0+/knLJKoVsZHwPo72MSWdwpHsGv8ADjP1M4J4BhiiMjFaH81Le259h+i9v5YJUiitmkYipLnVoUNxIkfVjnH34qNw6Kw5EZ+1tx8K0X6J+vobm4WCMuRnwFdXqk2JOu2/hq2u5es6mf1u4+PpNSuJ+u2RthYwGbHvpTlQfd0av9Ak/T/eoeF9aEe1b+ZvQEAsATy6Jr62h9aQZ+6OJq2nklBYwlF9nPPzGGVIr/DqbVuvz4/bogIXXLkeMeejq06wv3kYrV5f4fqF4ySnaoqFerijT7qgfa2a0X6J+vobq8kudQEPJFfFKoVQByFahhZ7Zh62/wBJfZ+UJY/vhaAx0axcwC3eHd2yMhatBeXbCSIiMJGE3GrNbhYsTMCc8/d03VhBcSxyPnKcq+R4iT1k8re7NRWlnbDcqKuPaNfKdju2iXJ9wz5uijHlo/656H7Ovxfih6fkm6E3lC3nzviRVrfN13k9zHsl7vBvh9r6L9E/X0DsqjtMB8at4UbV3PA8ciiQBk1D/GXXX/5acE958eiW5kD4jj3Y9aoZRKmR0SySPM8nWt2ZQqr0T3EcCgv3nA6Guo1uEh9phnpuZ0fU4pgMxqdu739NxbrLNJFbuzE/zG7hWlTpHaIG/wBTb+/m3FlNLLvW7dPcKGkwZzM8kv5jSQwx+oij4ebbWhguLp93ZkIOPf0XsE3yhZzxJu25DU0iqVB5tyrcPEVLeWsK5eZB+tMz6jcwNFGRHE+d7cM/DzGnvflDYseYuA//ANs/aei/RP19AsEU9zL1vaI5D3VdRLb3o6phENuc15RcXOxLk9XF3n71RhAihMbccKc9k1Z3KxwSFuMjSHh3mrWJo4+16xOT0IYflEnd83v/AE3VNOkK7m/Qd5qQzvf2jXHZUnsp4fGmZVGScAU9w3lou+r+Z9XPjR1Cz25EoPuFFLu99f5qDw9pqksoWt+p24XuqIalbDq+rEy9xzimgvbj+Y/VJ3qvOoLeKBNsa4FR2FtFO0qr2j6ee3hmXEi5r5HsP9M//UaTT7GP1bdM/DP2vj31o30P9fQS2xL70IVvHGaaAxalFvPWlu808SOuGUUdPKcYJ2j93MV5NesMNdjHuWltJrOXfEnWeOedeVTsOFpJn30ba6uPpEm1P9NP+aubWLyUqE5DgBWlLI25pg+V9XdV1ZJcKMnBHI0mmcczXDye411abdu0Y8KS1t4zlYkB+H1MkDmak1GyiPamX9ONfK0P+XDNJ8Fry3UG9TTz/wC5qzrDDlCn968k1BvXv8fkWvkxz617Of1oQWdjIJpLh88huNKQQCOR+0+NaN9D/X0N8H8vtccP/wCfrsnWdW3VgFscAaEOqv69wkf5RQ0iE8Z5ZZT72pLO0i9SFB+nQ8scYy7hR76fVrbOI90p/CK8o1Kb+VaiMfeevIr+T+bfEDwQYqPSbOM5Klz4uc/aui/RP19C0EbMrMMkcvr800cEZeRsKKGqGXItraR/fyFdTqs/8yZYV8F50mk2yndJulbxY0kccYwiBfh54zxz+n2jov0Jfj9kMqsMMoPxrHpsg+cxIU4Ga0u7mnE/W+skhHodT1BrXq1Qdo8f0FI25VI7x9c0X6Ev1m+1WO1mSLbuY8/dVvMkybl+oG9kGpLbdX2dmd3nRzhpJEKkFf7jx8587GwcHHCtAlbZOjHvz5s00UCF5GCjxr5TsP8AXFWN7smvVihaTdJuGKt2laJTKmxu8VJIkaFmbAHM1b6lbTybE3csjIxn4edqcYe+tAR6yOP7Vpj77GA+7H7cKvboWsBk5+ApGyinxHTLPDEPnJFX4mgQQCDw6JbiGEdtwKSRHQMjZB7/AKlj31o30FfSSXRebqIWG72m8Kj6yOQKzlg3pFtUn1O5dwCFxwqxtLm2vpBv+ZIOB6KKe5OqTwnHVKox5nWxBtvWLu8M9EykazbMfaQgedN1MeZ3wNg9b3VZ3kN3F1kfLOKkngiKdY4XccDNdbH1gj3jcRy6WAKkHvrT5YbK+uxI+FGQP3qHUbSVgocgn7wxWrX06MsFucOeJNQ6ncxPEt3DgOODimnvOsbZbZjHv4n4VK66sRCgIjU5Zjzz4Vb6fawY2pkj2jzq2HV6xer4ordGqqd1vvVjAGzJir64tuqhmhYbomBA5cKXVbcrkLKfghq3uYp0LIeRwabrbiGa7MpBD/NL3dk0hyik+FTX80khis1BKHtu3qiruZ5bOC6K9qGXjjl4cK01SllCPEZ/fjX+ICPJEH46j7MaD3VDdyy6lNFySNf36Lazj1KW4nm3Y3YUVaw9RAsWc7eFXWoW9scOTmrWNZkkvLjjnOPcK0lCLRfifqejfQE9HrNzLDa/NnBJxmtDhiWDrOch5+6iBkdPXQjPzi5Hvpr21U46zJ8F4/7VDfxuzqRs2+NJLHIMowIppY0PacA+baj+LvTnvX/bzFZWHZINW2oW888kSE5Tpv7vUDedRaj1FyatZHeBC/r+18almiiXdI4Ue+oru2XUbh+tXa0a8c0moWTMFEykmrm6mafya2xvxlnPJaE92iXkMj5dIyyvVlpbSdVOjEMMNvPHNWF283Wxy+vGcGr/ALN/pzfjI/fotY2+WJMM2RIxb8vmSxpJGyOMhhg1oSiOG4T7sxFaxZeUw7v9NWNQWzXNnLdbvnt25W/LUKzan25GKw44KO81aA2d4bYt8267o/iOY6LURTa5ctt5Lla1N1lC20XamLD/ANvvqUJb6l105+bkTAbHBSK1C4t7mLqIiXcsMEDhV65isJG79mP34VDELK/tkj9WaPtD3r39DdjW0/Hb/wCx6ddnENntA4yHFWAIsbcEYPVjNeTXkE0zQbHSXiVbgc1Fb3Nttjli6yINuAQ8s+Oaa6cjEdtKfeeFWKqqPDcTFMMd0feakiFyiwoMQ+13fpUdlfQdiG5HVdwbmKOnxyxkXBLkjn4UNPvBhfLm2eGONSRDT72CbPzbjY5PjR9U/CtEf5l02nhKc1c3UdumTxPcveavbW+k33DQqcp6vetadF5Taxb5AUX2R/zQAAwPqejj+Bj9Hq80ckEkSgs/uHKtD8p6t+rUcTxdqNq57TTMzd3h+1Zvbdix7UffxqW7d4maAdkD1z/xVtY281ojMMseJPvqxh6l5k7hyNS2o+VlTOQ/aYVcuLCZHT1WBGKhsI+r3yDdI/Ek1p0h+dhY8UP9uneg5sKgniS+u9zgDC8c01/DyjDyH8IrSNzLPK5O5pDkeGKPI1opPVXAznEppEitNVbHASISahga+33ErMAT8yB3Dxq0llV3tpTll4hvEVb5GqXe4AbkXb8BWBV7p0dy6SNk7PY7jSW8KasEEYC9Ryq5sYJoyNuD94cxUVvqdrNM6xrNvx2s45VbQSlX65eL+tmo49St4/J41QqPVkzyHwqztFtkbjuZjlmPeav4ZJJbNlXISUFqvTdv8zApUnnJ4UdLaALLbOevHMn2/jVpeJOGXG2RfXQ93maZ2Z9QUjHz2f3p/Ub4VbBrPRT1iENhuHfk1pkDW9lEjc+Z/Wru1FwFIbY6HKuO6haXbn+InBUdyjGalQ/LXUq5jVogOzVvaw264jXHie80yKwwwBHvpIII/UjVfgKliSWNkccGGKt9NhgkD73cgYXceQ6Cqlg2Bkd/TqFgbqW1bcMRtkjzWjjbiVB82aCOaMxyLkGodPjiI+dkYDkGPKn0yVZJGt7kxrJ6y4/2qCyii4+s3iehtJtt5dC0ZPPbyqG3ERPbZj4n6npP0KP0dxEnUOMd1aWMWUeB49GpOz5hzhAu6Q+7wqzjxaRKw9mvIQCds0iDwU1HEkYwtGCLrhLjtgc6ls1mnikc8E5L7+gW7rfdcPVKYPTLbQSHLoDUdvCmqFdgx1fAVgUYZ7aRngXcreslddczLsEDR+LHuryG4tzutnHH1g3fV1bahcywhlRee4jwNRRrHGqLyUYFTLs1C3k7mUpV1bM7LJE22VeRpL2VTia2kB8VG4VHKX5RsB4twqbsarat96Nl9BMb/tCFIvcWNWlpOs73Fw6mQrjs8seYI0V3cDi2M/p0YB8ydCP8QQHxX7N0r6FF6ORdyEVaw9RCsec46JrOKVwzd39/j6O4+bv7aTxyv7+e8aOO0M+YUUkEgcOX1OS1jkuYpzncnL7M41pX0GL6ze25mjG31lOR+lIW2jcMHw6ZpooULyMFWpP8RxBgIoS3HmaU7lBxzH1nlVjqMV51uxWGw9/f0O6IpZmAA7zQ1VGPzUEkg+8KtriO4j3p8OicyiI9UoLVHZ3nHffScau7c20tnL1rt8+A2T4/YenDbZxj65dSSxwsYk3P3CoLJb5EnuZWk/ByC0NMs1MZWIDac9AuU8qMGDu27s93RFNHICUbODirq8gtdnWnG7lQ1Ox/1hUN7azPsSTJ8yW4hh2B3xuOB51/qcVm8SsuS39h0QXMU4Yoc4bHQdXsA5XeTjmQOFRTRSoGjbI83TMJeahH3CTOPj0X1t5VD1ROFJG74UxgsrYnG1EFaWkiW7M4w0rl8eGfM1lN1kzDmhDftSOGRWHeM/YVh9Ej9Fc6pBBcLCQSe/3U88Uab2YBajdXUMp4GppUiQu5wBUbh0DL31wpmCqWJ4CoZo5ow8Zyp7+jem7buGfDovb0W2zs5LGhyo8K+Uh3wS/tS6gW4Jayk/DFKWIGRg+HQRkVp3ZlvI+5ZP8AfpVv/ncn/Zq8n6i3d+/2R760PPkfH77ZqW3ikZWdc4Bx+tCKIckWrbjrV1+GMAeZ/iCOU3dqQeB4KPfUikxOoJB2860eVpLJdxJIYjjz8zWYVeawb/q7f3o4xX+H/wCXc4PDralj3xOniuKsrKGCBR1QDY7VaeAuo36R/wAsbf383TSx1LUMrt5cOm/Ie+s4ZDiPixzyJFAg8vMnj6yKRPvKRWkSZsUU+tH2D+n2FYfRY/RXekJPN128g4qzjN1JiT1YOyPjVgdjSwHuOR8DWqR9ZaOB8f2rTfoinx5Veuy6jbdvs/7VMm+Jx3Yq1vxaW/V4LSb9qoKS/kQsLlVTs7qS2leI3eT1rHcPhVtdxzxhsgH2hWofxMkaw9oodxq0ulnByNrLzXomuIYf5jgV8pA/yoJH9+Khkd4wzx7D4dNhxuL9v+qB+w6bmCZLxbmFNx24YVDBcSSdbc4H3Yx3VpHCKcf9d+nT+OpaifeOi9uPJrWWbbnaOVWksklujuoVmHKtWGXsB/1x0aPwjul8Lhx0ajNJDZyvH6/dWmTyT2UTyesc5NarbvLbr1Y7aOGH6U0t/eFUSJoU9tm/4rSY1hub+JeQZcdGoXZtoeyMyOdqD31YWnk0ODxdjuc+J6JX6uJ3+6pNWF01zbJKV257uiKKZNWuH2fNug49M8MEqYmVSPfU721mN1rdAFf8rdkGkbcinxHmWPZ1K/Qcsq36n7C0/wCiR+iblWmwsnlLMMbpDip7Us4dG2uO+vJrqXhPMNv3VGM0ILuDIg27fBu6vIt6uZiC7c8d1Dy+MbNgkHcc4NWmmuLxp5VAHsjOeNXOnRXE6O54L3eNYGMVJptq7bmSt00SlLe0+HHhVnbTrLJPOV3sMYXuHQ0MTNuKA+/zHYIjMeQGa0pcWYc85GLn9fNtbdoXn+6z7h02li9vKZGmyzZL+89GrNizKe1KwQfrSJsRVHcMVfDdf6cn4mY/pU00cMZeRsAVoM3WSXvvfeP16NRlWKznY/dwPiasIeptIEPMLx6YezrN0Pvwq37cOjUdyX9pM0bNGgPIZ41He3My/N2xX8/CvIbmY7p7lvypwFarL1VjKe8jaP1qyg6i1ii8F4+YeINfIsB/mzSv8WqLS7GHBWEZ9/HzLu6aEqiRM7ty8KsLWWJpppiOslPHHd9haef4SM/XL9WazmVeZU1b3c4SKKO1fgmMmvI5p2DXMnDujXlSqFUKOQ9Be2zTdQVIzHIG49E9tI13FOjAbVK8ffTQxuVLLnbypLeCNy6oAx5novbdp2tvurLuYeY1vGbhJ+O4DHxHmsisMMAfs6wP8JH9r703bdwz4ehnnjgjMkhwBQORnzBNEZCgcbh3fX7D6JF8PqssixRs7nCjnVrqPXyBeqKhhlc/UNXnlimt1U8OLH9KQ7lB8R5r3lrHII2lUMe7zScAk02rajO7G2iOwHhwrTdUvHu+ouU5/p03MvVQSv8AdUmhZ3kUKXu/LHtkeHfUUgkjRx7Qz6DWxnT5PcRVq261gP4B0yNtRm8BViG8ps5++VpM+bJLHEu52wPGnlRELswCjvq2u4LlWMTZwcHps9RFzNPHswYzRIAyT0xyxSFgrglefT8rJ5QkbRMAxwGq6ubn5UhijfA59B5GrC8nmLCVBjPZYdFvcGRpR4NjoimjlztbODjztO+hxfD0LMFUk1DJqV/I0iP1UOeFWcj7pI5Dkp3+i1ftC2jPqtMM0/8A6jAAOSN0X9zMlzaRR8AzcT5+paibXq0jTdI/IVDcXiSRrchRv8O49M2pBJ2jVN2z1z4UCCARTMFBJOBWoTxT3QKMCBbyVafRoP8Atr/tT3oW/jttvNM56Ipopd2xs4ODU0qxRPIeSrk1ptgsq+VzjLyPvHu6LjV7WLcqHfJnAUeNafqs8111E8O04yOi9O2zuD/02/2rS4wlhbjHNM/vW1c5xx6dX/8ATrj4UoR7VA3qmMZ/atJz8nQZ8Kur0xsI4k6yX7vuq0vWld4pkCSLjh8ei8uVtbdpT3d1Wer211w9VvA0dVkw0i2+YR7VI6uisvIjIrWR/wDLp/gP96tJo7fTrcyN7Ary+6bjFanb76t7yKaBpPV2+sD3Yq51JntpmSE9XtI31puJpLMLyii4/E1fXpg2Ig3Sv6oqY6nar5Q0u4e0lQTRzJvRsjou7cXNtJEfaFTS3BtUsGB61Xx8RWj2L2iyb+Z6bfbFq90p4dYAwrVrtPJXVG45HKrbhBH+WmAIIPfVtpYtZzIsjHPj03dmxW5jxw/mRnwNaTuuJXnfn6v7VJcwRnDSAU1/bct+fhWm3JVZAsTN2zg1AX6sb+dWzdVfTxN7R3L781qV0kMDDPaI4CtJt2hh7XM8T51h9Ei+HoZV3IVqKO7gQRoIyo5ZqHyx7u4w6ggDOBS3EsUipNx3cmFXdx5PAz4ye4e+tlzD1bmdjI5HY7q44q0eaK+KuxJLf2PRb3Uk9/KF/lpwq+uvJogRzLADo1WLNvu71OasJPKZ5LjuChF/5q7ufJot2wsc4AFS3s1zqMIAC7HwKijmBy8xb3Y6HTUuvdkddncvhXU6i/rXCr+UVBZpG24szN4k9F1ZmSWKZPXTlV75Z8xu6vPWjGK6u85m5A+C1YztNaLI/v8A7VZvGNPluHGTK7Ejx8BVqrR20Stz28avma5uWtN+yJU3Snx91XduibHTsozbB4keNNLFDGCzALjhVq/W608jjA6r5urucQQO3tY7PxrQMC2lU+uJDmtbfbYlR7bBajVURVHJRjoiieHU7rq4OsZSdnuzVlZOsrXM7ZmI/RR0anwsLnj7Bqx+hWv/AGl/28y9iMtpMg5la8o3aPCi+u6dWB/aoUEcSIPZXFaa6bLu6fgTM2T7hU0ks2qxuFI3FNo92ej/ABBP8wIk48cv7qltFh0y1nX+YW5/mpLbbY9Sf9PFaVcRjTot7js5B/etUklntZhGvzYXLHxrTN95MjOOxEgUCuyo8BSsZr1484hmmJ+OKvlia0a3jPE9wrQsRCeB+Eqt/akG/WZy3sRjH61qMwnUwIeHN2r/AA/9Ffj7fTNA9/cvNC20xcEPiRVvqKN2JgY5BzB/4q/ObCcqfYqwfdZwH8Aq4s7efG9eI5GtTtkisH2cOX61b6jF1MfzbkY54qNtyA4xTyIgyzBR76jmikzscN0X0wit3PfyFaGSFmiPrK9PFExyVGa6tByWtJUATcP8xui5tIbkDeOI5EcCKltVN9FHknbxbNIAF86xP8JF8PRane+SW5YeueC1pUTJbB3zvftEmr6LrIjjmOVXdz10UQCPvUgnh4VbtFI3XNIpbHAfdFPepnZEOsfwFTwzQkXcj9sHkOQFddJdAiDgnfJ//jVgUtJJ4XOMnIJq+ka7A6kZSNs7vGobuGSNTvGccRV1KbkG3t+OfXfuUVZv5CTby8E9lqmuVcbICGc8j4VeWgtreErxZZNzN4mgcgHokcIu7BPwrr75/wCXAF/NUcd+XBeZQvgB0xTG91A4HzVuT+rU67kYeIq3W8giEAhDAcmzSWVzA4ZQjgEkJ3LnwoS3h5QqvvJqXS53mM3WjcfdwpNPTqiJe2x5saXSoRIrMzOF9VSeAq5sY5trZ2svJhUdh2980rSEcs1PbzW9ybi3XO7108a1I3lxbbzBsEbBvfVq0JiDI2c8c1cXRHzUA3SH+3xo2t1ay+UoetZh84PH4UdTGw/Myb+5cVatO0CmYYfvq/jElnOCM9g/7Vp30C1/7a+Zd6na2x2s2X+6Ktklt7jr5YSUYkjHsZrytWHzaO36V8m3eWwV6tn3bPA0dKJZJRMwmHtUsWo8mnX4gcafTIHh2NniQSfHFG2g6tE2DavIdHydab9/VDOaeJGjZGHAjFfJkaKOpZoyO8V8m3EnCe6Zh4U2n2rwrEU4Ly91Q2sUPqirmwinZX4q45MOdT6Vcb+tjnJfGDu7xUOnsf53L7o5U9hcW0pmsiBu9aM8qWG8mHzzYH3RWwdVs7sYq2tkt49i0VU91ak2Y1t15yf7VAgiiVR3CpHWNGduQq433VpPO+eXYFWCDyWL8o6L6ykuSg39gd1Wenpa5KsTnx6Htp5brdL6insijbSxXvXRgbWXD/p0HkasYWiQhhxzx6GIVSTWnq0kkk7e0eHw87rPcasfokXw9FcWMNw6GUZ28h07BivI7YnJjWlRE4KoFalb3Nz1cSYCe3UaLGioo4AYpraF/WQHxoRoq7VUAU1hbMclKSNEGFUAVJFG/rDNJFHH6qAVdw9dC6eNWqTJEBK2T7vDznDbG2+tjhVrbrBHtHM8WPifRkAjBo6XbbiRkfA4qOJIxhVx0YHQ43Iw8RWkMfJOqPrRsVPmJptqshkKbnJzk9GPqrIhYMRxHRqak2M+Oe2nmRtIiVDxfC1Cu2JB4D0eqA+RyYzn3VYx7IEHgB52xfCrE/wkXw+0pLNutMsMmxjz8DUCzKvzkm8/XRpdqk3WKuDnOPqfGrHHkkWPD7N8og37OsXd4Z6JZBHGznkBmrO+huV7PPvH2nt99WPC0h+H1+LUoXvHtsHcOjUdUntrtI0Xs958aurxYEQ4yz8FXxq2umkkaGRdrgZonAJq2uUuIRIvKtQuGtrV5F5jH+9Kcop91X+pC0lgTbneauL7q5BFEm+Qjl4VZXjTGVJODxnjQ1WHrwgB27tu/uz0TwXNrKxYkMG4Hxq2dnt4WbmUBq6gE8DR5xmr2zeNhcW/rJ3eIq0ukuIVdf1Hv+0to8KsuFpF8Pr93ALfU7a4A9Ztp6NVgVrOVscQM/tVjm8uBcEdiJNqfm76uT1GpwSngrKVJq8uI+reIHLuuAB760EjyADvDnNa6/8AC9UPWY5/QVBIrwRsv3RWs26SWjueaDINaMgaFrhvXc8/hV7I0WoXaR+tMigfrV1YKNN6tBxQZHxFJqkC21u0jdp15VLbT6j669XH3DvNadK6FrWT1ox2fevTb/wuqyQ+xKu4fH7Sy/3asvosP5fr+qdp7NcH+cDw93QyhlIPI0kaRqFRQAKlgSVcMM1FZwQ5KJxNNBe2c0zW6hlfu8DUK3RUk2+ZGHFmPKoLC9t07E/6Y4U1pczqVnlG3HIVaW4trdIgc7aWwXy6S6Y5Ps+6rjf5PLs9bacVpWk9UFkn4tjgPu1eySQhHUEqPWAq3la81GKdEKoiHcfHPTqnzd/p8g59Zj7Sy1WR/hYfy/X8DOfTYzSqq8h0tJ5ff2oVTth7T/Hw+0sH79WJ/hIfy/aIVVzgfaW1fE1Y/Q4fy+j6xOsCZ4kcvS9bGXMe4bgOXTea0lvcdUqbj30rZUHHMf0PhPE1YfRIfy+junEV/bOTzyDS3F3ebjB2IxyPea8nu1GVuDn31bXRkYxyDDr/AH9CTVrK3XPdHvnIPwrNBlPIirG1invL2dhn5zav6emvL1onSGJd0rcfgKs7nyiAP38j0SX8w1Bjn5qNwh/XpZgqlieApWVlypyPtPP4asvokH5PR65KHk4HhH2f/ca04obKEqO7oiuYflKWTeNqrt+JoEEZHRNJ1cTN4Crafrc5GGX1vMvZbhAggTLE/tTW92RxuCKsrNpoJx1jAI54f+as7RZ4Ed3b96jtUt97KTyrRh/BBu9mY1czCCCSU8lFW+o37/PNH81UciugZTz9HY/OanqDnuworTeD3o7hOaJA5mg6m1vTkbmuhj96huoJZWjVslR0SoJI2Q8iMVZ5srvydj2ZOKfH7TzJ4VZ8LWD8g9C7pGpZmAA768rlusrbKQv+qf8AitUskXTiF9jtZ8TVhIkenQtg+r3cacXd52RmGHvPtGjZGF/mogU2421b3NzC3U9TnPFRmmurqNS7wqFHPjUqLPFg+qaso7aFpY4yS3tZ6Lm4S3i3t44pryBYBMW7NRSJIgde+iOFW0qwHUd3snNacjR2cYbmeP71cj+Hl/Ka0f8A9Phq5hE0Dx+IpY7qKDqdiMoGAa097xrbsBMAkUtzPFKiT4w5wCKPAE1FJdXKG5WXanHaPcKtJTLbRSHmwq9n8ntZZfujhWlmTrmzIWAjG78xq+vo7RATzb1RUUgeNXHeKluwl1BBjJfJ+A6LZxb6hqG/gCN/7VBHc/JrtHwlmcv+9WemMFzcHLfGtMsxPcy/6cbk/wDirHTUtgDnLbic/Hp1iH5gTL60R3CoHEkSOPaGftLD1Z/RIPyD0M0Mcy7ZBlfCgoUYAwKu41kt5FPeK0Q7rID7rdLkfKcC/gJq/jL2sijwpL5NiL1b7scsVBI8F65mGBL/AG6Jz5S1sMdnrSf/AKaiQyXotT6kcm+mjntJS8Q3Iea0NUtzww2fDFInW6p84hVH47T346JOKMPdWjnbFJEeaP0ajdeS2jyd/IfE1pH0CL9a1VCYN45oQ1LcRTW2dw4rxqKQrF5FnCF/X/DS3FrHGoEi4Aq6L3qGGIYT2nP/ABWn3McFpsxmQORtHMmtTspXtzcSnt55dwHhUM0fk6NuGNtdePlhJ2Hze3YDWa1QGa53QqWCDDkf7VBd2rxrhwBjlU80s3zVv3838K0OPqnvIvuyeZeJutJx+A1o779OgPux9pY/FVr9Gg/IPRsOya0MsslzCfZY9MNsfLJbl/yoPd0YFT28cq4YUNPYDHlEm3woQxgJw9XlVraMl1cztjtnh8KxQiRSSFGa1GN0khuFHqHj8KguhO3YXsAcW9/h0XAa0uuvUdk+vSSLIgZTwNahpz3k8WXxGvdSIsaKqjAA4U6hxg18nW27OyuoixjYMV5JAPYX9qwAK0nc2qTsy/ez8adVZSDQ0y33Zx+lSWsLxbCvCk0/bw619vhmkgjRNoXhXkdvnPVigqryFSQTw33XQjhJwcf8+ZqUyw2cx/CQP1rS4jDYwqeeM/v9pY+NWf0WD/tj0looh1S5X74z6QjNABRgDodFYYIoWDIcJKyoea+gjiSPJCgZ5+kex6256yVtwB7C932pafRoPyD0htD5clxu5LjH9LEAjFdT+Jv3q2P8ND+Qf1Jb8IIvyD+pIeEMf5R/UkX8pPyj6wSAMmlZWGQcjoDA5weXTNqUEUpj4lvdUFxFMMo39Cx/y0+A+sarG72MqpzxWgM5s23ff6LAMNVvFz2eePj0XUhjtpnHMISK0O0WVJLiXtEtgUV6jU7cLyfP9v6FT1F+Hp5LmCM7XkUH315fD/lhn+FeVOBloGA89hkGtH7AuY/uy9EXY1iUfeiHQyhlINJFDZRyuMheeKR7lrsXc0B2BMKPCopUkQOhyD/Qi+ovw9PNplvPcNLKMnFRxxxKFRQAOgMp5EefbDq9RuU+8obomXGr2xA5o2eklDlSaknt1XtyLWjsWSdvYMp2f0Ivqj6h5PeSS73uMDwAryNT67s3xNeSxDG0bfh57WyG4EvHIGOjAznpXTF3uZJGbJr5MtcYK5pVCgADA/oQch/Ug5f/ANrzSrrym0Rs9ocG/qTSL/yS4wx+bf1v/NDln+pNG1cJiCduHsNWf6h49NjrFxa4U9tPA/8AFW2t2U3tbD4NQcEcP6f3iv/EAC0QAQACAQMDBAEEAwEBAQEAAAEAESExQVEQYXEgMIGRoUBQsfBgwdHh8XCA/9oACAEBAAE/If1V26Wf8Jon0zQJbkm9elOITddDN2RbmbkQLWQzqjKYBJIOQjRKdsrVKqNb/rgen1z/AOXKDf8AE4PogRveJ2k7bor3aIjiK6p8Rer+qf8AKumevDotRokp4CVZH0GXlJOYzX5ap9cQ1+uIauU8eoO7WVFrvt4wFfoBNBgun0TQvrmkx3FNWpNWB1iSD/jNfFhycJ0zT4mmKEHH0SjY/eKiuv1Qf+HCv4EfrJUbII16zt5bNRdIpp3poleoTQZqb+J/qdNzk16kbpwGtNaEH1PzNGn/AKcTR38QHEr/AA9po6Z6umU0BMcnhAJZXM0b/E0d/Eo/xrV0voaC10JkutDj/HxUOnXAebf5BqOlTDW75QkFB/kG3qTa3P8AkL1Ff1Mf5C9Pj/IiNuelx34X+Q06+Z9yAVljCGYH/E9HvsHXTPASs07mMknzx6QgRLlxxN1EXKXU/wAL2dPn24ZgmenzL7h/gdNrqenCLxTCCXkXH1mwhtff/C9k2lsde0cQ1g73pv5ivyJgZW4qPIvTcoYtbeOnCy4P8MLxL7e3A33HQ86S0XkawlPA3DrZ0Fj4nFtf30xLdt/hf8nTHts8ZjToPlhe4TBGadsm/mbwi94mIyVwvHbqX9Aoc9MGWfz/AIYmhK9sXcunaNDW0dpaPQzJekWlPaIJtCunjpR66c/4TrwnzMT9yi8UqZjPYSFfNzNzHX0nWMshi51z8uqjefuZYC+Y5/wjWhpKZh76slO8ByISzJ2h+coL9Z9wdKfmBQmNEj/mAmr+ZMBa1fP+D60XEtj+l7q0Q7Zl8QmRa12mih7QTl5WB4nxCbZ3h2hqkOUf+sTSW+XMqtOlfuBaWr+nGc7dPw3vDrB8eh6Z4SFR7cayl1OWAH7lerfAg+qcGGf1CB3AlM/Efott91fuhq7rPOMOzghfUzH4X6jPopjP8FWPqs1lYazW8wDFfdQP1IRU+Jn4n6wGY4mbe+hF2mXRpz0x9zQPdcSuxb6CAj5hk79KR5JTFa/4jht5H4htr+MlbM9OvpAFn6W+0fsoBbNMf0THWdeDmD/v3K9OQN7RWDZTJ8Z/fpgmDXmCK/c6XHAjpvHeuFTfRaLiBZ0okU16YobQy4s/c+iMuQVnFmgJr7UuJSFosRzNDP8AeE02JWNiWFkuUskAKwrhYLYhj0I3RH6n2rhVBvpF/o2by5X2Y3ZYjlHV3IIgnqZUya+0otIOjbj84z58Hl9OYqTqLW1CFIDGWC/WYnml/wAelG7moAR0+8d1l8FtPLpQubyxLcsoldINCKndh8yYBvNOqHwRussVvmMu3W5d4hDoKUBbb0tX3hTmtT8QqgUz5m71E1qArVKcqRGWwzvkPpuhNFOcjgE4TfJF/o32nanTsAoM/kmaf8L0ZK6KUUf5PR3vTclo5n2V4TuiD1R7GeliVQhMY2bBhL/NhFfd0RAxx/v0JL0ifQmUlmOhvvo+6iXdqK9CPXfzkoBmv/iFmCVwo5DnGKQlke8bBCQw1PEpA3uO74mGVVSphEuZf9idt7HPKHQ4TC4H3U1IrpOrVVqTLVKUqOudbyxAAo6JKChjAJ882Eqm68Swpx7EQbk1ev6PZM+z2Hii/wBsYeAmlQWtpkWJV3iz8TZq+N0qfcfsrppJMwF7QuqpkhoehRpQVVivuUhsHQm8EsL8/A7wAAu0GYkw8y+V/wDs9OYnCauq/SJR0IcTYtxDqdFY8EDhKXlNpBQczIgafMUCOavOpaWhghpi4Qb8tHEEwoZ5GU2nwXRuj77ILKM+7hiG1nNemoqqiK8CcMQ4IPOGx1QSklI2pjg/QDfu65faYl7GwdpwnHlFL9ZhuRfRKgwNOBFLW/inDvtuVGHW9kxAE0eqcBuVIZXqLWMATZn/AMQxyTL/AIysld3cEvhVsjpce+aZZHuMo7dQhNzqp9257pTE8QnMZq+n6wiqmsBbJob5dzvGCbPISj3ZbQ31ZFB6BO8XsPg6L5CO2mMr9udZZHQ+xZ12x5ZkXCjifjTCNTmJxd0J84B58xNgT+pCjK4PYhm2Bns9gCrQVxrmClNF8pRKPTjnOR5ItaaHWmGi76Awf2k8nXJdF/oL4qj9DBv9WCK4ImuPf2XWZ9kLSnOhV+cvvpsEo/D0IVn6QrSGhAsqsqZc0X8+xSjuPDPv48v7A+DQn0Q3ZAsnmi9dKgaZh3+2Jy1NJ9Zdu+MQbdzeYaexqlR+wEHX9boj7Nx6as7+5zNK8zDm+94x6oCJYWo+ku0EEkmk0bI04hz6aJ8LM1QHj0jLKiby8q1OAgHeXYo6pAWtQlN5vtqAE1xml6LiW5AOnRzLcxV7UobwDeOUW8fqA8WO89M4r2S8Gl8dBtdOPMuGa3sCV4xNQmBrG9uJcgNei1H/ANyVHgENu3IbXFXxod2dod+5VIvMO9bHRfp7Q5m2EOB6ASgFCg7RD6CJqoLlFL7lMl3oR1BrsBxFjwQReuT0XxTwIYv1EqUJ7kKhprIrA0DFmKnZme/TTe7d4CBVJcvaagFJwu0ZGDA7yrVWuPE2MlqSTAYao3Yobq7xlxidKeZR7POktn1O0Nj+aWRbsMEEog9+g9Kc9FouV1PbpuQ8EuTkG87MOEJqfITUmYAzEqZUfp2hobEQHQpfjotDK3a3lXRcTeQCHgzsInd3nbxKxzu+I+3vuMROUCol6plejM8Q0PHRi4ATsk7Ek8x0AdUrhs0heyQfElbq6Odzv0/+0cYV7gYspGctbsOi9IR+qEyR8kJAGZB5zAUg/DcqD22xR1z+5PYIFAQBGCDxNKglu1QLaXLuWGZZbaJgC7uGRQ/Y/wBzdYDaqaAfHmeD2GLcy7Wog/3Nu8S07yi4JQKXcFKGluejrMe0ShkFvWejsYkUGvEwXv7p5k6XNEHu7zBKtec1mBl3VNzvU4Yspipgp5gJbZR/bRzxHRbOofOSvvE3XV8KcGHtjGCmNNByuXMcSAG8mruwPWG3tMo7YZ2bS3C6CPAKE37j/CIwuWZOTp31D7SlvTagd55hqOaYmc1186EV+B0EZd7BqOIXCZrbouaTgw7GP2h7fGIE424HXoPL2YVBaCd+gCASMCrDHBBu84qLTOC+r4mMWa2LnIdB7jGH+TA6jK8MTiVxrM/xd0QcF71bNsVxPgYbQEoudJUo7KWKxvTSlMrbN4So8M8BKzXwGnV8e5Lmbj9Sj6j5E7BaHxFDX0F5ajm3LBUxlW+xCJWPRE7S0uNiBrL+JJVlS4mvzkrmsV+YGwM83MpIVKmQsSULG/pFeaitViuGkuWBKaZggXlOZVfI5wiZrnSJFuzG49F2YB+o0h0TJOIkmTKDXdZO0s7Unnonvjb1qtHDK+xd11ofj+SK37ejsbHUmq3OWIAAUG3XOsS5ot9+uqVeZpSB592EMVQ/SuBjuV7hEZ0SpThnp/lGq01Y3fIbIDkZw8Dco3IVTQ0Sg4qxvNR/RABqlnmVtqUMh12qWgoOCEQxNuldf14S0VXnSU2BteWJfgpMu8Oq00uYT9AIUABoH6aztg/TO9v8Xvj2gvbQhr+k1CpcH6Vg1EZB391gF5/iZMxj3zIcqq3Z3kBPEp83N1y5jrLiFIBDepra1hTK1COdmb49NjVfqCgdupgVd9n7AGmRG6ANHtCoZH3uf4H3FqAfk/TivLoXtrHE02gp9nW0ltsfB0wPuK/bHw77Yj11vOvvNZGz4gAdzl/Tuvuk33A+4gC1YrrxOyP1DZVcQWx9OqNY7fu+rp9T7tj7ipwCZia19ohNJPlP9/DyoF9wloofRTuWfD1UNWd391Ze5Z40L6RdEAmj7eVNBZN6xo8TBVwFlhqJESURFpzfSUFNt2Uq7l+jFVCU7sBBBHUhv9CBwuBH5OtRM1dqU/goKAtoZf3LD3o3MB95pIqq4SLnfYKi4VhtSwJgexmxRr7S3M+hO9N/ETvmVyXpGuprSpdgbVlK7yaWdMkRtOxR2kun2F6DWzVFa8h9QDQr90Gj0XtzAuOMn4mRgHz9iGYYCulpTp11RUYACxuMLqGInatyMemr8JapBgoq4yMVhzvKFQJh9p+Kf2gNq1z3mHkOBm+m8dLZIeGFwzWXeFjql9oQNAfvq/8Ay7PQ2s9BvO2cDbz+8Py/a1iG9XN3pKSw2A1qBaQdFa+G7LZsenAQDredIl2AfuC7IdL+JaWlPBCWMtVsiQNhhuOqu5Lx8pgwlEjcMdJT404vBHkIpL0q74hssBoKAoIupoo6KFM6Irmp/F0wI2HwQrcuh+9tXQsfaOFpD4RK1+bNQiNN4mspoHVTy+2yKdU12PEdH1BxUL9DPbxKxGuIqUDiXJFL4JiiX1MrYq5YF3ThoTcOJTPwEvw9pB29wcVnA/iELQUfve3p8i9oeK1Z7MME5hymiyrG49IjEpCIg2r97AtaJqqvUAafp9J5mYr+fuYhvptoY+P78futq33BmvM30j0pWTX1qWz5E3hdefYcwjWvv6DzMxfn7nilvrMLO8/GIoeL+/1Ye24N/qA1mz5TCBV2sLdb/G+juvf6JnvPdBGq13bT1qm4Jl+Go6We7oeZZ392lvYl4+adyjK6gv8AUmy6EcrdSv8AU+zyUXHgfTF0BHn2QnOZOeJkRTU8J69ZYL8TeYR0vyqQ8TA+K021M+7hugYO8xaHXHoa617xKA2OisG4uYd0cqR59D7wwCdx2dIpWVK6mCwVc6Qdmg1rLvEXXDj3dHlL8R5/Huv3YqfoFrX0rTg29OgLP9lBKAOhQptPldNvAHwfUWpm8tmY8t/ppL3F9tJhHCPRcSa5WTX1A86h9zNr9eOhVf3qW3DXNT+f4ov/ACDQ8xDa+jzk3Rhi0omtwK4Ja9VzNgqF94SXi48wUE2mbU8/9k0hLEZo/QZuv9pphfXFpLC1Sfv36RUf4vZLzSJWT59i81DVjhiFj1SdAvk9dyc55mEaFtzx6HyJlNAcU+nPuC12ZJ3qZ3rcil6jSf0aTXTd8fwrD7N8xLycGI6ZTZlj/HbsMNpqmLQu7sy0DzZTCAxWaTOLBU/yIy9KneRgATeGNdRuCIZoOcAQtZFkaBBV7cR4mRE8syQp4XMrpDVbVNDzWPA7ymese8KiC1eCfGNlfMIzZ0UZTRrNQL2oqHMOseMDv/8Ayjv9uSzZNP8AC5UsdhldiA69TVBYRzWw1exBKJpNE78buViPOROCwB59+nQWXk9jtaTKsXwIZc0zs/MvWcwXrjmdhJXKsfpxp0b8xV89ffX8n0o0tBfptuVaDVi518XbvKlPD0DdYZgoHB6aJnutDKjYfySlAVeJZhDM5aVkHZmY85DuKCKYcQFlnw0peZ9KZgGAd1MIgoXWUG5DML2JqQhBfd+Xd26/QyfqbB84YX2hy8VHhY1IBqssL5pPoiMdKfqUqk2fMtH3jiY/0ddBSnyzjvLlu06eYWxzwR266ZQ5dykro9OOpdtTdulyNqfhBW1c9iIbwzcznIgoCPNUhHO2I/77/wDNPiP2MXlqHwMxXVOOlUYM33JxN0fMs5lB7NQyCDFiiDaG5cPWyD8wCZVPzHgRo9umj2h9wkmCL4l34kxDmbuc5Ot2YqOJZU/1TM56t+PZZ6gtYOfFBwjllqJLZ9QNBjRfi/kla8r8r07sh9y7bujWJ7K2fwTVwSaxDLLg4e0xPV4u4wOCHI/lG4sft10uq/cmjyxC4VnVuJAJNzRCCloHoti0TzP9vjejgwyNXXPXLsfqr+SfE/N9hqdiZIvKNz/A7QyIfkgho3cYLRH02laFxvPBv9oWb2S0xIIGaNr5idoAlPnlbcuszxzhgdXj9FDWZSRs05lCQ9Pcf+CN2hWUavaZ6ofg2b+lpUBrNAbpZUN6825SOr4IZVAoI1Pj+Z6pbUeU9NuD1omknId5oRhG1/pTVuS0yKKNEctuWbQd4rTtD4oWuCE6PI7wbL/RFz809hjdjZCDIC60RgkNP4MrhhQ7Ssy5h184hyI70g9hBsle5fylJMeDKW5X0RSyYIDq05fpsXWD2gWOtXJbEMMBGrucufd/9zv2SrLoGkmEzl3fP6J6VuleOiequvo/9j/C8W/Zgsy2DpZ/q1nhA2hibvSnDwgUD9DqzHstlXH9cRmOzKJdHCi1iEchUqdCIbO/ps8KuvEzzTaPPtUYJ3ldvAe8OQC23v6Kkkyzd7LCYft4iea70XfgH59LF1C9z0KGs0d/MIETc6Clbp2scPd+YYI31fBro9qhkZHbO0Af+iVr1PCfm/sigWvov7IHcJTwVh63aug+joogTTuxrWV31NsxnFwyftUU1lC9bPH4hJpsoJsrisurnvDfauhdtfydE3SKtFs1RwDmWblIrh/KTbMI6WVT6X4kdRjz7iICSu3UVBac+jqx86W9BKAQXJwJPzgcP6K/QP4v7IuMGh5Yrma/j0U7srp3phvkL/ifcJVEP2h3Xj0WktT899MnY8K+J36/jg6LRVNHz0vfz/I9LcOdU3TMTlvWINezkoXSBf8AR6lfF6fZNHadunneX+pc7Tn5eJu7+aX7HgZUFtDXpQ4jyS3H2mCW75zQh5OhRR2hwNAnj/GYrxhgpjuTd+iF+Lo00N/adG5Z7FWAEKdqT3sbAFsYZrVjEoMwUnBz0iWmtq0xfnqBeHGlACvmzlIfAFek451HVSsqGwgQLtVqhvLeuQr764He7+XpTUNaX0yNZ1fl9AsEajR79B5scoirdBfQ6wqNn1KczgK/XfjSnBPzvZ+HI5Zb7QmJGlpSzHbofv1rjCHxKoaFfVw0EsHx0AS4IA8QXFRtF3LvG8jQ7dLRaRfMpDWf9M3pF8by5BVuGNYuKyjUGut+gYTRRqXz7CWVG3xCz61Il3dbu9Fj2Ybb/tGt4mJrY39kKxobm00hx4ZWU8aFFYIFAcei3Uro6vTrU1Im4YjDt46HbLsXKg1gmvU0xADrFTGAduUsQ7TRCWHQtwCXwBbkSnZoGnOPJqgsqxmVK+JYTgHvknAaXsn0x/diKGgmrTjMwrcBpHJ1WoneSHb94/ElofZqCJqMd7slmDfR/tHowUumYvipRznUNqmStAQz+l/7htece0JgvaU1rI3fBLlGdV2ufnxCWH0L+JSdwP4Sky4BN0AgjSeMzGXwqvmPqfLuz+N7MQREsZuc4oJ4GVNckJom0VwFvgeZ3zROw+RX7UjuOP0P407M/l9lLNCOlXP8aBAT7PPocjFdEezgqyr5SjsJFJqwOv8A4lsp27PiLFvnRM6AbcWI6dby0U7t/wB2EKhzWemiQ/0j88x429DGvuLaqXI49x0ZnmaHn2HQsuZ+RgMRQqomFuDbuSkseqxmd21nz1MnjNADwi99wt9A/r9LS6vPvl6CItDouEgwlj+mZVlHqGMlamXPTHu6faVItdOdHaVw3Iw/MxmlL6C7tmZ2zCFbEobt0N34mVC7IGFX4xmvsOjL5z+X2GANMxMUr5dRKADt+q19WviV4Y+qcOA9GRW6Wh1Ug1WvEGs7cY9AqzA+726Fqxrwmv4gD6AHx7D4NtNX0Iyb2oqn10/aN5PMajCelR04dSd2OoRYvg7RsUmmTVjBmq0u4Pljs027koXu6ojk3jeY0koThtmfQb5+2XI5zC95riOYJylAhrs1n2czMPf9mLgBHx1grYAPiGIf6b6LItpXku/xKf8A+4dO7zPuNP8A0q9Bm23nJ5TkZJWUPyf0314kBZiz+YAJj9x2tno53/CLtAP30uZBWwI74iv3URXYY7Rw9HzFY8EseKR46CwZRN0yTfLXbpXXU7kyN/8ANZfriIS3POAK+4gRNZ4W3x00MFXdH1Vc3ElOIphgZwDyPsOk85oef2auhBR3irB3AubDqM0UDHydDaVqJSKGycJqqOzn8cJsWBXMtBoWCZp+UHqbReyLnMnkkMkuU34j7FHz0EeldYOcNX0GWL26oJTLHAqO7hJnVv6PHiAM4wqoKMXjoq9LdhvYIegB8dP5nWOYVnBK7y5ToLx2QN55r/8AcwpjJoY5r3X/AFJqcxymNXTkuJX7VJ/NHj5TjiJUjhrlbB3iPcV7i66aNLr7bJpXX8melGrwlw/gmanYwQr2rz8v9VTajsyxNs1Vl6LD+809dpLEgfLsKgBhs55lSq0VWFvtWBeVE88samxOzIQgGgVHXu9h2IPTPKglK/4elUibsxfaVOWz/wAO0oR0UdRj7EYu64dLbQ0MfntI1ufJS/8ApD8iaKRYjd91mql8n6Jm4NLP5dK2qqjrwTVKK+G3RlYQPwbh9JvFcTI4mx0hpue7fcH5pY9VeYCVi+FUq/rpySoY/b1yJ15DxDHgKOEp85Oq/MsIDTGbtLR4dbyaG8fxAqoKD3XSfEf3+xQJfQfyym6RZKol81ksOEvDMlemwgXg62XXpdJZ08OLNpw+hJH0Ewyekk35hUGZzVl9BdTT76Z94MPmgb8yavyWc1Tq28pLnAmjuieG53GGcwxyv2Zk5ITZ2fLB2Cn+u/XGnRv3SMe0L+B6a5nfifbbW9ECx1QEOVrhl3au0/lKtP6ZfWgaez3vYof1bpPmfn+tqu0uLJ+HboBYGHuZf449zLpQl7pCbJok1o4WEfUK1Z2D6vh1YClGHfYeigsGm+iFU3u8M8VB6AnBVQ60K6ZjOReJxEy5bZWrXqotbnDswsJNHeO9hZf8OJiL3TKcrKyGgRO0Rdui2r1wTKWV3Vz+3+GH7vWlkv8AP/8ASNU01fydHRhseAjDhmLZWZmnf9GVOVFlxPxolDovjaU59gMuk4u6FglbLUiVr+D8yxef56j+eoaff+BAmief4n5PsIhOW0Nb6M2aeU113yIL536xf8aTjtHi2o3uaSHLgAgKDQifXaZmJKzzPfNfXHquG5TFxs6C1gKDSbhPLfFr1dJtxW/BJ+GifqCgAcHoT2izdV3f8CoK+Z2Z+T62kuwkYSUzWqalNxoeY+org0lF3UULvfPRdyaFv4gGj34VjxZTmZZyGDkuBQobt/LogAjswCgBwfo8O/uH6AAlrAapoTcRvtfYAVaDVjyIHAeiMh3YWZ4Gpx1ATjSIgjjoms6no2exVgdSWy2pGqoLWXsQ1hg6X5/xDvMhGEFEARs0sz5ZfaBgIg26+U/N9hbSfEqiHBjrSWGmz0LghTk8qn9Nz7YPMrQcT3hAgAWrE0W7tUrCIVuGlXPC61s8308mEUIXd5rL28BJtPSh8OtG85/8lopbtHdf6hGJBaoPEBFsTC0tWgfylT6DHZ461iXcWYhGgZmj+c3ov+0Ok01cPxrEfZCMfbctzB6hs1mDRZj4TAljsk6IEoNWWLV3Ej+5nxKlgIBQfR+Ya60gRSGJQnD7TGv9P5Y1BXgpEqOUFA4zx0O1osNiO9qHRUa10r8z9lX8CrBmF/8AYy4dX8K6qXRqCKetAu8n8QIgLE0eiiNmIW2w9So7oT8EfpxBT/3uPKZ8dMvN0cb17EAHeeXeYNTTpwZl6ufHR1pD6pmv3YbOz07NEgNlE6RqBtRxgOgvmnmB+dJTcgB77EF8rie1AhRGg1B3IZwpsE6qzsADBasSkldy5dglFUa+HQ5bKk8wZXdoYdTyLtLDIxPGCOXbAbaph7zBgAut9XEw3/Aq4BNAqG+vvRyg34c4ZA8hrro0vo/ne3SHoDuzSLb0/RG/8yJUQPzbem8bSO6lTwS7QpG25pL7EpW5+fBpdWfh6Z9y4g2+ZYEZBuwdAa2q701rvMDnjNUKDrO+7/Uu+dxb+ZnWdfUEOR6UdjIrGpmVND7XglGjdu9/vEe2nRnpz4mW8g83B2yv5z/qU3o+VWVjrtt/lQDcv8OE0jR8Hhg9A5H6mef+/fEL43nH4HTkn7+VDmwdYLk26bphQmfBPeeB1WtuX8Q06EnmV0kOeuru/Mw6Q5h+88ZX9jKMddtE6K1ya9WzOE8yjjQRO6j+6uZm2vkfsZ32yNBJju57TK4Ia8vs3vU1yHhUWVEd4ZQwWLL8HumEu4vPVUiHQ1YiE0Y4RfG6fcLwbXKxwSosd9hlKSXTt1vdSSroWF0QFcu1KTB0JhTLykGbHR29KHldd9kdTmf7PmKBbLjaf/n8zXBZdr2gufktRQRdmJaSnjcTbj7Z+0XHjnE4ycfwIKzlj5oZiK2d5ko8PdtNOfoTQYhw/C6u4fy+J8xg3Zv4yo5XjmWsLookQaTK26UUf0aoqq8JT61jHeMk7HSqdgyKvpN0KFfVTzSUPlcNPRqMZfvozfdUbgNeEELog7euj2nSX5TT9lqTFOFniGu1bsdpbxcjar6H1FvVGaerqZfoQcQGD3m9ojiWoS31TowDT02GsabGOy76V/hwsVei+Ko3Ag7elCgyjlN1TAcC8zkyj0HZDQmbRJ5uMf8AXMsqKcorT4i7PV+pGccZo0/3FwNDGm08nR9T2htA8+elCtFuvW0EeQuaelAiCOpMtcumj0FDtzd1cUVaMl93Fgttrn2Vgg1XSFBK0T261nSf2uFV9YZQwvLLwdnm/EcTKEKhnN4Ug4CJja3Muhpi/wDRD4KLGLq9Q+Zoxht+sOrzI0CbE5DZ0YEnl5YArc+28eewmYXNt5QRH8IJbwqwfNsaT3Im2aBM9wSoMHArK7wKgZP5PMbFruNBPSboulJdvto/ME8BCj9uBfgjouMPgW0/AvbdNOlr8/rqVDZ3l0D2Aa+Zh4pY/wBS5bKqh2YwQStKu/aLg3KmdZ5EGio3bKbXNydBsURMzwnNc9aGN1WdyaHiGxYlJM4C3pfiJOaAn4ZSlZvS4vSPy/mUmlpWq5JnaCuor+gsuunywqHLDii0FWvUgQ7v6KoHkWvTwUl21wbB9aznGbozPqqwNZpmVdbCDTCzyg2X63SVP8v2T9Eq1YL8v61QK6E12muPVQWbDySm+7/d9a1HxXa0GvWAVaOYmFElXk9ViGd2O/osmL5zWNyNfr0YmC7hAhg9OreF0Wy5HcFn8SziLC0+Y/Lj/wCpLOy84ssXqCgRhCxKQ1MPLCPkmCgOvCD0PS/J9rRg8fpUYBKNQ3qOdx8jeFOsgcdb6E05UM11PP2/EfYgvw9Cj1kdOMQIAarL8NHtapMi1ZTVc+ush8e5/pGheUsq6gg98779dXCnoHKMdC7iV0LjXkmxBcppeDRLiLvgIVQC8KSIF0GkfMwNVdPMWi5i+/z0NwrVKJhA5T2S1uhCB8DrHfWOiqemnE85p83E7qjxksF0W6YzZcZLolr0BZH1dr7GrpxDTp2KzO21Dpdt5jcuSCxQYlqvW4nwjIgYc+IqszoNvohAPtv5ezCvP+nVnGqtBLxHuWeu9aKdxDVtQnmN7rnee3Tvep1FVRn/AAVUbY65ProjUTV0yeJ3Za+ldDNjyUuXxL/28UZlT5wGzFy4A6/1LlG0gf3v0rtbVfz9FNi04hgM5/B1+lxThTpPTfawJimpoVQ8S1MYPIymox5Z0J5ozWkuaxxlgIUllPFLv6nNH1Nf8g919Wqlq4xn6S0KYrwpyQAADBDsHefpCR1tTgloSYNhiHt44rvRotIfB17+p+w6MrTZfbzNLw2qGZOrs3d69H4uMw/3H3FH8+/3P0CVlkw9bik0jeWdT40FQbfDHo0BHqd1xigvP9UbmxkSZMwDdrtNZfU7qmp+iU1zM8Y2fjqFtr27Ygjhq+lFvRUOYcSAtQizwMPdn+DoHnWCYwUWjynMwlj3hNGY+QD6dxjPgkg+DXmCrRwGlRf7QI6GGqr/AI6JnNIc7COLefYwQrcHZm/bkNXE/sHZRACG0UfhAxXI8Bgtr+B4qU4weR5RUFiUnMzce7SanYrW9pZCXFb15j39yWs1zvSiFuAxV5uogP4qGx2hj2m4Vv1HkU+4ighejLfrsH3q1hi0ND9BLD1Fol346soufHOtkwa9JVVq289MkV3VKjXlX07rEv8AMr/ZfvqQsSE4vqUo1Bj4A3KrmiHV+XqLcAf68IX1qq3bz1oK9AGNRXKyAaR+TL2AznxGiBB1BmN8ErqpkQGrfFHi9jzqNINsavgNJmX9+o4mDCNSQ2D1HwT1NnHZlcDxsTo/IW/MFoA4OnzF8D+6QFYx5AOZbUnwbd4i6K2na5RwdLaIRiXsNfcuumy4LiJ6wpDl46DTlL/E0joELVSrE4qurNPazOo4LUMM5V7FcQgCNnqX3EJrQb9BBfWdhuDZoFHqcoN5tWZ2oB9dUW0Xz23+xsiGFLofMNOmATYw46NSegWzReURdNRZevuPJVn2T22Fjs9mAVf36Qts2oXRMpRUXF9iZ8Aqqgbm/ZhgoINAKlK73l52cHU/5MmtlgrTGRBY6+XoACApD8vrzz4l+Kn8g42QwMPubpDdt4P0KgWsUOoADX1ElAvWjX9DZaXn0WVQ5muuO7Gls+2vaJH9U/GlXj/xMUXRcpg6ptUAlhj6RtXuHItwmPn9V4I5AiXc3UdvXKJCyuKDrIIzQDBzbtAhdPLK/cuNze/omGjoTH+zX1oSkxMOA7Y/RdylmG0c9fxy6KUWVDxLmEIacPQ0WM+v7MaqwE8MfCAtXAQi6FiNj1LsTla9JpDBdxNPEBHLriD5/TIy6J/CCyK1M+iV802F6ygF3fB9syjQ3Gf8Tu3SWegbFC1Lmv7ocBqejlYzC8X2lT55F297MeX1H54ZpUd7qaQfar4OjEoBLgX+APr0OTrszawo9kkWxCALn941NGiWsP5P4fcImDGKPJEZj4T/ANQRNh9+F0XrMx0bw9He4uevqu3NTH1K5nT2TwyoTutm98Q+JLP9wyM/xUvtOVXpY+ZdoB+0zMC4CbVy9zBWKDYN/wARV3jf6UF9MBjpq6qxrRk6OvTgUZ+YOPHlad/TeqB2wXCWnXl/EBXRq8X5isNVjTrgPSwW6PuD0A0lz1pog74jvV/+9392yY+ztPtAbT2EDq0vYgl0M5ZfSwVdxeemwOY/CA2lvk1hoRQFdJzcgLLz7K005PYhAVtHZK6K2AlkdFVa6eYmlrgaN+J2nXRf0Nvl6Njm+lmbozOIK2E210dm5594Z4b76juYY+IVYFI5GCgAKA2mA/2P++hnjeiiYYji+ZXDONvbP2Qs9/QuiqBtP4m5v+jMEAADQPRlvAtUojis0Pd3el1nHpnq5qHH+C5Q13Yj8+9H7PYvtGud4juXNPmIQTRPXXNkrFc1mdbqEiZlWB8dWjq/8d5gGsLamNrPXmPh6fizDVT4Ix6VCTL/ABRF2eGbcvk1qDQcmXMqE760vXLMyXgWDNuSnF1Cw1Ia0+RcCdcbzxUvzABwfD1Zbdue9RKU0RoXzY/vr2pMGT3Gt5VBaoKDsdAT3D7lOqcho73z6CnH/L0Inj0RWq5wr3hzDYDpfTdyXxMHOKty/foHxsvgF/uKw1WNOrc5kDZx0ftJlcYTeFpZQKZzX66+zPsvYDVlc/ELsvwRCXNPSt2KDEimdDxNn0nEm2oPH6B7yJ2bRcGi27t3hPYamRkUOR2lPsehdqoE5zACNMOQ/wC9H73QM7cwWA3Kmjzc5IVTrBpNYcHJNOFRv8z+fz7HeWJY5MHaVVtDlg5MvzNZTmXf/wARO9KJ7G8pQOtcvWeCKfLI/cGdt9TJe/sI0wF/UEOYheZ26SUeIq2ncixqAaW8HQPKqO/Xq+YoGR7vDZ6CXVOe0LJ2H7v0F3vWR4VKU/wtcs3roafljtJP7vWHRU0dEgOGjsiqskwnLW9H5J/pk/xA/KzX7lSj5r0IiiaIMHAA2P8AB1QzK18NJWgbxnQxSVvpDL2oZCo+UzVtEykSg/3ODwWK4J80msd2KVcJUAZ5O9vStYeRYTRjgK/wup+T623j8LrMpes12I/qhHUqOXnA5U0MIueMmDtFC5wNP4hlB3av2zf0QZJv3A1Z/wAeZ+UQMPo/sr9WpVXH/k8DFuPE0RkX4lDqCLRr693OM/ttM0f1RIljU57SpWRHtlrC6zvWIxp+ZmYCIwlMCELtP46W+FdvxABEK9HK5o3sfP8AgAdzBoG67TRPLRgP+zERxtnuWDb0qVVBO6Qfvok8v8Up34/HodD8C5Zc1pf2gTl5Jz7pt6O8BUW66GvQI9v6V0qCYqexOBl2N5Z/8VA/dqTR9gtFzREQO/LC2oKCDYHDx7iH9HYAA26Ju5QZcN2wrU3JpxKUmq3vd17NmNTFNvGjFVHZ2PlhQCzRd/D0jyDp/Wv89W6L4vxF92/7tsckv7Dggd1TAao2ppESUBlh0HTYrNXavSCirZOGLUNnAYHREnCBlV6Je1g4Dv0aMsWWOqYeyD3jHC+r09i4rYaYGb9KoLow6SoS/DBQNOFekOBO7jd0XRVFdUc/mMdkw8RHUvmJO2Mn6IS51a2enoDdUsPOf/D9yrtH690l36xbt2T8nEEyKXQEfPggd0aGlSuriaXkN5Mj5XbXaOjLlu7XwS3ngynBDQynkH2iswMrD3gMK6OYDsrqR7BlK/FWjZ5mPpNMj7hdEuotHmUSb3L5mrHN8F8Hvm8VpsnyTLq+YOj3Rs/MACg/drw6HsaG2VxJafsXvtEigxf+qGjGuzsxmO+7v4wqe20D7j+D7zyll9YrmziWpqhDTxcBFfY7Siq/ERy2BWGJ3gwD9GJYB3lMvcZ/xLtcnexjwy3z9ruP4bGf8uJ30YOvYiv2AjyP7n4zEezzxqc/D9bWuqUovvA3Pd/+Z8vBV9Q0tOcn8zBoVO8BFUDT4t8+3Jv8T58v5iAJOAAAfufw+07epvs/X78yPmWsZvI67hnf2lpe4UpAuyvXwmujj9xw/aJXg3dC4AKCj3jQI+pAsBg0uH5wDxx7L1tv9JDpoH7/AFdT8n9SIdQ7E+EicPH6ABm1q1+PUux9H6Hq0vs2dnmOsife6+kSJ1UTNXxbGQtdMU83Nfu5bqCuPaaEu/Zs0CepipTyoak6vwrBHVZt/Q/fWxC7YofJRYm/QA3+lwnmmH6K8KvL7neijPgG7APgwuonuGzUiL1Iw8w+f2s/guRZ6K9gtKL+ugMlZbwdLNL9DMljfCFStLBKRgo93kytB3C+U8dBuHtYKTswYvIF7Jopisv4uI+EA2FoCD3M7jvD46uoFIHS7bjZDfmJgqGg78HRK0/TfiziOAqqW5EGW0vIi8qoEpGXObAdFH2xx1KVJ/B6QqFQO8hq8IxI7GpaYcpdEhldl/nFouJCr71UEZLEo8hDWI3QRUCml0iGJRcHZf0Z+19tPccuAxZY1u7RxEJWmnW4E9QRMKfNYt1DaMGu88fqgQaaC16avAXoW4QUU5In5rNYa46qdG6eb8ylvCgbDWdxHqpoVz0sRAZUeZQbs0X/AHKZFljUgHOII8EoFt3fquimx32toegTlIM/3iCo9HUbzLjt1ZK6TASC5WLKx+jbHaAtFscFzKclFyrZPRtG78RWJC7I7pmfwMkU8x+NAW7wxJuOyX0ZLlPnqPwYn/c09aviN9EtaNGKgzKtivlQpdRMwdgP5jUlVNW7ruTk96sg2Qm32S+2MrUovj4Qu2OBaEsoOPGxY8wXBmWF7JrBdPUiRpUhwRasXzkmgoNP0WOJR8/t+SNrDOWDD4HgbBMb94F8J31wbNTPeF6fw3lcstnNpvywtrmaQX8CBZSA7u0avlT3Y8Tjgzy06r6Gm1y1GpbCfaaa+4srCDfAS/xS9cQIygVHDqyzBgqqf95Ua/dcrjCFzggF0a6zFasJkumWKY1ibFWArwTuLGHwmkK5I+qJfBVN9iBwe78kWPTrUJgMOfQ9u83oBuL6kXs4+oX/AD0XsAYPCELy88RBT/RJNsj4OEUXSJq/5OJcfOGONtJrQzX4lEKdXPkY3atQWR1fHBLTlwTI3eu8XRYVCFMl9SmDVbnpYFxopfpKwekncAkELcK+V3bR8d08z0RmEB0nxFC+xbf6NH2e3QYBVwaIH/XSpPOoND5j1w5J5macdqSpj3VtfLFZGgcJrll7zd6KqTzF6n0veUW89GLgBQBClvuys9pbWzUn0qCN92J8wn4UTdbmZoLXwE2PRPfUnwjSJwwF3xh9RXwk/AhFWiy7mfYvIuQ/iB5NU0PQppkHzs6NCwa09AOzR8YT9tr93tpyZOVrmq16Wi5ZB2Zrs9vt676wIpCJ5PQmku0mnj2aD2liApTRvn2rP2NTDw/qSp4PnhD4DNrrqLcbsOpasX0TOYoadT9SoFdCL0yixjw6G2bOAItq+ziZCVahKRNR6PuIBbXzLbpUwBiXoatfj9iXOIs/rPoOB8xUZmhncYivIw+OmiOu6FHaqe5B0tiUL0lPW+GCRV3Vehwr5++pEj9PySyrlP8AM/J0yjrUIEo+56SCwA/J01Ui5UzRC+dAN/8A1l5Yf0F9H5+U0vDHyfsWNLeH2kbCl8GEVjR58SwAFjKXiizYFksIXKNQWrsTZOjoq2DeWelD+sAEVh5iovEpLFxyi1rc0fcUsdm110JB3Je9q8HjfUqO0/MoAutcj0IO6kDtWByQPRvBCMoD8a9H0xaX1ikQgGp3ideLV4O/ocoaX4UFo8RldmhD5q+0uemzaswa2aNB616XS89bStu7GIQKE5PQH/qgVN2sjw/sOpXB39pi8eo3mtY0ebaxHlTxAmh/shS1iz2ESbA1OF/7hu6qS77rqXllIYZrYNmfT6fsJUSdTZgohinTwyxXVXQK7GZVZwoRsC7266s29B9XWmXO7VzS2O8PPvPFg/PUKvCdHItweTUsXgS2EOk6T7BH302EQfOPVfmFNRuuE+YpfvnPaNi5Xx0I/MjUyb5RvThP6AgN03Dt0/n6ObdaVTntjnNJ+K1tMJpS159HLyj2M/sX4r7QziqurOJtzwP4YXP/AK1DL1ttyc4HaOwmJn6mBCUDI6iMu/r3NoxxNbDelL+okbV5UF3ZVgIaXQFKjRFwA0OrgUpfE/2kkS69GZzzm3Xo3TWseJpTQ2n10qX+T8LRxj4hatXxiBs304RjPN6c9P6EiabvycvXjvQDtSVyWy9s4K/Eq6K7kIcXS/rLO1+46+gULSzUmRk+aO0Fo5Pz6D/tiH5MaAubQNj9hz2l/ZP6wRbKI1dUsZZNCTwB5h40FB7A4QKaGoRpcwC8cIXy7VzNMXJv037Nyg09GMJ+O5s+ksEsaS8n7bUIp4f3dLwe2facCEBol+htkrb5/XXEaf6WMUNqXNfrqT9BXLwW7Ij7D9+lb5Ub7fSWmAtmGalL/cBVc6awTr/8Hwl6jLxmhlNIsR8+xb+b+YADhf8AHUWdGfqGSv1/b0px3lrvAgBatJ88VB1tvqPO0dCA1WCII9FPBR4evjM/3MATSNk1bhdFxohxDuu0Ht0ZlU4+JcbOsnn1Wyey0wguaEd99TL7iuQ+m/T/AL+CQB/rC6WEeTu3rz/+RmjT+I9VrgDt328zSQSyBQAtXQmSz2c1LZtckZRrnw46EU9Ock1Fd8U+vRRdnQWp+VQ8I6oE089Mj1Ugq0D/ADjWp7uv43+YNI5txCs8tfeJciKc9OTL7ostegz7NHJZbFSF7JLpU781zGysydnoApOHzuNCF1rk6ZbHIm86rjabyVa4upqMUz5FxX+1g05pixTDoO1z04JE87QJ4I/DCXJzOziLXTBHybWtTMPmOiCm5QTRaFMqlCsuuQRFDXdJXe8IW7BtAiPgLByeE0zKHs5mn7UtkbN+hYFm+z01GqPsgoNSX5gtcSYk6uw8ZlcoVGrPcht0Mcy0jQY7uOp8Roq1jb3Y53Dx0bJzvi4wcby7w0LmKmEfiYW/7RGMtCEFAt63d2fEmAdMzVQ0UKJ31YO7zLo7wX3SzMdAbBzasxoCrwRcrXV2U5dLc1oJphR8pTGTvbQpv8NSUvtCMgHdxUyyGrwNXLymQHPRwC+rr75uaIAB46abTm3Kwe1Vj4B0parJX6JUy2wuGwm3165ovB9ItUsjtpkvGK3q6nozszVsNLlN+0bmyHTDkvNStw1W+MCLFLR4bE+87lHLaCazeOhwwONNGXSAB1k3YKINgg+yA2lfO46XiHY+wxmGGGxMfKBuCbiKawMy04E+Yd1o4eU2yiNsu+zO/wDFVNLdrTp0JOsp5WEjS7PMMJ8qzKjRCDR0sYOf+MIAqu7K+IKD9BfElw/eXkF3RuL3W8yGiAu9EaDhWfAd4VL+NPLtDAVPweZQfe9v+oCg25r8zEfb5DYlCfUGkY0wv7BvB1YX/wBoHA+DJ3swRDuE1YZm5fRGuwFrF2E2VAtBz+F123UefE76h9wnvpg4eY6wAYTJjB+WP8S9kRY5K7Sy/wDbCb+OCgyC40SGHxGSbMa/mzAEgXcUW+S1qvMe/g7vi7+h0oJqCuV6wRSaDFTWuM8kO/6WPQLuXdTzEw7fOzvSa6j3H8wx9TcrZv36QQabpoSS5lfK5SxXpxYK46ZNVWfMsSPR2ZTzbV/mfFd4GAJuuu6D03y3Lsa26ESe0bcTUKLH9TiA5u6fE8y+Le07KF9DnmKWm4xnPXgas0RgPqORQ2zTIOwC4M6P/KAGkxI6x1uO7zbdFbbH08sKuHB53dL4taxKdTb8npphBc/4rZ69cH2rLA7sqAAAUES4rSiNwXxBKR2Ki67NplJgwPEvM03YhAh2DErOv6hPjIIJQ+RD/qyp2dY7Q8oYDQD1aW5M9LmFCmBVm/tqAsZQu/ZBKeh07B07oh9wR0X+KfQDxHVyjiU4/SiBqod66AhvIHjMJA4rvvO3Ke24gsKjsavW8x+5LnqpjdHJGZnNar9b9E4L8e6Aaeq+TK9ho/bQDlOC+mpql8RMtDq6/udOUxR+vhwcNui9umMTBYi1lwPVQbI1TcYTGgWwM0a69pWFYC+9J35D9zmVTwENUvKaeUIMxk7xFhf+Ejo1LU49jxjnZ98kc6FbfDcw7Fp2NpufHg4fubuF1/X/AOSYrp02pfftFg0/MM4H/AG0y5TkK0ThhYxsoaHlWPoI/wAE/hc2hEW+1xhB7cXbOEwZDb5bjX9CC1TDNjvO7bLNAuW6GsVHil8fuJ0ne/sCGnTJpeOk87CkmlUYCpXsO8q4NzeIve+8jylgKh2hgrzmB9Kyjq75j/KNXlzC2NwNhVQCgOMdLmCUcaTd6l4h4xE+jqTU63w1+4ujO3+wFalMm/vIFJBMJ461DWbjT9xnR6Jv3HXgC9f3F0emVPbVC9cOz3QEyB6jlcq/F7EzcKGna/8ABnR6DTB7aowB3aMKtUsaZPjkTe37gcns0CwqSnk+UrUqWApNabmAu/7HvVM5hsW7LqKCjwnTTkOPy6hqAteAh4qbn7k6M80oVcPbBuSPPK/iUABlia1Uu25ACWOj00jvBfO0MnAgd30a1WnhE+naARrCEvubwhA1SdkrGZ2XjzK06t+WD3duue00+eG0s2As9tc2+NHV6ATLgeei+yrDpdadNQVL5lrjV38P3J0ndzBD7IZZsrENgYcJ8J5ZhruLLNYaBa4xVuL6+0vdW3NfMsFqydJ5mcA2q1NvTcFQUXl0zoqgDdZmKa827RfbPwliO0tZhfO5piS/ymE5lR7IxsGKoeGYxWIYCXxzowJH3BcRCGgXMti4fchZ6liBFuF3jLnFrZq1M7rVyTQ8uIFaNOx005D8Yc/kDi8ZIbMD386boS7U/wAI6tpZkmj8P2/c50n9q9nVdreVQoINAmUK0YLWqHV4tRXzCttcCEu4JXeQSHzBcSyFqUjwGvuInko8lxE6/wD5wjD+dEPTL8TfQd0Uu/SMduh1Q6VhTGa5ebgkcM+JgGN5oxer4ceZ5gF5gzsS20aLaLH72xzEzhp8NG0unfTEESjS+ZRLvErFLuhcKBT4ZZbDxu0tr/x9AN7/AMcRLZ/Rr9yvH9Vx7dx9p/8AVRdV3lvgDeVcC2iILMIi5wlMfrmdEXiIhKZdUNWO2dJ3Sotqb8HTL5jH+5ZKKxjNTf8A7hxKYGwRaVjNgf6jXxG1S1chQBiZKKz7FoIQjrA5NdzUMFroEpbt2oQMcI5+3xCKIJnap9AKVLSOXCDfVy+V/uX9Kg/q7e5vRE+4Ap0lcQdujsyJHL2xcdoAAHrtqHa59y/f2Zfun9Xx7jAAH7/+LIEYZ/a5/Z9v8k/oO3+SVB/av8kP6hHSUBaw2ZNHokAbU9uqZpaxl45Nz/Bf7Lj9Rqav4ZnEx10sEoHkp0/NioEzlFZ+WaXDNdh/gr+v74OirpVib3gePzHnuGxqDYPqpzokweqavnpWy/5OmmEytkWjp8EMmUNyXebHgf4I/oe+8xgVdBXiCQagI1WZeCq1p9ddYOmM6UJ+DpcZAaykRUTyQDj9X/wT8E/QFjAusQjW/FkyQo0cPXcsaU1Z36bWXz0S5rmEF1L9zXlh9g0D/BPxv8k0PH+R3DQ//R6//iy4f5HUFS335/klTsDshCA2On+OXL9CzPQXv127MA1/jmblNTMzKldQ2H+Y8oXT/WawsoR3P3a/2jSAT//EACwQAQACAQMDAwQCAwEBAQAAAAEAESExQVEQYXEgMIFAUJGhYLHB0fHh8HD/2gAIAQEAAT8Q+pp4hok+IaRPlNSXygIxtgR0GGrImtQ3OI1gGlMaQsz1Q1CMhE2rN5MBo5oMYxDTRqA/m4Is/DC8K+8DFF5RA6QfjDFH4Ylpw0KQBZdkOv8ArIA3k8Sg5D4JQqg6V6K6V6Kl20TtfiHp54RdfgY1r90xOMKr44RahEwNsQYt4wUqUhHaREtY20weIuaNa246hU5InqpT6XIroCVUFjX2JcEPMv39WXgi9I+UoLVwyfqSnoeik46f9q45xmMu/N4qXSFF+SXBwSOBKYfwYE/xdKrpXWvt1daVpcr1HkMyp3smNm88Ul6zVIznyZ4K2bbdFHTk40jnEhQHra/vBO2Fo95Tqr6tp8UoyrvxG45q3d4IymLjgclme8ISCKASmP4anQUQGbx6QJlAWqwkTfl3DNFeMeMwHgSQDQIn8ZdOoaD1J/WAZVYeRO397f8AEQEzpEHZK6V9/wAAAUet/jGGHWVpUpF17ncgTAgA0A/kBF5l1CV2iZrb/IU2QvEp5n/23P8AIV6KN+lvCV8/+P8AkOnEZlkpPA/5CYi9pxK7EqZzR7jg0EbWBB9F2f4mWqO8NaZUy7B9twRsxSCYXiZyrAvr1gekFlq4aGj0qFmYijuH8LvVOYLZrLYN9v2iocyodtZ1XELpmjoASWSPzD0LIFQ1MTJslXaKOWQ2yTS2z+F6ctHMWhRPFPN/aramCF8sBsIdriGuKHHEQISxItZE7VaelzaoPQtSCR2B8pP4X/ZKIWeSKlv7SqKVsjpR0LwNIy5dOVgdw1WE6CKCdGFzFlhoD0X3Z/wuVHwhlOJ8JRXh+1bVmqeOilMouBDbXhsMe8c7I2RJ7E3JYjkgNjArA2hXXC29aLnoh7cWv4WoKyAArboJdx7TlOOxmikQ6pTsXDrRnMYTUSpLQtVIAK1C6KyKFnrp1B/CTVWsWgiNSnl7ripUQJFGeu/R6ucLUSFR5v6PRZMwBGgCpRQrQDWaWk3UJigm2SGmZqjgf4RohTuSyM2zwRV1tBXv6GY60xkAL1WiPu4grO4fgP3KN2jkRQ0a3QWWw7s1biFIv5fwRfsyS7QfcQY7Fmn8HMGigqyd5nZ2quPduHgjhcouyITtFlWmTabG2WZlbTBPDrqLKS1AO0ybl6ImP+SZlNa8wwAAAHQBdFfcEApwFH05J3WIWUPzK7sICPN73lBgSupJpya2YEPvtcNIA6524AAAH3FmbhMZmIhbJFAE0fqFMKS1K36CBLF+iG7ktar+52RJ8RbwbG9F0gcdl7iRJe20t+oAlIZINYGuJ3mAbelH8Fa7D5TEgTJsYx2CBpfCwaB9SgAcEWPQhG31klWvmpaR+I17+mkLYQVKqbdEBVmiut+0gK6BGwSiuj06XSCNOJoTonvBFoKhb5W57EFPoWcSB49jTiEEpsD+30oFa9BYEQT6N0Yu88kCk4+yh0CZck+iewxf7IxsA+Y9LTB9OO7BEE9m8GU3BjFTy1PQtEJqLnESsCuvoD2iMsegFhJx1AEqdLz0JkgBBCWPRCwQgdB6Xul0k8bQefArtaZg6uB8EV1DDogEKa+AscqgBqoaTRGLlwR2TyuJO8C4zW1r+rLVeyJBQFsEVwL+C52jHRHaQPALZaHlJtWrGNDsfo9DFTTPGNp2+ydW3r7wj178ixmLEsfVa40fHtViMbxdFOybpaFIdzcX0r2Q/JXFZFyu91LZDUZVvUPZ6WXXpxYl/wCKYtj8G6FDXq8dCLE/Lm2DXoDyj8USq/J3i7phE47DHQpFWUrgXFikUWJABtjBZOtNiGIB7uxC2oEZVKmoQN2W7RyG7OmYUQGr0eC34BdtAXWCZ5gB5phFwIEh2P5GIWKzXcjRY0Cs3XVYtN5XY8eAAobUGKI5+ZfBX0TASs+LX2MV7Q6s9U9gY2RZPYMjH5OJ1H0Rq3N10TLYDgeqhrE6K+l4YdVpAeDe0I1xb19VsCqM9KGzyx04GPK1NNVmAN4XYNLW4T0Invu969BgdAiiIGxJer9qXQYbmd7bZ3Tpkdc5VAuLcwh2VVw7RSXLIxADxBCBrIItZgz1mWrzBySKtuiCX3tjswByhemYJxZufouQ9iGp5Eto+CvjCMGkNYEicS7gJ1rGC1CoVvSISnIlJD3NpbmAgACgOhN76mjA1kKVy/ggBkNNL4Jp/WGqCddctyiyKTdPo03lK4MXwD2H3karqihwBkj5u7GRKoKfw8MM8DW1zzooDlqvoG2B80L0XVSi0eIpVZCkEosYBcCAttZ9FttkbNRHaJLltuuEAMCl+OjVdSVGCpO+lTK8ALHN0bFLslPed9Tv0VwgwOgpias0jygniAYB6/GAIRNuhp6IxYgSGEIWGDA2p2guoXjVxArD+KeDAkzAViTEKtCLGg1h3+ObgBgCVcFqyLeHJLe5h1bCdl4QjqLv89iXcdqC+lsryEDHTnqFjMqL2UCaFTA6ogIlIwYUgF6vH0HAfdpoRl4TvHsbuxlNcDB5UZVmIPQcRiI4vwaCHOOrveEOLdNWKh+9WpKKXYWPXAmx3ohggKH1KWEU9Vg1KKDdHdVAyt9mOAmtM2kRsbI3We2Jr5hlsStumeCb8p7KWCnz0cEZUWmfgiYhHGtneJy+bDt00UK8qljAEBm4V58L5S8hOhKoCmkIWKJ8t2J2gkBI5e8iRBEZTL2SEWstmcH27GO/LIMnsK/7c7sBKzB+qVUYoFCcQk/AfzUEq3vg6NT4KVhsJU+RnQTR4lyuRoJcAasPSq5M6PsUVT28sGaXRwxU2J2D01XZv8qQ1ELh7FdVZWa7rCiHP35T+KzXG3UB8srPUD3VwQQfe9mALPqzzAWrDGs0GTvXstG8msqc/Ydbpqecx8YCjv0Opb7TN93o4m45gFhaDAERzth4la3GX5X7GvwNPXmIdBq7TXkfr1AWYtvIqBj0UCfsetk8QLVlmLyXqe2cSGxuzHP1pQUC2mWlY3uBmOx49g/tKcStd32ICAR2YAFH1iDseyV3SKVh6bPWodWf0RVawvVyQRobBdPs9n0jzi1mNVDCFfzUTilsPpBsqXTYIpLTu4j6QjE0xYbsJ75hJSKodJpwY6GEtRXyj0SiBuxhwcveTX5v8yK17einJNf72Zm1fRLMN9Fn2vsrjSuAlQecQ2ZXnVX1CDuNZqCHCt9lU9Am+8nQkZ07IpQ3iVP5WVlTTLe0z5VJRDhdzPUM036LdTX7kiToB8EsH1RoW9ckr0BB5JeJkHwIRZp2Zek3el5n/hCgjiK2TrbCiPeWZU67ZBZ5JhNwiuwks9gxk6ctIXM5kLLnBhQigimnBKh2H0J3105DExeabS4tfC6uhjEHmjATRtpxYqmw2WkZOjL31ZvJHg8thll6ZXA6Ie6iB3UfXZENguo4UW0uIvro2sbrG5/AV5NlmIbVjw2mSVlXShzbL0Et/sLWrWKdcAWl8EOLJyqiLR2+elbq2PfaxToK0C+gInBGpBWsooCsb5j3GXH+SFEEO5X+oj9K/aW0SsCxKti6FxIJKLsY4VCMYME7oESyX7gWEx2k2qNIehcbiUwTcE7erAN9LcwotmX2myVntHUm4WFfBSLU5Tvfopf0RO37Om3wSoKgjwQiNtXymDNV7tZYfoCzm2MzIdpFalpSNvaYqAm1O84yowOzLTKAhvHPLm1jqNbLwTpzHLqdnJGmz1nzRbaq4XN1GYor8LlYhJoDqZiqMjITYqBXvpvAmgVzY6GXloqTlLEIJYx+7bMkxVUwXgA7xZA1zm/WC81gYKiYVaLMJ28drL0ziVBTsa4UIQTwGBrxCaKqJHFVUM1TptrvLlu6+zNaYiDoHgI86qpgSiCknZ9033rdVhECLclqjMknyUuWTr4g2vDcDUZ2x0d1wEENc8m6iphn7kIdYh46QjoVbmtSp/7mbgM5HIAVZGy9iGcT6Hs2WsyT1oi277uzNRmA1cMoPKIyiiDhj6Y2RdQUz9Qqe/kFFjZ2etzJne0xs8DBRnd/07W0bdoaMiAt2ReFRyisg4qDOSyuocqI6F1ZfjpTKQNPsLK7EnBEqvtuHO66LMl6C26W6yliH7OgpRqxgXuPMN4FkAAAjNQUiWMt6DxbCQLoAEZJzqhhdA8a1lPukl2wEkKADXS+3GjdMKP7bdQ3W2hpy8CBk86IjgBusfLM0nWsMVL9WtozDGws2viACgA6YQSVvdMRQ1RYEOaYaYK7TGOAKoPRbsMzwiovbZ9Wm8LlsKzQVc2XJNZbLAlqvQKSEYEEqAY4IyQikuSDvWAqn0J3LigA0B/cEVfXdAhEWJSS6Khd+RAyw78BhZBncJKtNtmbLmDCjE/EdigNXATRr6m6GiV7dTmxqmYwkgHh2Y+Wzlal0VZQNY0hqYAIvOw9xsTUq8QEKbs5DB6E4g2NKztuxzbRjWFW2Tv0C/1nu3q6VdiyNktUcvXlF34nIGFzwnQdo6TRImFaaaOC2AAMAHVK1drpgi3M6r5fWFRp3tLDjOOYSDAC0dj6VqguiImUg9uhNlr5KjxXAQMD0DWbu7LKwJbReIysgTVTdhsFbIo0j/vUXR3qs2ZhRQq4LiYTL1gprM9BtwsLyeIrHJ1devMeKhh6AHxAwrO4NidEkUgF3C+utKxsyDii7RQuc+8CbfMUIjcDKIkSagUH0wK3nha0/p++xUz405sMW4xDgQ+lIK0JEB2xMd4req9q6TRvO9u9mJ5bXA1QhUOC2hLLnQg5x52h+2I9wNuacxmGFRKktKyQm6bTUPfcMqXjJ1QbQAANCVLhrvEMs5APW8swd32C2MUEcLzekcGJHYAAlq+9a5zB7ua4abZ3J9OMAAYy3iAo9uIhdQV8x94YjBmBy6NIV7w/bLO+5U/0lYHLVHhferao3oqCam7eX6c07meZVze20KWPhUH195b2SER599/6dQFgHn6syuJPTc4h93IPQYO57hqGgb9wLIWrFlRidE9oMlHTgQ5IMm5FNWSjgofTY8PD6B5g71xLAjUG+CJ9ypx8yiCole4dMBF4gcJUIih2Aj2fbBbqXmAWU6lBNqTOUIwd2oCwGpvkgkRFV7Sh6rxpBfJ0aVwUUUljAOj6K/bpsNSoMYETIjL67EK49CVQlvZbHrbDzgorBRoEo7gUVab/AHLIF6kzF79e4bKDjyzDhBh8Q19KPYi62mLegmNguIFUa3wiQwBdvulP4F4x2Y2KktdxJH6yvwsoo3oSMioWxKiIypj4Bjn4k+GwdissEa3nBs9A6lNx39w+T0WKll9A6IWuCvugCjoMuVe3IDLD2IPiJVa6vSCjMYHiLUx4eo8QEGJEdKzDJg7kvgE4Rs8D3dY1zTsdxLPjjVKAQJBmNbWZVAK0CpUXRNgn9RQmUSiBhQIrfSDJBA774WnoAtqBVwF5IEry3bTNFhPwvq7668PFAAA6kTE3CWoV8NOqry+7bZjmYGHtC6dYhcwEMIoKJXgIUw1ARYB7GyGSzfMQZbbu1BA7h4QIsn/AMPz3GlwNP7zyqsMRkpMMde2Xm/qoylqpY+wZjTQgj0th3uBUG5HHNs96dSYJir79kcohvGSKrRm/+2B5GBgAjC6XGQeiWalFl9O/HRT45vOqxApYmw+9r8rK8Q+z7RxBfQ0bCLLRNIavx4BdQQriFXAGox8/MLx5WYOnL3eMV8O0FsPUbfQDtGZu2kQONlAKmdEaFWN1BeNPutklNFV22T3GUY2jmAndNRiNtEohn2UvfA9x7jKC2nCob0MPvePzld46HX2q7t6ifaJFYr0kP9vMLehvFoZQW5QUV97dmDVYb5IAL9Qx0yNOiVNIdvuBK4egKBWj8WMRFtQnfD7k3WIXRevQvRyztL2R8hAR2b9No7tZ3JT3DDUdVtt9g/kxojTx77cLF8yGfF7hHNfzWRuoENtzDgt5jjV9UoTUw7mALG/qKYiOOQYIkrm/glqunfL0G80u7liCo7O3q5elvoLFqVPrU41WPo/dCNCe6RFNk7kB7kaBGK8lRwetK1009mXcPqWuoLZTnzGpIFd+lQiOL1ZaNJ0vGcUvZF2KrU3BlGN31tLVSnwC2Woh6GeF3VkResPIy/7rgGIFboKA7s+YSS7D0Otx7xEExQYfHSyIs7C1ZFIwp1IPQt7qOp4Wa7NE6Q1zMn1eVIWgRXFWL7O0ybYitI7KLdMPdOnWDKcRX2/dPdkmqD6ABaogiCegBLq7vSEpvo1BjAKPAdMqI3Zt10qG+Z/VQFrRuwqzNrFiKvDQP6WmF992GAMuvazyR8FFLg+fVWwL3ilS1iKuOhm/fx3jtA1RTbHMKlAhiEW+ezzZWUHoJsZPo9OsG08EHeWTNhR3lyVVAwcHzL8hxxcwsMaF1YUw4aGz5gZWiuEd3Ql3dJttc56rZX5jdjj/AHCfv2G9kl5RZz7BQLZjryWNBDYD7FHeuMBDfoE2I9XB4Q5B66xvFD1HEuK7bOPRa5U0Gr6cBgF4awcewQdKX7JUAxB/NJ/qLxGrmT5C8E3Orojus3D2C/hIO81SfwML2Fq0EJz50mGpLN1KCIF5pvTaShBIqXi7yPQZi6ClFxT7AI9mOA4rUgMlYlQxN5tbAmGwlvD9WLvWNRRzlxtyjbNBPTyYJbLw11OqFCt3VhiXWKDIscPiFvkEToUV6P0sV0oi9qbUpPCT6TAP0LSd6gNdAwdBDSHXtazFIGiO2JhcDBmrgCKeFp2mwSpI9ILUwU2UZb5CxSaxIujeUg98LLmXCa/sBtll1cxICdgsBmZR0dv4khk9ClYMAaFjRasC7elraPmisz528R1FZhvIssBoiynPpvEw5LSIKZxA1pJAAK/x6MU9BBLVALe3pLHvaWIdEWlvvQqtOFXcWMsmLB+asIEeUN8IfbKAFzDJLh3lAi5d7ZUU503ucXGLqNV/LQ7b1qZmQ9mWarfcu9jlc70BFgZI2UWlmhvBiAXd4h1/ago+YEA+sZ8zaMFHlaR8yJ9RUwIzG7TNHYP7cburfvFoe3aQwOQvv+6xAB+jYZbwK96mpDNkDjCaETMJ6p8tci7udG8moNlWRhyimx0QJPxkeRilaI5oQTNAqEQVBcGnvQzv3XvivinxhWLuewhKgc3gErIMrqMrRQxTUeUgLOuEmi4Z+VpW1W4GE5W7y9iJU8hLJuQ3GA/KYdUueTD8gpuqLwECsnBq+E6a93fhUCiMHg1coUzorA0hChrd+rEc8LQ8RNQfhdhF2qu1+yKffLQh6uoqNbkAUdWUUgYbzkRaiIOboZlf8M/AbpliqH4VA9cldreGFfF6y9kDRRRquljA+Jh+BCIdVBQMQ5cbxVBpkQdOadVErg6E6+4KXAkVtfksJpBqjTJ3Q6PQu4q0ErVxTirQ55fQzMUtuoG1sP6pgLNkt5Qh4cPWJimTSpeMMeb9+UPJhkuk4TaAAINEG6ggQM3Dii+nzP1Dq9ui0fMU1saW3Ij5rWHtaCEyTsS3agGCCKlGF/mLClgoYhblw9ALQHLMQtheg3gkP2PSPD08wC0bd9mANnodTFQDTpcvpNI7DZGyIjGEz3tWtSVsLhX84QoXZAFBBk4L8dQOY6AUleh0Q8jFg5jTZupJXlOwPm+iuIlD13QH/RIQA2gZagMC4wx6dAI8KhxiCELpaw8EEQcP0Itkp2md2/sCKhfaeIlc1J/SEom0ZkeZtBElvuFA63EuH+mLcMOQfQI+SYyXZr4pRRQGB2MVakXzROelcVOU6FXNPeu7GLTLqnYv0qj80acVi+xivEMdOYNQK17av+/duS2aez2UUr3OR6s1Wr+Vu/RURQM7ukD6o569jmW5Cmv5TM+GKR0sjTe8sBmG7YTgONAi5s9mmkIugUfQkbB2ZfCU+c9jLFRDcTkoauI2wv5ioI/n+EEDgSiO4wCgJWht6TLzBOVVcZizGUj10etgpagEggG0ED3nBVyAK5fRfeJaWDeuigW+tTQZo1RoExOsfQ3cWBg6V3Z2zctegC0EpXt6ZpRwax6U+2Mm2RhYEtqsyXOyCLI2YN9E0eDQUloNn8TsYONKA/t5foiq1tYlc/5I6o4+0h9VXgHK1DJ1RyAu9gIZ77DWKH1sDlSbXPo9tNqSuXHbF8LZTD2Cub/gYKoK7N4ZLHqS9uPmJGM00wCIa3qx7/LSuhfaNvzQlvzF2EYLiOF9FvAOsGcSXRlqrEpoa6FymBW0X0PL1AEZlAFo3ICq3q2COI208zwQb91adjFTKwAOFuunEfRMIcTusf5hD7Ho9X012IzBQq6uj0Ap+O0Gx8hj9G8WfxIAFBmcBBXecX0VmHLpsmXLwjhaBgnMmbXxDNC1VC8N3pbuf0um0GFIWgiuys4Fx0dCgZUyrpVQ1fyetdZ00FQqWBM3D04+1bK8CXBjTK1y6RevkQx+SaoiKpArVrfpfSRtq0UUBdwEf68C0t7erBpMkVGkLDNiO8WBlwiWVwRdSXV+ioXRvF2PatFYQbRH2GZGyrQTPuLRs5L1PeRK2R2CN6zU6YwaHzDGlWsMD1VFHi1Oqu5d4Fd58zAsLgmgB6kld2RpOt3Im/U8c5gbB+DJTognC4+Onrp10DTEIWU4j2ej0kkT9JePkzaVIcqKvpltRy0IEDegh+vrv3HQmFjp7O3bgNU0Iu3NZK8V2YbamBawPFL9b7iHwMxMNwhVoerLvA8mIXIvK+iJ0bsv+O7klD0x2MRLVUdx3lk0kRGEDULmaKKnM2SDLnsB2w1ktOAlIOi4heS1vBEEbHqyTrS9UewBEWJTGf8AQV125XyEhbKvVumtZWu0wYSv2h+2l8GZrhj7KL5GwJAKVwNvgEDHApJkZoAPQfCWtSy44qiUCaJEQlKNW47XMHQjl1LQDdhC5LLqOjoxNWnQCELRF7dcK15Hzt3iGbl7+WyX/vUYWVaypjGkW6+ZQpWCiKEIgixpIYKrRB2Ul+KNv2VhDfw2Iu5EzjLCdC9wgopywVCRP1OOROrB0wPxH7wb82eCV+yFUNCsRmOhTrk3e0cLSpGL44B6GpNQgyQe55mYGJgjRWrGRtmPBDnUC7aQEcmGNzJL1HUSpc3BWCDX/T2kIvAr+iWsqLwJ8QppLgblTeSWW1iB+H4aRvf6GGwmus2mJ2bwOBW9de7FWkoFzid4bYFIliMvA7VEQMdoGXuu8f8Apba1RxGEaznA7mc/RrSymWbT7ULMYXyfobYK1Tv/AMQFXkez/myDsEuKpO74DNYgOycDZlnUgHcqcd8O4XcigD5UAHclzzmGvcgepitWmkBUsZdwrHWUpd+YPyyrFuy/k9AD7oqMYtKJ0YKnT4S6ZWy4GRDrSJMZrjDLWGSoZPc/WZcD7GFzYgJdJ4QCs7AqbtmEkIAoSNeEANCTc0d1dWkiWj4zLdI0Af5EI3mx0HtAAAFB9IKiKbe+ydrXpkB4JuQJZ9MmZMTeF6era9AqgiL5w2nPPiqZgic/7prMr06OoPQAkxXIR2OGBFhB22eBCQTCVj4ZTBcgwQWNnsfrM7GBCJt9jEPMMBp/voZ2swAPqk3rwoIbzIVG5IWSHzR9F1+KLmuthBP5IuFvN0lPRsZjhO30WAN/bJfAg66Muwo9g/8AdiNXMNxr9Ecg+sBmNgzOyAGTI+kuC2PXgu014mqNHV7zbeEPfSpClQr2OEUKCXsHRDDUZ7UBLZBIslH1tTQWl1UuT4zV8Corsr3ubQPTkLd0Vj9WapBCVgMR7nsOjLmg32aafkZRis4ddhU0wypoHorigT7FfpgmQ3Cdh6J/5tqm3arO5+gFdfMMmM0ZfDENwHFub6QFSzHU39WfBccFTtNaCWUpOQ3oToPjkMPZBfhfS25PTq8IwsMWhNfJTHY2TX0R/EHGROKtCKSv/wDZWLViT8dIpQ5+AMUQq8p0hQQlFNLGkltm9+JHkVswTAZ82nZdE1WxWynLHwZ1qqXXer26bZf7lDcy+xqeJchWH7Na4uMWzDuWpbuLqE4R72Lpj0X49J6MoFLZG1ksVnrQqhGJx+e2MtACTaMk9f42ih+P1/cpXKPEWG4pBzQMHufb6V24kttz3+HpoiPRe70zIjNrRdavVAFiUkKMvCQyAOmN7Vqxm3lEh/0t+ejRBEE0YxvS7HmX6qQhXQ9PHOpxLLTyr5qLZxWcIia5K2R1K79sfhJhY9sZMx4SA4S+hm4Fi0gDyxuUY1Mbu6MosvqngMmUmHupzaPEOV0AOg9YALhAA5EvPS4ieKDrPPVBM00ID8eytDOyQV9VTiu0d8ajouiPofgELqEyfWSsGT5njq7TL27+ZVg0rqx5ioFrLuUAO9RpbqCxBz6WqCwHaAPBAgtGb4yI06Pe5a9bncMemt5lvlpFhTm+rjkUQ6cQdEyUNsQeSJMsce5INCC/LJFDt+SpZXzm7pBhFGpE8xZ4qgf7xga6uwPeqPTHp3bXpFZlfotMmmnKUCcfC1flwMWLVkyNIPwJQH5CXDPjETs6TPETVCdbbQDT2BKHU3tPAk+TkqeV6sqrIWn5UZieOuKKtKyeUoTZ0YxZVsvwepna+dKbwLskWwe7qeJcmYq9go9d7M5NiFPck3xVGMIFhhsOXSFfn0iBic8R67gXx6bWgZjD0NTKWHfz5PoVFbBuDKLuVlHI/hcsT+Dz0CHH5eQ2qlaUw8A0MaD3gK40Y2mnsxqZgIwReAHnc1tO2SoANExHReoFbUYkN98ZdjLtEqmRYNwh/XrpBUfT9YY4hK0slvpV94AtFciRJaW20j3WIJSWRhSKsN9whhbqM1Q2p8XViZA1/UOjrnpS2l6+wIKQYAfVaniX2+wod5RMQCbrx6MXQB02AlGq1gzFfgrTo3cGg5X4IJcbRYyxXwwVgd9kn+OpzU3hGynqNFkKTUlyQwl7k+gQVgLLpMj0CdY38DFQCP0Mehm8jrHTSrnqN+MM2gT2wBqSdT2zSEt1oA/s1DgKkAVi6/zWMEhbT9mmKdal7moX+CrtN2up6uvv1s+3XRlf+qVevggljGXXh/uBIKG2TgdD4KmAmiPgi9RKZ4BMez8/VtiMiTjXGPkVAohUdrYLapfF59jKpJs137BGQuHjlMoIu7n5wKMAZ3fNnVnrARSux7BLgAUH3nJx2Azyxf1tQgRXCa2LR39B2ZVp9jQhxupd/Awlh84Tltl1jnO1d2PDLMrDtBrioMAEsEma1sXS4x0KgRXWGfEJdzL3vMtI/A47ZR+fLWCN0u69QqBpii9RLG0vMEGCHRbHiCrPQAOqWJLRQWrqZH+BPoVyPZ05r10rAtBdMRFMSvuuUnEgQ+ZRobUws5ogCAt1Zavvu00MuYKzvzDPYh+cS++u8jLP7c0aC/8A/wAyWkAACHgakLGHyrQKD6OlW+5sfoLYaOPcYX1YnvpufYEMJUaAN2FRS0/qOmu+56+DljnIq53a9WejXaKQ0CixMiPSwtehCNWX7DbHBFBk1WEfYVgAi23t9MIv3sXrJCh+yKvcsZ2HQqxvKnolFRRG9qOjLc4r9dQYo+W1TlhQN0EHXQkFgNJueg6ZsnwFxLkAntZX6bPSYm0iAiJIi4cnvIpchQBusIzQotLKPk9HBNNZGihnSBlBcBj4I9CEqhS6KSGG31QLyEYNFAI7HrnZAtV4BusTxRVex3vYwoQRa/iEUwi+CCFZu69LN3CrjNeNuDoBfUdjKkXixZo+2mG1TA7XzFYBVkmli8jgC1z2IA/4rQl9F1NQLWyBQIv9x1sISp9HjUiVGgDVWULvekHhUrwfZtfkgcDDaK7neErL1MGmKwN6LoKVCHFz9SGQTVleGqgfvlGI7YV0pnYv9S9K6FjmT3YOdBH46Eq0cz/kx39A0GABQUfRqAq0EeBS059wEEbhX6G47S0VVpXHPqSi78+AevT8fdX4gdpVrB0TplmYcf4CWwF6qt3hl4GuCacKAEACHUxz22gOg+Lg9PxyCm218zlSvHopzMbJwW8aM9Mmvu4zxcj1E9IHWj8oVF88uE9UfVak6JzF5RsvARy+DpNlgxDblAoBoQPggjUL9LIRS2dc42bMyoe1kbjCgrtr0W8bE2q2egD07yWYM2bRssrSKoM8QbsNAtpa0O7LFFkMNaL+GGE1U+SfhOkGSFDTMAO5hjSpyQ1stBgF0IeCOV6mu8NFYHu8NFTVWfOv134JbjLdj250opvPRHqBBc2fojqWkHKLi7gERxt9JYP33EIosqJ8mZmTeshKfLOPIxTtd1gAOi/nOlHCom8NOkNa7a30fe+4hzXmlILPoxiiUHgZO4Mk5J+rWDHKx2vslZEg3mmfsrSCGo0x8IN1jVT1ve5e+GzNjWbq7CEoCPoIU7QHjWJZnsiLpy+S2HO0qnGfeD1jRFr9x6wIAQAl5VjNU+3NeNO12/EAuJZDvK3+MS7X7ZUGyuiLio+dSBcWWlwqenUMVf5gxoeOlrqlFXO5Ar9ZZXuobzv0CiDzpCi9wYykz+lgqOgIMyUQITYMVwC0jS58Z4zxqRTKR5VYS2ny6S4WCNsPtJDBbP8Agyu+yQXVTMpzwra2kWggLfgYLGrtg6j7qbgNQEdbGn9dHAEXy7yVVYN7kJkZE4BUHD6Zax0geZ/LjdrwjoVVaTRrc6gDd93EtCAU2Wg7ybwkmwTHMTloqgHjPs5s9LIbV7BmxEIFTZLd3lAgBqsrVHq4YJyjWw6+0BC86xbC51XEhkeR2YMp5h8uaH7xeGRVUKLefe8cgeWx2puEAbq4wVGeHKfusbG7E9iHpY5SsEPpoKm7DYWZr8i3ZXcqMfCFNN+2yVq0XKnQAh+kqBW7KWdK/Xits7kp4qUV8GcJIsD4beTpVJtUuBaTlM+vscHVydItLGRQLujq6MwKGt0vxO3qYS8AkXWctCi31gXQF6+1e1T/ALHtFTJxD8gm2BWIzoAwlIBjRD696ENSMKii6UwPWpK95hNo7HEaHWLtQaK8yBvl0vhntTrgy8d3JvdOzUoEbMOFESgeRJMjY2wgppDnpXU/XIMHgO6gpVg16MLpRmdmFDNbKaqaGObO88a15o8HiLdTcXsyiDanA8jBYRP6mTBLO+nuSZfun+UFWH0GUEEo7ugBSosGWuowZ3CABQAeki5IhYjqMas6oWXej0CUyCgwOqZ7khGVX3dTb1qtar7Jf/tVA5WEcS0WJ7avvW7pEm3XrTOBVGDeHr1pc3xBOZxRYsTo4QKh4NqKMiQOAA/BFaIGMM7yKMoTYjkZVJenhdXLiyBaDaXunVRjwImjTGXNjl7YRblBbarqsRzVG+Q2rdG8pM5nPdbWWkhHnZZKZXgPwBMK9VT8sXCNOoxJIcWxEQCWYU0u5lIQ00xYf49Iay2CpfDPhuP4pQU00IHweytbP1tgguX2DXEO079F95BpWlQVtUPtsXq7TsvxGX9evEiaNHXJG7vbEnhW5kDBaIwGS/Cjk5cFWQdaMg+++LRismZSkaIcXcG6UQmOtb3uRuFcKXyddk3Ls8CCbCHHWRojAcLoYPvjrAv8jwdtDRDwkL8pNp+8r2cviDJwJD6B3s5foMixYWnR0TW2Rr2CBkLVj6tx4R5+idkyFIW92CPoPr244JeGZognrO65NJ2IhFABlYW8w32KU0eBbmuqWKnkDyhkNE9bTAz0Y1PZhl5SnkSid76YR9b1ACq7BE1GbaUJ2fRi+iOvI9rY2W3G10HrAKtEQe6bHlXrCsBamgID9RZNQU9Vu04vaHoUOcAqFys+VJ9GMuVaDyAAAANJZ6BqJjtch21v+3YSx2/CWZ95abeyssfgr6K7GCNhOrz6rGsrQEJOYz+AhqjFOUcgYPGHVobS2gbx6LIhLcfbUFAltoFv0Aj6XqeWu5cWKQXHj4CnjliuomJvMDrBEE6VZAvdFuNxIdxT0CuHEcuuEha0UB3Y7Ft9yM68otqR1Xrc4M6/Q9xAm7b3E1/lSWxwOqCnz6Hr2YfXP9nTpcX2dNWT5yN84zT8Pa021KebRQLqP/Fd0Mqo13uT2pdQkWgXFOHvQ0cReVmcLa2Qw3EJtnOdGEdga5qVG6xEFGW6V2rYlaS0iBWBu+OiJqzVfOWZOvy4VXqVczvgcsFlPWiowiG5Kh6wdGae2twH8SiFHtCW2+t+9j++gGMoa/0d1I73NKgHivrZ2mKZPp4ClsYHdYc0+FbwnrTrfRrMF7DaIKi0PfXU6Q7y0BK/MdY5G3kVwohEnki+hDd7JmKQWWLsox2OhaCaQ1zBUPMAm1nGn4ixvCQ1aWm994p0KKixf2yxfnCnH7vouqOFcpb2WJtW5VRQc8p1cxvI3cirSSxbu2ONoR/ZYCc8V+MPYWR1JdgtiRD6wnEnvYXR7bQl5iWy/wCKUmGFxtnYgrde3WpP0ZaS9E3D8bQxTKngAHARjfVOd7GJOId4UJHQUycv7Z26YXSrQ8KgdRTqpIV3epdDZob68fVqXrgNbEwqWEoXNNHoMWJQGGZ0hAWfK33mdlL8nvhnpFa3XrZs5NZbEIKmZSwIrDI3puvQBZnI31xFk+WJXhsAR7RlakMuAR1EtjgLkR8NvWYA0RSsFjFXb+cAABoQ5jNGyVcA+BJxnQjJjd7VB/PQfYilooz4+DOpfKRglLuu/SjEcPU5dDmX8aGDYCkpqKIvlDuzvOqicyi9qkBYa4sJKbaYvFzZz9sVAlBk+ehsW8g4vlYMdaCpUgkbY7hSQkbVTpblpcNNIdsReAiFO5C/1zfboauxZUrW5QHcC+ZtDnvKLA4RIuLvZPiZZgVyTQfVSgeFlgIV1qNvNwvjRltAVrpEd0dAFBgMkHaQgudHNX6s+nU8mFREPLkfrV2xLOsG5V/XiB7yWTzQzlv6gZdCZjECUVDtxnoilrHS2rLh6Ahv0TL4uCUfYn9dAF0lG7lGAGD9UvoljGe1LQsnVK19CRgNiMnwrh4jZJuFr1C8Z2gSQRzWJb6649ThsYWxnelYPeC9NZG5QyZ2xLQQKbowxu9OxGB1BUbnG9ZOeSCVP3qCa4w0ovfnCOXTQ4JEZognUdHb/mHqT0Q8Sbke7TAvxGC9mv3q8KkWgAHROrzTIqH2la26OjKYO56iJGtRadNmV5EQRaeo95vTK6yFowheCKAgB6K/xFSijs8FkNrRbrugnXopw/CBYA9Zvwyd4S2OoJs2MgNQ0HqEERdmPlEj5cw1kLEbE9VEcDlNJV0yD5Q0FAQA6MHYweo8BnMkBhlqgjzSupVXg8YB9j8JjMwsJQvEWhY6ajOgVQ7j42s83MIKn0Iv3LZYpO0hcxTa/WdHx93nW0NP5ZRo/DQjqks7pc22GwRL3jCBlyji8RX8oYHwRmcm7L4N4lxIfVjCm0ZTE3lXSicDoo+jTbPMG/AhgM9BOh3kzuCwF5dxk1ETqB3gZLec5g/QqgAFq4CasXefKE06tAK7/QjgFNTc9GTuMdHbXUMpK0F/j2y6tKGyFNLIMe953Pf4iFaLdDVqUkCmuMkNyNppfqgK+4wqurPJ0Z1eX6kQTIW3WcQH4wNEYin6k1whGo52KcND8ziqLsaMc0Qj2SB9xhiIb4flqVftxif0Rl0yLLW8BS5/v9bYCjI5GHdnAD9fRXFBF1lRC6RFaJyz0SCNpdousRqwnm9lfQIliE2qyVEz6LNwsYjySwA3VlabTgO4nXKqwpDPn0gB17ldCGzsguEAIJTnkeqfYVRJK4+JqbQKRuIhtafoHnULu7gPRRp8wMPcu+/piWruZN7KHoWLNBCNxWYaboJ+CV7l0QlQbLBa02mHJ7CD3tcWAUMq9QFUqRgfjoT7BEgKlAs/GswAACWqJAW5gvSJXVBXo1eEaUK3ep9lPKGXwQPhl4dq95b2vcmS0soLBw31koV9e6JmIrVugx/ZkY1sCCEbVwLrS4nTEzHotCGndjNn3XqMRgqzAvEh4U1F3YVStbt3oOCSdW9QfhJU/DRpZFwhXnEAD3ZDQADqEG7adoEGIawxCFyJ6+h3zry+s/xKVb0XgB6KtqXM1b6EuMDUHMpZiVlhdw3x6CDqRYDKom1E1zUBf4sx5hWd+1YiTSFWp2a62GN/TVo8RSozruhcsV1SZp4XKGGaNR4CbcfdeWN8l7L+pofyA09i/unGg56yE25b6Uwp6MC+OjWtlDvhhrEMdzBcmtFx0gBauAIfvwTFrQezMqyWw2w4fdK6dXA1TCWnkgMTARA0BZglXr7CVUCxepY6xFTEsDpQ0v0WCIujseCDe0KUsPoZ72DzY9JTxkeXYamrHMKY70jZ6DgHZGEeUBQDABKOsfuq9GzN16AnSBni7FjtaIdM2ph/nhP9Xout4Z4PkSouDcP3km7UCgPQzVgRbCSAKHMb70TmgUhSeeq9Bbh8/KAl7+s+770r8n2HoR6I08xJTms0Ha27FesCeH0q7dLY+PM7aQI+iDzvKXTSu+dQyRO+6wilBY1Q2pYci9dawMyVpI01yA2lb6P830nWgZNk4gBbC/MsPwYwxdQ/hJKa2hZr1u5ZMvuOm99bWMWXQLaIzP6TSRc1MzFnPwuGYH5AG9FPKs7GbSohrXdyGkFBBjUXg8koh2GBkqA9Am2Cg6MAgimoCsQ6rwIb5O96Gyw78ejpRAmlAuJLI8VS5SEkOg6BrTX+XaFKkFhUOV6EPfCowz3pGeaQq1L2euLGUFml6DE+P7RRYTM2FJqgbW7Svr25Fy9i4Ir/AAjm1Q9xZFdW9CtFxhxEhhqRShvhtThl/riZQNqsa7E++NfQzLnUCjCZ6CxF6nOKe1dKjN3M9EqMe4FjtBhbftpIyJMSI79+lS5P7aJghGh16Fzv0CzWgOF7JDTwFddJVpSW3IMiWAoSAxxi3lAWczEv4KLwuEITMt9+FhAIgiZGIhtRSh5Is/RMHaxUidV+zg9Z02YdmsO4n3ALo1P+Zle4vYeCvHhhjKZdXdA0o/FkWrBwsN4IzH0J0Okk1kwj8NGnzUR8Da4d1cqzT3/w7FNpp82+zbeh8ay21EEilBgCW2F29/pJZPc6+48wWdtvvskc7TG4Rzctqd1tY6BSKPwSyTfthezB+nlJW/Kyw5tLOtDtoejVq4SeLhImwAB9+zwfn2ZVGbcmQEOqe4wdz3eiX8nCW2V5ozj4nzJSGNN1x2B5izSvGzJiFpvS/DFnDQtglzVi8EbHAAA0PQu5dP8Asgsk0EP1/C/KZ2mi9YdgatDsFl8Gq6ZanL/5puVHDFGLb3DAeV2j/wAzFA7GUOUoX+aNPtq6ud0WIUmtUjLzcNwpX8Tvy/mUw7P2UGWP/wA+6kfbkA/1+rtuvtLwO7F9cgvR6qIlTF2FsBNQRD2v3SJpQHPf62hRrJ9B3Y1z2/VUVuQxYMQECn6D7d+ALwsoiiwNhukfCoEsR2YNIWo2z05utpYT4M38u4mKTl68Cmz7t3EwHNvZdlg1bGIGnfTfX7coepVXCC9xzleg6Njrg7jo1m4QR2afwwbOr4JoU8IxBrD0OYMm8QSWqoKO4PQDl/8AImrC13dCb61WyD0G8zM3VAPmGAq6dcCsMRE8/UfduwzRiIexulsS5oM2L0shDki2COfSpdXUnuA4uofjBOwAPjpWq4KVEIgkDveryYBG6V8J7+q710jCN+1GAh5yxNo5mHG7xr2T6bw096N24n9/RtGmmJrnaGuRQalPJG6+7XKBnr7FSohBAfuU4pgbEk+KCjQBFRsds+bpH+XCvgAMIjVd2EMrwRegOXXZxCHZBIghsHZIC9SFUt+hAoAFqyw5LFZtgUECJYk0OaxKc3sBrpxn0rV239LsbIIlIrWJb5MqmKfS7kISJ6Vi12BTRfnKG6AjhavBHz5gErEhs/BYrG+62IooehXuHgFGzRt9yW4Q7N7/AFtEkWTCtabhMdtBLgLKFa6G+xyYbgYvHwRmuqVRrUOeXx8A0hpsUYI8OZeCeKZljMYvzgfADusOqqVsqBbdy82RdAEvX+7RLWVOBjkN4i8bUIaHvKSBpc7UhsViPbCSfItdp5EE3Ta3OVHiCLNn1vvx7irYviUMbat7mCejQwfN4QABoH2ez6A6B3+wMeCyy3ayJmbEeEJQyAQBC0iRgEu/9slqLMrv5VlBZG5Fnkym+DUv+TBPKkb7ZtCnOKaEZOXmDahioT38udsuS2VLpoQoG1QprHXP0bLkZUS/Vzn8F5m8M0IeUETgnNOzxERZlkmOa+cVxfvNm/EQOpLaAsfud8n5mu+yetaoOo/WtW1WadtzaM4Wy6ST3B/ECEh/j/LZgFQDgnY+jP7ncfuH5ZiDXW2+DUUBzE78ahXy2sawEAAoDAB9zv8A4RWez9m2gyq0vrz6KBRc4ABF8CBG4P8A6hqLrPqqVm8oZfx6811eZs37/cPmJQ8/tAAFAALNGmBgBoBR7xCmCjTdJqeq4erbkDBc2fZQBt9mLe8k2UzEuw3wL+r8mD439SwoWvREHcZV6lqvoD7GW4u/b6tVo1Gxoo2fV8QNVWF2JUr9d8fp0ETs0Fy55xsgLfwNW65LgrVoyxmNIq3QEYXVT6sbeoNz8yYsJyzvkxW3aoSYIs6cUuuox31BeE0UtYHRE6EUdzl8EDBN5I/Rd5D7l+4dNHHylkNcGitGtk9whR+xcSyNv1q/aPKzKgQPQ4PrUH2OixzkLJ0h1AU1PQn8VvAaYjK6a8kqVh1U1XuPNTchQFWiALETkgt1+YFJCTCzKdUARPq0fDVJlT+zDwPjfObmOlLVZbXshDssQ4q4vUbCyKR+Gh0NfOt3tcshGqiV4rhT6owrR1Kz9kYaCGTNQ1vHsUuhSJ4qE0NrD6Nda0r3Yrhf4CYC9nyCOEc9gg66Q1WXfAdaBbEesc4o6D+IiN3LX1ECUKbjaBLXfw56fRfH6lS8+2u4h3Wa/G3whhVi3adsVL6WPRQpHhl4bEC/wGPC7zI0bSpZNZ3T3miMz0+Bg2X6KM1DCi736uFlZdYEl+5r6XKZvo1dw4v55GcYmQxhMn0quV+YwCx1yg74TN1MGsc52bdyuXqtML+Mbrvt9qVyF70ZoM84X8Q6OVH7dA9E/FGhIwimU0dkISqOcmgwQaU1SdSAGPoFOO1XqeEUBkAC1diCGxcxDjUS8qelguT+qCVg9EDM3KTj17sVXa4tja9ZjOmioh5zrazm9kMuDrGwKRitJqmrsoZGXceUUYMjAdyQCe7cYC4/tiura8Z4YIvZ5q7hRcPDmZoyWipR/wCAqjC8pLY15uVU0b42g/Z22l1dh5uyAiNHYXt+7KbeF9XtQUgAA4Poq5Iwe/tyuQyKVWAVV0xQ4ePORYa25NT5lFEDDrci7wfQiKsDRtUadbGumZSdVte+MUppdrtmv5pQJaiE9wiZewQotn26vWNTlayJG4pgDAqoyxHZxe7olBkVvsSDDGG1Sz8xztV5oLBfbWIweUVlz0zyO5Gazdm1DrAXfcxb78rY4mGOokInwqkDYqa3I0aTQqmqcbgt4pgAIaSjMnfmSLVxMzV1NDkwZEVwW/vLTAq+6qFcKTB/5/oH8L1biX1B0drjSt4BtUo2Vmu9OtzymiTPC7hTqoHqwF7omI0kBz4rhZkjmfl8s0CoInwxea6sm39vZsM6dSfF0qcMIIagep8pn1qYYA9GkTI0QAACj0XWiP8As4SL9NqlHBKTqVc5NgwIw6XoeLlCVUZM/lI3ElGcWtg4Pos8QeKvaOZibDGLsbgXYsDs+i2pxaWV3Cgb6vB1QfNpf1FGohqFtZfKasWpQ45jXXhF6HeagNxcdS/3RgL0Ew1UWVonAVG6ddb3uKJ9yjh3sVYLJW20v6sHmikMJUAqlgNtFQ3DgusTNuVGLZrzjAqgp8hGog13MBPkzDxGi7QPYKC2q3XkENJrYd6AyjDx1boYLxdi6efQhYUJ2/R6s39TRxNKRx7alJdXwxUK/ki+iPtBpAKnMH20LFE/uBPWS6zWyWJ6K77EK3F+yLFFW2+1dIvgB7Uggpb9ivl9V6p1t/eguXNVC4s66uMX/QbsTVSNzJCfhj1YXSfUuVQKvYhGVMIDv0WumOod2XyUiO8MKTpOeDpf0eBAWnuqCSgQfIbZJvsfEDgH1gghFNgPPYRaIDQ3CkUY6pm+muUOgwFqugWAMutNIIudLpWwYrC2SOCrFw0eiol4ur7HqF59S0W0uFW2Ku44pf1NQhtRWqcwB+H3PSSwdWhm6CTXyalgwQ+nlbHeD3+J07D0Hgvj87jBiycl32HHeOm41vn2jMgPgkHeBe3lkAZWBwMBuMNzkvnAHdl3w6dmLARdC8viDif04C1ZnhXAl12YRPYuhi5zXQa60GdyLMNoAae8FfQKxq/unNEAcQL51DLrYMrzjoF2EH5gPAXdnU07s7zlF8/+YssO396MVlkkDC2mVKJrSEqbPDvf0MnTCORzhtSF5koDzHSFsCx29GeWtdyMxMpYvBMB65RimaFKrW0rZ/anc2UzIbS5T6TF3O71CE9orUeNWJhBPQli7Xguh8Q3Ptr7DaaZNNHn2smsVKUlNe8zUvLUhLd5Xf0B5UZjGBBo1XjTXObNaORJfmMCKDfEy4A/r2sM0MJp1J8xDUaoSbJ3gEvVt+E6FqCsG1Q3omle5nHdA3YDqOdUu5LrgUwtlyNszSr2V9lbxVv/AFnXsZ9GrJO8iEGfKyA6R+5OXoYi/iXRmzOIvKl8OiisuOfneubS1VquKSmBrx8vokkXMyyWtz0JLBabaNaG3JGsL10ECGnbjKdbJErhT5FjnZ5DZGVoBubbUpdPoV2+OPZdv6k1pf8Ap7VtptLquAKsOpH5GwrE4NyDpt1Z2QxnrX5PCbQdDAhSjS3iKkiT5SRXs7YU3B2OmQhIABCAAwBGN5t5a7wIQGOAgbnpB7vu9MGMwkBsXBKAOx1O8iOAWx7aeXYoFqEESx6jtvbTT9D2Ri+YlzShQ7djpYPflWH6ttjUB5+FjhxDtX9BuscaAfseiBEbO3Qqg9UkeOvVzIC7tOhWTyXbS0S3MDYokItqxiqlNp+9c63Dfveg4twNwvcjrcrqBSdbtfk9FQ9lQIbzIeUuzPsNfP8AKI4iub5frH+Ds3slIrrVlWIpXrvXcvdgezBbB7FwMiL8aZai6us1F2BpyxXuj45HXBYUIJ1ENT5dCEBy2qL6FpLfKjJ9KCNlEBLHO57dH2KnE5DMfWIJT9WAQJpTd4D2XNqBQtzsRvbEHs+gxrxih9dSHXBNH0qeFt2CI8vbw9/oDnjW2POiMf2APpJ3d7b0BD0rlSk4DLLh4JZQ5ReLGdZOhe8MVoH8skOQ2qqQtn4fPg37F5qIf4ksH/nx64D3/gWwT5Hu9ISTBoxVEv5MCqTI3gJSdR5TJdlsBwa0UEBAiCJoj0rDdrnrIrI6xljmI+DNMNMKULlDNjTyEskKPKRpXTQTL/2iAVQDdg2k9PD055YTo21/n2cGjl4JTgEe5lNvRSCOy/TS0HPHpoho08UHMCkDBgEImwl8sPTs6P4353g7OKL6wdr1jY90MVYk5GM3ktQG6sy8XuzLAGxSfggSuuTu6H09n0msS4yxDg3NFhvY+kJU8KsVHfPyo6ML0se9oHIe5mNYUslMnWxnRf1GVYwuhYWUlcU3gcFvsgoNvwlCgbAN4vpWtoaW2Ja793htRhkXRVWNSQX5e7jZLK9RH4EE8VW9tgIzsCuxGTsSHRIEW+V2Mydrfm2GoSX2uwV7ulAlYmjDiq6pddKQyxXY5UzbvjFbLXWNOlABVAN2XibuP2NYglWRaf2WEyoN+CXOWaGmkrUhdFKWYW+omDOnZsIqBFSmxzFtPi7kiBkmYjlxgYTuYozGlkV81DfC4dqJTUuJrmFHXg7+nbtKXLbtezbI4n5mnaAOW81D5i4LgI/XZeDKiJg+raEAKyWvWgOxjSypiXVz9mYdiLCHiibcZqVXkDDVtSZIpuvzcvmJfvPjrwC3nwLu9o6l9o01NsxcZo/TnQqkOjabtasbPnA/QWDlGjkLuHRoTqyDBEgxp3tZNYkkYYeYN1F61aQYXTdMvCf5+PstJYIIaAWAsZdCPGjdsplsC96KA3WMop90kAESR7hiLCSxZZHX/KyGmAe2DR0Z0QKg7snVyVMegW8TRJhGn+J6BnR/Dob4+McKhr41B5U8STRUaNKn0LFqawMKFNQY6l5vBzExerjLnXNlYoissF06tMJaNuSQLqJCE2rQAQBN80MqiOOCGGqsO0PrdPqzCSrxxjsAVIFtxPOfz5ZerfC8UCKBbEZWVV3KQU7RVmK7rvxJvuDCV0ml51Wd8REMhBVdhM8UlZQQJBQgQ9Gi1snmOxhDEWwC1MM7oDAeTMOfEr6yOM4uGkKQQOCDEmGSg0CGbIt1XZgyvbVkbmCtWM+mu7MSFe0G8nb3e8flfEAWaQbfXIOG33YzbCDbi9NqDu3ZQdz/AH2mInLX41tJ5iw9O+HkHO0bQN/ryoqcVNPkt4I+5FMCjQayf7cRhyqWdyHTHKEU/T211SNbgx8l9K3RoxDsEq2j8ungg4YudTuTq2UHb1m8Kzq9ewqM+s9N2yX0CtR2RR940/gRfAEhLSMIEhxMvaD5SkRhMumx4+2GgZAyCluvBLyGys7LDPHFVVlfMHhIgD8/DIAPBd8Zql1XJPTUVBsVCP4el0xGCz/6PRZQ2scQIou2s0hb2DvykgQpUc+QOnNAcF7wkB3bgryFJibBXT0JCoaMDySFa057CkhWoM1ptV1g8B3Lz4nf2DyCTwAFl8LHngtfpUNUAA9yaWBbu/wINwZni8wkpbW6nmiZwUr0oVWJlFDatXywcqNFMy/bfVvhiIVDfAqDjVWFhDnawyTA6rr4wChRHOHWTOHbGD2DoIrIZa4k06mETT6RUrky0uA0oM2Kz0VUFrwFwCDI9iIelaJX/wApm32lWNcQV5hoAABgAgCksjZVR6k3Y572EIrAzAxjy2BUdeQgbWBgTBiHj74uA6DZBKDZ2BIxoHUO3mpdjSvm2YYPzGG0eV6IOp6G4xFsGYWL7Cn5F7YkIKRLEmW22/j0YU3krV8vTIOY3roaWivwqPzW9jR+h0hGhitxQpEB0AfSosIp4LU6N9Cs7yBOvVbQYgh9PbByfgLJWhfIertfzCbWr/v7kUqQac1Bdq2xkOCvrEEpIRuyoWq3gAAPbQSmC0KPV/2yITr66Y+1Wz2QKWNuj31txohnHHRj7k6T/sR8C+voJFBAItOgieflddCP7U8vl9OPqRrTSk4CGkGDVlU0SBjihkNfxy4+8/nq8EMIC5gdGRmwNFWQx1+t0rjF+ZTUIVDP1rtcyxgi9zWY84x4Ixfso41EonWDcLVfcXSf/O/9xUC/X98g1nZrpPAWbi4X32R3FFjDZENwwh9zOhoqRzipmOc1jkeKsq9XaD3BvAZZqW7bIRJIn10kxdzndzIRJv0z4AXneujLNHcHTOiApjp/BU+46k/5spjfrzomgoqlYKgpXaEsQRojDUNRwJ2rRD2o08/kxcB74rSbVlbQEJ8mz2ELEBpiFC4IlXvKpjyK+35kVfBrDMDGHGIpcMoWwiHZtHA+fr0HrZsH77fcW04n/wAGXOFNMcfXpSUqNx66PW0EjqMdhfArotC1DUebSnH3FfBxP/kMZzJv7i5YG6AX9x/Qn/EjrePtpYXOYWll6e4ptmXIPPVTt0+DVgmbIhTRdPc/g1cnD0McZSvaSC6fBwQAitga2l7SqDZaYnYHYM+yQndAWXOIrbAQItS0biumICnmoRQGDkvX7wajVuYW2B92iNYBGaUShtdXxPfgBasEZFiWfcv1JebDxMPY9pjCbdWmJ/AgObtrkaZoY+ynPbNwagVhkR6EU3acB0h8svfOxwBePQ/KvpEg7iOYlQAQGpeaDXOrWhVSvd3o3lc1qxpVWhXhW0YV3GCgp2gCj07PtgZz2uYkToMh91BHG1JXXVcCMxeXiPQ7L8ciolsl2IMP3LqT/nQiA1m+PZs9OaAIOylNpOd5gYK5YRAqhri2y0Rb2MQ8DbGthC8xmi7sB0cZsdSA6yCKY+dh4XeSPjnRVpgF6VDT1ggpJ4HJKCcw8V5vdGzCUNUMxJVblOETsDebM5QY7kp/HZfPc2Xh/Bvzg7U4qWAqMj1T0RFZpC7BGlXepfS5pQfuCDLQ6uwvBMfnljT/ABMT+/umG61yRNebmunQ5C56DlCK95Fkvg1WZylu3S4hQoxzwGeBejBoPVrXicMJNE03wv7i6M8n5JYG9PsjhaLdErLhXZAQAHYgDU+WEz99F1GoK57QnleiGVb0lhWrK8/IjQ4EzBdlVdzyvyDYItuOjcoEtOgv/c2Vv+SH0n0Re1gAAErItoHMenH87dAuuG/SvdBS71kz9t5rBpQQNFDJExv+aFke6Cuaw4Cgj9HmAEbCP2rsEUY67NxA5k7LRlNNsk1CAIDS72iHSBZlMHeYCw1NEmBIUNon94Ka2vuj0BGUfMtpn81/c00/H9L2+eF0TT1cve51qEkIqjQgUlyio4iF5/U2awjbBq6tsqqr8zBuwmsFWBIcEt05iCnG7wbqCcIvpyVv0CMrjkwhAN7i/crS7VzBIQFUQCaFSOjDNvTdCkGEIUEVAwXHAlKYDQlulgpt0m3Og7wWSyxKRhxo1B4go9k2U4kHEz169OsrNWwURcW9jo2egatvmFQjPaJdn7lb8TC/P/n9tySyVe5u/O1qQxwMAOjmECPeW2IJu+C2mmgAHrv6KQBTu+5RHZ0K903YAfcVolvENFx/X9x4rimpv+LGiQpI01hJ5v6f8kweMAHGP8koZ0/pfwkKA+rq5P8AB9QH95GACEeGwbHoqOoRFXD1SCpCRpdoyvAL8XfwVfunn6gszmgatsI5tosspt5zwmr6B2Vi81Ii4cc03mxe7zp/BUBWV/p996XrKu6LBZapps94F7PjxyhCI0QT1bgiMwoKF26Vrqz5XQmRGkY7V1y7v7GDc707jN2HFBlxyP8ABKh3z/j282aVv6Bo77+ywA0AFAENxSu8aQdAF9f9mEhp6cFcIroINY4CBb0NrmNR7tB1kLFD9RH73JwLB7MphlxQ4fMvzt2n9AmQpiG/rUe3XXXVOi4wohTIPSt3MnmVrKWVIGJqVdAoDRqA/gn6n+R33n6r+R0n6n8joh/I6cfwJv8A/arRCWe/m/4rrzij+SboQwWz2g8QBRkR/hd6/Q7JS4Ny+mQKZfM6VnhhM4SERMJk+9Zvrn3M10er49ZczG4Y2jYkzUL3l1UYmQ1dQ0UeZ4YlrudjrxPJGviB12jp/idLOyWP2C+ln0NnUEEdJd49s9b7zaREp5gMOqgVgmjP/9k=)"
      ],
      "metadata": {
        "id": "DVZxWjidEOXI"
      }
    },
    {
      "cell_type": "markdown",
      "source": [
        "#B. Practical Questions\n"
      ],
      "metadata": {
        "id": "skvw3ml8by_A"
      }
    },
    {
      "cell_type": "code",
      "execution_count": null,
      "metadata": {
        "colab": {
          "base_uri": "https://localhost:8080/"
        },
        "id": "2fRwnfMqX9Jt",
        "outputId": "2fde6c2d-b498-465b-a202-1f53f1a7fba1"
      },
      "outputs": [
        {
          "output_type": "execute_result",
          "data": {
            "text/plain": [
              "20"
            ]
          },
          "metadata": {},
          "execution_count": 2
        }
      ],
      "source": [
        "#Q1. Write a Python function that takes a list of numbers as input and returns the sum of all even numbers in the list.\n",
        "\n",
        "def sum_even_numbers(numbers):\n",
        "    sum = 0\n",
        "    for num in numbers:\n",
        "        if num % 2 == 0:\n",
        "            sum = sum + num\n",
        "    return sum\n",
        "sum_even_numbers([1, 2, 3, 4, 5, 6, 7, 8, 9])"
      ]
    },
    {
      "cell_type": "code",
      "source": [
        "#Q2. Create a Python function that accepts a string and returns the reverse of that string\n",
        "\n",
        "def reverse_string(string):\n",
        "  for i in string:\n",
        "    return string[::-1]\n",
        "reverse_string(\"Sumit\")"
      ],
      "metadata": {
        "id": "n2ISnFNleYrH",
        "colab": {
          "base_uri": "https://localhost:8080/",
          "height": 35
        },
        "outputId": "167909d8-4b8d-49fb-b98a-bf933851c8f8"
      },
      "execution_count": null,
      "outputs": [
        {
          "output_type": "execute_result",
          "data": {
            "text/plain": [
              "'timuS'"
            ],
            "application/vnd.google.colaboratory.intrinsic+json": {
              "type": "string"
            }
          },
          "metadata": {},
          "execution_count": 4
        }
      ]
    },
    {
      "cell_type": "code",
      "source": [
        "#Q3. Implement a Python function that takes a list of integers and returns a new list containing the squares of each number.\n",
        "\n",
        "def square_list(list1):\n",
        "    new_list = []\n",
        "    for i in list1:\n",
        "        if type(i) == int:\n",
        "            new_list.append(i**2)\n",
        "        else:\n",
        "            print(\"Enter only interger value\")\n",
        "    return new_list\n",
        "\n",
        "print(square_list([1,2,3,4,5]))"
      ],
      "metadata": {
        "colab": {
          "base_uri": "https://localhost:8080/"
        },
        "id": "hOMLhnYF1vTr",
        "outputId": "bf4f63e5-251d-47c9-ad35-32828c1dab8b"
      },
      "execution_count": null,
      "outputs": [
        {
          "output_type": "stream",
          "name": "stdout",
          "text": [
            "[1, 4, 9, 16, 25]\n"
          ]
        }
      ]
    },
    {
      "cell_type": "code",
      "source": [
        "#Q4. Write a Python function that checks if a given number is prime or not from 1 to 200.\n",
        "\n",
        "def prime_number(num):\n",
        "    if num > 1:\n",
        "        for i in range(2, 201):\n",
        "            if (num % i) != 0:\n",
        "                print(num, \"is a prime number\")\n",
        "                break\n",
        "        else:\n",
        "            print(num, \"is not a prime number\")\n",
        "prime_number(51)"
      ],
      "metadata": {
        "colab": {
          "base_uri": "https://localhost:8080/"
        },
        "id": "bXlUqTvC6Utw",
        "outputId": "adf0e867-a687-44d2-b3e9-e134f533c904"
      },
      "execution_count": null,
      "outputs": [
        {
          "output_type": "stream",
          "name": "stdout",
          "text": [
            "51 is a prime number\n"
          ]
        }
      ]
    },
    {
      "cell_type": "code",
      "source": [
        "# Q5. Create an iterator class in Python that generates the Fibonacci sequence up to a specified number of terms.\n",
        "def fib(n):\n",
        "    a = 0\n",
        "    b = 1\n",
        "    for i in range(n):\n",
        "        yield a\n",
        "        a, b = b, a+b\n",
        "fib(10)\n",
        "ab = fib(10)\n",
        "next(ab)\n",
        "next(ab)\n",
        "next(ab)\n",
        "next(ab)\n",
        "next(ab)\n",
        "next(ab)\n",
        "next(ab)\n",
        "next(ab)\n",
        "next(ab)"
      ],
      "metadata": {
        "id": "_aWPNUym6q6P",
        "colab": {
          "base_uri": "https://localhost:8080/"
        },
        "outputId": "541d29b8-03c5-4789-b818-0c7c8b4d6138"
      },
      "execution_count": null,
      "outputs": [
        {
          "output_type": "execute_result",
          "data": {
            "text/plain": [
              "21"
            ]
          },
          "metadata": {},
          "execution_count": 4
        }
      ]
    },
    {
      "cell_type": "code",
      "source": [
        "#Q6. Write a generator function in Python that yields the powers of 2 up to a given exponent.\n",
        "\n",
        "def power_num(numbers):\n",
        "  for num in numbers:\n",
        "    yield num**2\n",
        "a = power_num([1,2,3,4,5])\n"
      ],
      "metadata": {
        "id": "yLDioTrft6cT"
      },
      "execution_count": null,
      "outputs": []
    },
    {
      "cell_type": "code",
      "source": [
        "next(a)"
      ],
      "metadata": {
        "colab": {
          "base_uri": "https://localhost:8080/"
        },
        "id": "D6O_isUsyW89",
        "outputId": "365044bb-7333-4a39-80e3-3b2bf83be64f"
      },
      "execution_count": null,
      "outputs": [
        {
          "output_type": "execute_result",
          "data": {
            "text/plain": [
              "1"
            ]
          },
          "metadata": {},
          "execution_count": 8
        }
      ]
    },
    {
      "cell_type": "code",
      "source": [
        "next(a)"
      ],
      "metadata": {
        "colab": {
          "base_uri": "https://localhost:8080/"
        },
        "id": "r-rhTkpHydZy",
        "outputId": "38291ca6-c0ba-46d0-ea73-4508e9a79d3a"
      },
      "execution_count": null,
      "outputs": [
        {
          "output_type": "execute_result",
          "data": {
            "text/plain": [
              "4"
            ]
          },
          "metadata": {},
          "execution_count": 9
        }
      ]
    },
    {
      "cell_type": "code",
      "source": [
        "#Q7. Implement a generator function that reads a file line by line and yields each line as a string\n",
        "\n",
        "def read_file_line_by_line(file_path):\n",
        "    with open(file_path, 'r') as file:\n",
        "        for line in file:\n",
        "            yield line.strip()  # Yield each line without trailing whitespace\n",
        "\n",
        "# Example usage\n",
        "for line in read_file_line_by_line('example.txt'):\n",
        "    print(line)\n",
        "\n"
      ],
      "metadata": {
        "id": "4_Xh8zrDyicy"
      },
      "execution_count": null,
      "outputs": []
    },
    {
      "cell_type": "code",
      "source": [
        "#Q8. Use a lambda function in Python to sort a list of tuples based on the second element of each tuple\n",
        "\n",
        "# List of tuples\n",
        "data = [(1, 5), (3, 1), (2, 8), (4, 0)]\n",
        "\n",
        "# Sort by the second element using lambda\n",
        "sorted_data = sorted(data, key=lambda x: x[1])\n",
        "print(sorted_data)  # Output: [(4, 0), (3, 1), (1, 5), (2, 8)]\n"
      ],
      "metadata": {
        "id": "ahtOLkE1HDjO"
      },
      "execution_count": null,
      "outputs": []
    },
    {
      "cell_type": "code",
      "source": [
        "#Q9. Write a Python program that uses map() to convert a list of temperatures from Celsius to Fahrenheit\n",
        "# List of temperatures in Celsius\n",
        "celsius_temps = [0, 20, 30, 40]\n",
        "\n",
        "# Convert to Fahrenheit using map\n",
        "fahrenheit_temps = list(map(lambda c: (c * 9/5) + 32, celsius_temps))\n",
        "print(fahrenheit_temps)  # Output: [32.0, 68.0, 86.0, 104.0]\n"
      ],
      "metadata": {
        "id": "t9uFnrUhHqFA"
      },
      "execution_count": null,
      "outputs": []
    },
    {
      "cell_type": "code",
      "source": [
        "#Q10. Create a Python program that uses filter() to remove all the vowels from a given string\n",
        "\n",
        "# String input\n",
        "text = \"Hello, World!\"\n",
        "\n",
        "# Remove vowels using filter\n",
        "vowels = \"aeiouAEIOU\"\n",
        "filtered_text = ''.join(filter(lambda char: char not in vowels, text))\n",
        "print(filtered_text)  # Output: \"Hll, Wrld!\"\n"
      ],
      "metadata": {
        "id": "tAjEId8UH_8i"
      },
      "execution_count": null,
      "outputs": []
    },
    {
      "cell_type": "code",
      "source": [
        "#Q11. Write a Python program, which returns a list with 2-tuples. Each tuple consists of the order number and the product of the price per item and the quantity. The product should be increased by 10,- € if the value of the order is smaller than 100,00 €.\n",
        "\n",
        "# List of orders: [order_number, price_per_item, quantity]\n",
        "orders = [\n",
        "    [101, 20, 2],   # Order total: 40\n",
        "    [102, 50, 1],   # Order total: 50\n",
        "    [103, 15, 10],  # Order total: 150\n",
        "    [104, 5, 5]     # Order total: 25\n",
        "]\n",
        "\n",
        "# Process using lambda and map\n",
        "result = list(map(\n",
        "    lambda order: (\n",
        "        order[0],  # Order number\n",
        "        (order[1] * order[2]) + (10 if (order[1] * order[2]) < 100 else 0)\n",
        "    ),\n",
        "    orders\n",
        "))\n",
        "\n",
        "# Output the result\n",
        "print(result)\n"
      ],
      "metadata": {
        "id": "VmZ_OcGZMDMY"
      },
      "execution_count": null,
      "outputs": []
    }
  ]
}